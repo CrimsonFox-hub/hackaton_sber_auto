{
 "cells": [
  {
   "attachments": {},
   "cell_type": "markdown",
   "metadata": {},
   "source": [
    "https://disk.yandex.ru/d/dpksnSnV2gXUwQ"
   ]
  },
  {
   "cell_type": "code",
   "execution_count": 9,
   "metadata": {},
   "outputs": [],
   "source": [
    "# %pip install --upgrade pandas"
   ]
  },
  {
   "cell_type": "code",
   "execution_count": 10,
   "metadata": {},
   "outputs": [],
   "source": [
    "# Импорт необходимых библиотек\n",
    "import pandas as pd\n",
    "import numpy as np\n",
    "import gc\n",
    "from pathlib import Path\n",
    "\n",
    "import matplotlib.pyplot as plt\n",
    "import seaborn as sns\n",
    "import plotly.express as px\n",
    "\n",
    "from sklearn.model_selection import GridSearchCV\n",
    "from sklearn.model_selection import train_test_split\n",
    "from sklearn.preprocessing import (\n",
    "    StandardScaler,\n",
    "    OneHotEncoder,\n",
    "    OrdinalEncoder,\n",
    "    KBinsDiscretizer,\n",
    ")\n",
    "from sklearn.compose import ColumnTransformer\n",
    "from sklearn.pipeline import Pipeline\n",
    "from sklearn.ensemble import RandomForestClassifier, HistGradientBoostingClassifier\n",
    "from sklearn.linear_model import LogisticRegression\n",
    "from sklearn.metrics import roc_auc_score, classification_report, confusion_matrix\n",
    "from sklearn.impute import SimpleImputer\n",
    "\n",
    "import pickle\n",
    "\n",
    "from lightgbm import LGBMClassifier"
   ]
  },
  {
   "cell_type": "code",
   "execution_count": 11,
   "metadata": {},
   "outputs": [
    {
     "name": "stderr",
     "output_type": "stream",
     "text": [
      "C:\\Users\\Aria\\AppData\\Local\\Temp\\ipykernel_904\\1956016661.py:31: DtypeWarning: Columns (1) have mixed types. Specify dtype option on import or set low_memory=False.\n",
      "  ga_sessions = pd.read_csv('ga_sessions.csv', sep=',')\n"
     ]
    }
   ],
   "source": [
    "def load_pkl_file(file_path):\n",
    "    \"\"\"\n",
    "    Загружает данные из .pkl файла с обработкой ошибок\n",
    "\n",
    "    Параметры:\n",
    "        file_path (str): Путь к .pkl файлу\n",
    "\n",
    "    Возвращает:\n",
    "        DataFrame: Загруженные данные или None при ошибке\n",
    "    \"\"\"\n",
    "    try:\n",
    "        if not Path(file_path).exists():\n",
    "            raise FileNotFoundError(f\"Файл {file_path} не найден\")\n",
    "\n",
    "        with open(file_path, \"rb\") as f:\n",
    "            data = pickle.load(f, encoding=\"latin1\")  # или 'bytes'\n",
    "\n",
    "        if not isinstance(data, pd.DataFrame):\n",
    "            raise TypeError(\"Файл не содержит DataFrame\")\n",
    "\n",
    "        print(f\"Успешно загружен файл {file_path}\")\n",
    "        return data\n",
    "\n",
    "    except Exception as e:\n",
    "        print(f\"Ошибка при загрузке {file_path}: {str(e)}\")\n",
    "        return None\n",
    "\n",
    "\n",
    "# Пример использования:\n",
    "# ga_sessions = load_pkl_file('ga_sessions.pkl')\n",
    "# ga_hits = load_pkl_file('ga_hits.pkl')\n",
    "ga_sessions = pd.read_csv(\"ga_sessions.csv\", sep=\",\")\n",
    "ga_hits = pd.read_csv(\"ga_hits.csv\", sep=\",\")"
   ]
  },
  {
   "cell_type": "code",
   "execution_count": 12,
   "metadata": {},
   "outputs": [],
   "source": [
    "def inform(data):\n",
    "    # Вывод информации о датасете\n",
    "    print(\"Информация о датасете:\")\n",
    "    data.info()\n",
    "\n",
    "    # Разделительная строка\n",
    "    print(\"\\n\" + \"=\" * 50 + \"\\n\")\n",
    "\n",
    "    # Вывод первых нескольких строк датасета\n",
    "    print(\"Первые несколько строк датасета:\")\n",
    "    display(data.head())\n",
    "\n",
    "    # Разделительная строка\n",
    "    print(\"\\n\" + \"=\" * 50 + \"\\n\")\n",
    "\n",
    "    # describe\n",
    "    print(\"Описательная статистика:\")\n",
    "    display(data.describe())\n",
    "\n",
    "    # Разделительная строка\n",
    "    print(\"\\n\" + \"=\" * 50 + \"\\n\")\n",
    "\n",
    "    print(\"Количество пропусков\")\n",
    "    for col in data.columns:\n",
    "        print(f\"{col}: {data[col].isna().sum()}\")\n",
    "\n",
    "    # Разделительная строка\n",
    "    print(\"\\n\" + \"=\" * 50 + \"\\n\")\n",
    "\n",
    "    display(f\"Количествово дубликатов:{data.duplicated().sum()}\")\n",
    "\n",
    "    # Разделительная строка\n",
    "    print(\"\\n\" + \"=\" * 50 + \"\\n\")\n",
    "\n",
    "    print(\"Количество уникальных значений\")\n",
    "    for col in data.columns:\n",
    "        print(f\"{col}: {data[col].nunique()}\")"
   ]
  },
  {
   "cell_type": "code",
   "execution_count": 22,
   "metadata": {},
   "outputs": [],
   "source": [
    "def encode_column_with_nulls(df, column_name):\n",
    "    \"\"\"\n",
    "    Кодирует значения в указанном столбце числовыми метками (начиная с 1),\n",
    "    заменяя пропуски (NaN) на 0.\n",
    "\n",
    "    Параметры:\n",
    "    -----------\n",
    "    df : pandas.DataFrame\n",
    "        Исходный датафрейм\n",
    "    column_name : str\n",
    "        Название столбца для кодирования\n",
    "\n",
    "    Возвращает:\n",
    "    -----------\n",
    "    pandas.DataFrame\n",
    "        Датафрейм с добавленным столбцом {column_name}_encoded\n",
    "    \"\"\"\n",
    "    # Создаем копию датафрейма, чтобы избежать предупреждений\n",
    "    df = df.copy()\n",
    "\n",
    "    # Кодируем значения (na_sentinel=-1 для пропусков)\n",
    "    encoded, uniques = pd.factorize(df[column_name])\n",
    "\n",
    "    # Создаем новый столбец (сдвигаем на +1, чтобы начать с 1)\n",
    "    df[f\"{column_name}_encoded\"] = encoded + 1\n",
    "\n",
    "    # Заменяем -1+1=0 на 0 для пропусков\n",
    "    df[f\"{column_name}_encoded\"] = df[f\"{column_name}_encoded\"].replace(0, 0)\n",
    "\n",
    "    # Приводим к целочисленному типу\n",
    "    df[f\"{column_name}_encoded\"] = df[f\"{column_name}_encoded\"].astype(\"int64\")\n",
    "\n",
    "    # Выводим информацию о кодировании\n",
    "    print(f\"Кодирование столбца '{column_name}':\")\n",
    "    print(f\"Уникальных значений: {len(uniques)}\")\n",
    "    print(f\"Максимальный код: {df[f'{column_name}_encoded'].max()}\")\n",
    "    print(\"Распределение значений:\")\n",
    "    print(df[f\"{column_name}_encoded\"].value_counts().head())\n",
    "\n",
    "    return df"
   ]
  },
  {
   "cell_type": "code",
   "execution_count": 14,
   "metadata": {},
   "outputs": [
    {
     "name": "stdout",
     "output_type": "stream",
     "text": [
      "Информация о датасете:\n",
      "<class 'pandas.core.frame.DataFrame'>\n",
      "RangeIndex: 1860042 entries, 0 to 1860041\n",
      "Data columns (total 18 columns):\n",
      " #   Column                    Dtype \n",
      "---  ------                    ----- \n",
      " 0   session_id                object\n",
      " 1   client_id                 object\n",
      " 2   visit_date                object\n",
      " 3   visit_time                object\n",
      " 4   visit_number              int64 \n",
      " 5   utm_source                object\n",
      " 6   utm_medium                object\n",
      " 7   utm_campaign              object\n",
      " 8   utm_adcontent             object\n",
      " 9   utm_keyword               object\n",
      " 10  device_category           object\n",
      " 11  device_os                 object\n",
      " 12  device_brand              object\n",
      " 13  device_model              object\n",
      " 14  device_screen_resolution  object\n",
      " 15  device_browser            object\n",
      " 16  geo_country               object\n",
      " 17  geo_city                  object\n",
      "dtypes: int64(1), object(17)\n",
      "memory usage: 255.4+ MB\n",
      "\n",
      "==================================================\n",
      "\n",
      "Первые несколько строк датасета:\n"
     ]
    },
    {
     "data": {
      "text/html": [
       "<div>\n",
       "<style scoped>\n",
       "    .dataframe tbody tr th:only-of-type {\n",
       "        vertical-align: middle;\n",
       "    }\n",
       "\n",
       "    .dataframe tbody tr th {\n",
       "        vertical-align: top;\n",
       "    }\n",
       "\n",
       "    .dataframe thead th {\n",
       "        text-align: right;\n",
       "    }\n",
       "</style>\n",
       "<table border=\"1\" class=\"dataframe\">\n",
       "  <thead>\n",
       "    <tr style=\"text-align: right;\">\n",
       "      <th></th>\n",
       "      <th>session_id</th>\n",
       "      <th>client_id</th>\n",
       "      <th>visit_date</th>\n",
       "      <th>visit_time</th>\n",
       "      <th>visit_number</th>\n",
       "      <th>utm_source</th>\n",
       "      <th>utm_medium</th>\n",
       "      <th>utm_campaign</th>\n",
       "      <th>utm_adcontent</th>\n",
       "      <th>utm_keyword</th>\n",
       "      <th>device_category</th>\n",
       "      <th>device_os</th>\n",
       "      <th>device_brand</th>\n",
       "      <th>device_model</th>\n",
       "      <th>device_screen_resolution</th>\n",
       "      <th>device_browser</th>\n",
       "      <th>geo_country</th>\n",
       "      <th>geo_city</th>\n",
       "    </tr>\n",
       "  </thead>\n",
       "  <tbody>\n",
       "    <tr>\n",
       "      <th>0</th>\n",
       "      <td>9055434745589932991.1637753792.1637753792</td>\n",
       "      <td>2108382700.163776</td>\n",
       "      <td>2021-11-24</td>\n",
       "      <td>14:36:32</td>\n",
       "      <td>1</td>\n",
       "      <td>ZpYIoDJMcFzVoPFsHGJL</td>\n",
       "      <td>banner</td>\n",
       "      <td>LEoPHuyFvzoNfnzGgfcd</td>\n",
       "      <td>vCIpmpaGBnIQhyYNkXqp</td>\n",
       "      <td>puhZPIYqKXeFPaUviSjo</td>\n",
       "      <td>mobile</td>\n",
       "      <td>Android</td>\n",
       "      <td>Huawei</td>\n",
       "      <td>NaN</td>\n",
       "      <td>360x720</td>\n",
       "      <td>Chrome</td>\n",
       "      <td>Russia</td>\n",
       "      <td>Zlatoust</td>\n",
       "    </tr>\n",
       "    <tr>\n",
       "      <th>1</th>\n",
       "      <td>905544597018549464.1636867290.1636867290</td>\n",
       "      <td>210838531.163687</td>\n",
       "      <td>2021-11-14</td>\n",
       "      <td>08:21:30</td>\n",
       "      <td>1</td>\n",
       "      <td>MvfHsxITijuriZxsqZqt</td>\n",
       "      <td>cpm</td>\n",
       "      <td>FTjNLDyTrXaWYgZymFkV</td>\n",
       "      <td>xhoenQgDQsgfEPYNPwKO</td>\n",
       "      <td>IGUCNvHlhfHpROGclCit</td>\n",
       "      <td>mobile</td>\n",
       "      <td>Android</td>\n",
       "      <td>Samsung</td>\n",
       "      <td>NaN</td>\n",
       "      <td>385x854</td>\n",
       "      <td>Samsung Internet</td>\n",
       "      <td>Russia</td>\n",
       "      <td>Moscow</td>\n",
       "    </tr>\n",
       "    <tr>\n",
       "      <th>2</th>\n",
       "      <td>9055446045651783499.1640648526.1640648526</td>\n",
       "      <td>2108385331.164065</td>\n",
       "      <td>2021-12-28</td>\n",
       "      <td>02:42:06</td>\n",
       "      <td>1</td>\n",
       "      <td>ZpYIoDJMcFzVoPFsHGJL</td>\n",
       "      <td>banner</td>\n",
       "      <td>LEoPHuyFvzoNfnzGgfcd</td>\n",
       "      <td>vCIpmpaGBnIQhyYNkXqp</td>\n",
       "      <td>puhZPIYqKXeFPaUviSjo</td>\n",
       "      <td>mobile</td>\n",
       "      <td>Android</td>\n",
       "      <td>Huawei</td>\n",
       "      <td>NaN</td>\n",
       "      <td>360x720</td>\n",
       "      <td>Chrome</td>\n",
       "      <td>Russia</td>\n",
       "      <td>Krasnoyarsk</td>\n",
       "    </tr>\n",
       "    <tr>\n",
       "      <th>3</th>\n",
       "      <td>9055447046360770272.1622255328.1622255328</td>\n",
       "      <td>2108385564.162225</td>\n",
       "      <td>2021-05-29</td>\n",
       "      <td>05:00:00</td>\n",
       "      <td>1</td>\n",
       "      <td>kjsLglQLzykiRbcDiGcD</td>\n",
       "      <td>cpc</td>\n",
       "      <td>NaN</td>\n",
       "      <td>NOBKLgtuvqYWkXQHeYWM</td>\n",
       "      <td>NaN</td>\n",
       "      <td>mobile</td>\n",
       "      <td>NaN</td>\n",
       "      <td>Xiaomi</td>\n",
       "      <td>NaN</td>\n",
       "      <td>393x786</td>\n",
       "      <td>Chrome</td>\n",
       "      <td>Russia</td>\n",
       "      <td>Moscow</td>\n",
       "    </tr>\n",
       "    <tr>\n",
       "      <th>4</th>\n",
       "      <td>9055447046360770272.1622255345.1622255345</td>\n",
       "      <td>2108385564.162225</td>\n",
       "      <td>2021-05-29</td>\n",
       "      <td>05:00:00</td>\n",
       "      <td>2</td>\n",
       "      <td>kjsLglQLzykiRbcDiGcD</td>\n",
       "      <td>cpc</td>\n",
       "      <td>NaN</td>\n",
       "      <td>NaN</td>\n",
       "      <td>NaN</td>\n",
       "      <td>mobile</td>\n",
       "      <td>NaN</td>\n",
       "      <td>Xiaomi</td>\n",
       "      <td>NaN</td>\n",
       "      <td>393x786</td>\n",
       "      <td>Chrome</td>\n",
       "      <td>Russia</td>\n",
       "      <td>Moscow</td>\n",
       "    </tr>\n",
       "  </tbody>\n",
       "</table>\n",
       "</div>"
      ],
      "text/plain": [
       "                                  session_id          client_id  visit_date  \\\n",
       "0  9055434745589932991.1637753792.1637753792  2108382700.163776  2021-11-24   \n",
       "1   905544597018549464.1636867290.1636867290   210838531.163687  2021-11-14   \n",
       "2  9055446045651783499.1640648526.1640648526  2108385331.164065  2021-12-28   \n",
       "3  9055447046360770272.1622255328.1622255328  2108385564.162225  2021-05-29   \n",
       "4  9055447046360770272.1622255345.1622255345  2108385564.162225  2021-05-29   \n",
       "\n",
       "  visit_time  visit_number            utm_source utm_medium  \\\n",
       "0   14:36:32             1  ZpYIoDJMcFzVoPFsHGJL     banner   \n",
       "1   08:21:30             1  MvfHsxITijuriZxsqZqt        cpm   \n",
       "2   02:42:06             1  ZpYIoDJMcFzVoPFsHGJL     banner   \n",
       "3   05:00:00             1  kjsLglQLzykiRbcDiGcD        cpc   \n",
       "4   05:00:00             2  kjsLglQLzykiRbcDiGcD        cpc   \n",
       "\n",
       "           utm_campaign         utm_adcontent           utm_keyword  \\\n",
       "0  LEoPHuyFvzoNfnzGgfcd  vCIpmpaGBnIQhyYNkXqp  puhZPIYqKXeFPaUviSjo   \n",
       "1  FTjNLDyTrXaWYgZymFkV  xhoenQgDQsgfEPYNPwKO  IGUCNvHlhfHpROGclCit   \n",
       "2  LEoPHuyFvzoNfnzGgfcd  vCIpmpaGBnIQhyYNkXqp  puhZPIYqKXeFPaUviSjo   \n",
       "3                   NaN  NOBKLgtuvqYWkXQHeYWM                   NaN   \n",
       "4                   NaN                   NaN                   NaN   \n",
       "\n",
       "  device_category device_os device_brand device_model  \\\n",
       "0          mobile   Android       Huawei          NaN   \n",
       "1          mobile   Android      Samsung          NaN   \n",
       "2          mobile   Android       Huawei          NaN   \n",
       "3          mobile       NaN       Xiaomi          NaN   \n",
       "4          mobile       NaN       Xiaomi          NaN   \n",
       "\n",
       "  device_screen_resolution    device_browser geo_country     geo_city  \n",
       "0                  360x720            Chrome      Russia     Zlatoust  \n",
       "1                  385x854  Samsung Internet      Russia       Moscow  \n",
       "2                  360x720            Chrome      Russia  Krasnoyarsk  \n",
       "3                  393x786            Chrome      Russia       Moscow  \n",
       "4                  393x786            Chrome      Russia       Moscow  "
      ]
     },
     "metadata": {},
     "output_type": "display_data"
    },
    {
     "name": "stdout",
     "output_type": "stream",
     "text": [
      "\n",
      "==================================================\n",
      "\n",
      "Описательная статистика:\n"
     ]
    },
    {
     "data": {
      "text/html": [
       "<div>\n",
       "<style scoped>\n",
       "    .dataframe tbody tr th:only-of-type {\n",
       "        vertical-align: middle;\n",
       "    }\n",
       "\n",
       "    .dataframe tbody tr th {\n",
       "        vertical-align: top;\n",
       "    }\n",
       "\n",
       "    .dataframe thead th {\n",
       "        text-align: right;\n",
       "    }\n",
       "</style>\n",
       "<table border=\"1\" class=\"dataframe\">\n",
       "  <thead>\n",
       "    <tr style=\"text-align: right;\">\n",
       "      <th></th>\n",
       "      <th>visit_number</th>\n",
       "    </tr>\n",
       "  </thead>\n",
       "  <tbody>\n",
       "    <tr>\n",
       "      <th>count</th>\n",
       "      <td>1.860042e+06</td>\n",
       "    </tr>\n",
       "    <tr>\n",
       "      <th>mean</th>\n",
       "      <td>2.712804e+00</td>\n",
       "    </tr>\n",
       "    <tr>\n",
       "      <th>std</th>\n",
       "      <td>1.182907e+01</td>\n",
       "    </tr>\n",
       "    <tr>\n",
       "      <th>min</th>\n",
       "      <td>1.000000e+00</td>\n",
       "    </tr>\n",
       "    <tr>\n",
       "      <th>25%</th>\n",
       "      <td>1.000000e+00</td>\n",
       "    </tr>\n",
       "    <tr>\n",
       "      <th>50%</th>\n",
       "      <td>1.000000e+00</td>\n",
       "    </tr>\n",
       "    <tr>\n",
       "      <th>75%</th>\n",
       "      <td>2.000000e+00</td>\n",
       "    </tr>\n",
       "    <tr>\n",
       "      <th>max</th>\n",
       "      <td>5.640000e+02</td>\n",
       "    </tr>\n",
       "  </tbody>\n",
       "</table>\n",
       "</div>"
      ],
      "text/plain": [
       "       visit_number\n",
       "count  1.860042e+06\n",
       "mean   2.712804e+00\n",
       "std    1.182907e+01\n",
       "min    1.000000e+00\n",
       "25%    1.000000e+00\n",
       "50%    1.000000e+00\n",
       "75%    2.000000e+00\n",
       "max    5.640000e+02"
      ]
     },
     "metadata": {},
     "output_type": "display_data"
    },
    {
     "name": "stdout",
     "output_type": "stream",
     "text": [
      "\n",
      "==================================================\n",
      "\n",
      "Количество пропусков\n",
      "session_id: 0\n",
      "client_id: 0\n",
      "visit_date: 0\n",
      "visit_time: 0\n",
      "visit_number: 0\n",
      "utm_source: 97\n",
      "utm_medium: 0\n",
      "utm_campaign: 219603\n",
      "utm_adcontent: 335615\n",
      "utm_keyword: 1082061\n",
      "device_category: 0\n",
      "device_os: 1070138\n",
      "device_brand: 367178\n",
      "device_model: 1843704\n",
      "device_screen_resolution: 0\n",
      "device_browser: 0\n",
      "geo_country: 0\n",
      "geo_city: 0\n",
      "\n",
      "==================================================\n",
      "\n"
     ]
    },
    {
     "data": {
      "text/plain": [
       "'Количествово дубликатов:0'"
      ]
     },
     "metadata": {},
     "output_type": "display_data"
    },
    {
     "name": "stdout",
     "output_type": "stream",
     "text": [
      "\n",
      "==================================================\n",
      "\n",
      "Количество уникальных значений\n",
      "session_id: 1860042\n",
      "client_id: 1391717\n",
      "visit_date: 226\n",
      "visit_time: 85318\n",
      "visit_number: 537\n",
      "utm_source: 293\n",
      "utm_medium: 56\n",
      "utm_campaign: 412\n",
      "utm_adcontent: 286\n",
      "utm_keyword: 1219\n",
      "device_category: 3\n",
      "device_os: 13\n",
      "device_brand: 205\n",
      "device_model: 104\n",
      "device_screen_resolution: 5039\n",
      "device_browser: 57\n",
      "geo_country: 166\n",
      "geo_city: 2548\n"
     ]
    }
   ],
   "source": [
    "inform(ga_sessions)"
   ]
  },
  {
   "cell_type": "code",
   "execution_count": 15,
   "metadata": {},
   "outputs": [
    {
     "name": "stderr",
     "output_type": "stream",
     "text": [
      "C:\\Users\\Aria\\AppData\\Local\\Temp\\ipykernel_904\\807358194.py:4: DeprecationWarning: is_categorical_dtype is deprecated and will be removed in a future version. Use isinstance(dtype, pd.CategoricalDtype) instead\n",
      "  pd.api.types.is_categorical_dtype(ga_sessions[col]) or\n"
     ]
    },
    {
     "name": "stdout",
     "output_type": "stream",
     "text": [
      "\n",
      "Столбец: session_id (уникальных значений: 1860042)\n",
      "----------------------------------------\n",
      "Первые 5 из 1860042 значений:\n",
      "['9055434745589932991.1637753792.1637753792'\n",
      " '905544597018549464.1636867290.1636867290'\n",
      " '9055446045651783499.1640648526.1640648526'\n",
      " '9055447046360770272.1622255328.1622255328'\n",
      " '9055447046360770272.1622255345.1622255345']\n",
      "\n",
      "Топ-5 наиболее частых значений:\n",
      "session_id\n",
      "9055434745589932991.1637753792.1637753792    1\n",
      "6294640354816492625.1638728787.1638728809    1\n",
      "6294832296889291185.1623245519.1623245519    1\n",
      "6294832296889291185.1623161065.1623161065    1\n",
      "6294832296889291185.1623156608.1623156608    1\n",
      "Name: count, dtype: int64\n",
      "\n",
      "Топ-5 наиболее редких значений:\n",
      "session_id\n",
      "3525580570051063315.1625927189.1625927189    1\n",
      "3525573324456022940.1640876964.1640876964    1\n",
      "3525573324456022940.1640837067.1640837067    1\n",
      "3525573324456022940.1640715164.1640715164    1\n",
      "9055430416266113553.1640968742.1640968742    1\n",
      "Name: count, dtype: int64\n",
      "\n",
      "Столбец: client_id (уникальных значений: 1391717)\n",
      "----------------------------------------\n",
      "Первые 5 из 1391717 значений:\n",
      "[2108382700.1637757 210838531.16368672 2108385331.164065\n",
      " 2108385564.1622252 2108385598.1622453]\n",
      "\n",
      "Топ-5 наиболее частых значений:\n",
      "client_id\n",
      "1750498477.162945    462\n",
      "130918396.162801     334\n",
      "1266574870.162314    309\n",
      "736859557.161956     306\n",
      "1894772482.162186    276\n",
      "Name: count, dtype: int64\n",
      "\n",
      "Топ-5 наиболее редких значений:\n",
      "client_id\n",
      "878941885.162532     1\n",
      "878939941.163482     1\n",
      "878939745.162189     1\n",
      "878933864.16242      1\n",
      "2108381692.164097    1\n",
      "Name: count, dtype: int64\n",
      "\n",
      "Столбец: visit_date (уникальных значений: 226)\n",
      "----------------------------------------\n",
      "Первые 5 из 226 значений:\n",
      "['2021-11-24' '2021-11-14' '2021-12-28' '2021-05-29' '2021-05-31']\n",
      "\n",
      "Топ-5 наиболее частых значений:\n",
      "visit_date\n",
      "2021-05-24    39453\n",
      "2021-12-21    30704\n",
      "2021-05-25    19305\n",
      "2021-06-29    17367\n",
      "2021-09-14    16204\n",
      "Name: count, dtype: int64\n",
      "\n",
      "Топ-5 наиболее редких значений:\n",
      "visit_date\n",
      "2021-06-05    2102\n",
      "2021-05-23    1246\n",
      "2021-05-21    1110\n",
      "2021-05-22     986\n",
      "2021-05-19     877\n",
      "Name: count, dtype: int64\n",
      "\n",
      "Столбец: visit_time (уникальных значений: 85318)\n",
      "----------------------------------------\n",
      "Первые 5 из 85318 значений:\n",
      "['14:36:32' '08:21:30' '02:42:06' '05:00:00' '12:00:00']\n",
      "\n",
      "Топ-5 наиболее частых значений:\n",
      "visit_time\n",
      "12:00:00    61067\n",
      "13:00:00    61002\n",
      "10:00:00    60211\n",
      "14:00:00    60178\n",
      "11:00:00    59887\n",
      "Name: count, dtype: int64\n",
      "\n",
      "Топ-5 наиболее редких значений:\n",
      "visit_time\n",
      "02:51:41    1\n",
      "03:55:15    1\n",
      "03:52:54    1\n",
      "03:44:17    1\n",
      "04:30:09    1\n",
      "Name: count, dtype: int64\n",
      "\n",
      "Столбец: utm_source (уникальных значений: 293)\n",
      "----------------------------------------\n",
      "Первые 5 из 293 значений:\n",
      "['ZpYIoDJMcFzVoPFsHGJL' 'MvfHsxITijuriZxsqZqt' 'kjsLglQLzykiRbcDiGcD'\n",
      " 'TxKUcPpthBDPieTGmVhx' 'fDLlAcSmythWSCVMvqvL']\n",
      "\n",
      "Топ-5 наиболее частых значений:\n",
      "utm_source\n",
      "ZpYIoDJMcFzVoPFsHGJL    578290\n",
      "fDLlAcSmythWSCVMvqvL    300575\n",
      "kjsLglQLzykiRbcDiGcD    266354\n",
      "MvfHsxITijuriZxsqZqt    186199\n",
      "BHcvLfOaCWvWTykYqHVe    116320\n",
      "Name: count, dtype: int64\n",
      "\n",
      "Топ-5 наиболее редких значений:\n",
      "utm_source\n",
      "GYkgJdhSxirUFPHFiYSe    1\n",
      "WRHPhoRKhKxaenRCLBfo    1\n",
      "tjKUGseGMhkLEzdCqBRx    1\n",
      "wpmatvDuiMutnvmNVPJo    1\n",
      "BellrslNBZQZaIxVFGXJ    1\n",
      "Name: count, dtype: int64\n",
      "\n",
      "Столбец: utm_medium (уникальных значений: 56)\n",
      "----------------------------------------\n",
      "Первые 5 из 56 значений:\n",
      "['banner' 'cpm' 'cpc' 'organic' '(none)']\n",
      "\n",
      "Топ-5 наиболее частых значений:\n",
      "utm_medium\n",
      "banner      552272\n",
      "cpc         434794\n",
      "(none)      300575\n",
      "cpm         242083\n",
      "referral    152050\n",
      "Name: count, dtype: int64\n",
      "\n",
      "Топ-5 наиболее редких значений:\n",
      "utm_medium\n",
      "sber_app             1\n",
      "last                 1\n",
      "qr                   1\n",
      "qrcodevideo          1\n",
      "landing_interests    1\n",
      "Name: count, dtype: int64\n",
      "\n",
      "Столбец: utm_campaign (уникальных значений: 412)\n",
      "----------------------------------------\n",
      "Первые 5 из 412 значений:\n",
      "['LEoPHuyFvzoNfnzGgfcd' 'FTjNLDyTrXaWYgZymFkV' nan 'LTuZkdKfxRGVceoWkVyg'\n",
      " 'gecBYcKZCPMcVYdSSzKP']\n",
      "\n",
      "Топ-5 наиболее частых значений:\n",
      "utm_campaign\n",
      "LTuZkdKfxRGVceoWkVyg    463481\n",
      "LEoPHuyFvzoNfnzGgfcd    324044\n",
      "FTjNLDyTrXaWYgZymFkV    247360\n",
      "gecBYcKZCPMcVYdSSzKP    134042\n",
      "TmThBvoCcwkCZZUWACYq     26597\n",
      "Name: count, dtype: int64\n",
      "\n",
      "Топ-5 наиболее редких значений:\n",
      "utm_campaign\n",
      "cqgnjDbqrtCipVvzhxqa    1\n",
      "AdtHYglxfCpTpwZeTAuW    1\n",
      "pcvPxfVFaAmhwFmvIeYd    1\n",
      "qPDTdivQVeflLjTYIJnG    1\n",
      "cXxuwXPoQCvAXPHpFcZl    1\n",
      "Name: count, dtype: int64\n",
      "\n",
      "Столбец: utm_adcontent (уникальных значений: 286)\n",
      "----------------------------------------\n",
      "Первые 5 из 286 значений:\n",
      "['vCIpmpaGBnIQhyYNkXqp' 'xhoenQgDQsgfEPYNPwKO' 'NOBKLgtuvqYWkXQHeYWM' nan\n",
      " 'JNHcPlZPxEMWDnRiyoBf']\n",
      "\n",
      "Топ-5 наиболее частых значений:\n",
      "utm_adcontent\n",
      "JNHcPlZPxEMWDnRiyoBf    1006599\n",
      "vCIpmpaGBnIQhyYNkXqp     181048\n",
      "xhoenQgDQsgfEPYNPwKO     113072\n",
      "PkybGvWbaqORmxjNunqZ      60316\n",
      "LLfCasrxQzJIyuldcuWy      24222\n",
      "Name: count, dtype: int64\n",
      "\n",
      "Топ-5 наиболее редких значений:\n",
      "utm_adcontent\n",
      "ryswqHdLvbezpDLjokYF    1\n",
      "gQEnaeQmOHisHSTEyzhp    1\n",
      "PlanrlymnpCeYvUrUTVJ    1\n",
      "WbXQsVOKLOcJrHikuQTZ    1\n",
      "oJivRDNIrrOckRBIKOtG    1\n",
      "Name: count, dtype: int64\n",
      "\n",
      "Столбец: utm_keyword (уникальных значений: 1219)\n",
      "----------------------------------------\n",
      "Первые 5 из 1219 значений:\n",
      "['puhZPIYqKXeFPaUviSjo' 'IGUCNvHlhfHpROGclCit' nan 'PwscUHjoUJDrtfWESIHj'\n",
      " 'okTXSMadDkjvntEHzIjp']\n",
      "\n",
      "Топ-5 наиболее частых значений:\n",
      "utm_keyword\n",
      "puhZPIYqKXeFPaUviSjo    506819\n",
      "aXQzDWsJuGXeBXexNHjc     24241\n",
      "pHqgLcdBQPSLcrTpLkdr     13767\n",
      "ITfrGJNwVsHBGJMAKoct     13353\n",
      "hAmNSZmQkKQKAjZEGlgb     11297\n",
      "Name: count, dtype: int64\n",
      "\n",
      "Топ-5 наиболее редких значений:\n",
      "utm_keyword\n",
      "XsuVVTgiDIxZtndPjvDm    1\n",
      "WhaUakldaAmpLumfaADO    1\n",
      "nJVPLgfxsBtPAXttNVDI    1\n",
      "nwKBdMZKktIQFvhZwbFe    1\n",
      "fcXWTQaKfxbkBkBnzLhK    1\n",
      "Name: count, dtype: int64\n",
      "\n",
      "Столбец: device_category (уникальных значений: 3)\n",
      "----------------------------------------\n",
      "['mobile' 'tablet' 'desktop']\n",
      "\n",
      "Топ-5 наиболее частых значений:\n",
      "device_category\n",
      "mobile     1474871\n",
      "desktop     366863\n",
      "tablet       18308\n",
      "Name: count, dtype: int64\n",
      "\n",
      "Топ-5 наиболее редких значений:\n",
      "device_category\n",
      "mobile     1474871\n",
      "desktop     366863\n",
      "tablet       18308\n",
      "Name: count, dtype: int64\n",
      "\n",
      "Столбец: device_os (уникальных значений: 13)\n",
      "----------------------------------------\n",
      "['Android' nan 'iOS' 'Windows' 'Linux' 'Macintosh' '(not set)' 'Chrome OS'\n",
      " 'BlackBerry' 'Tizen' 'Firefox OS' 'Samsung' 'Windows Phone' 'Nokia']\n",
      "\n",
      "Топ-5 наиболее частых значений:\n",
      "device_os\n",
      "Android      464054\n",
      "iOS          207104\n",
      "Windows       88307\n",
      "Macintosh     24824\n",
      "Linux          5120\n",
      "Name: count, dtype: int64\n",
      "\n",
      "Топ-5 наиболее редких значений:\n",
      "device_os\n",
      "Tizen            7\n",
      "Samsung          4\n",
      "Windows Phone    4\n",
      "Firefox OS       3\n",
      "Nokia            3\n",
      "Name: count, dtype: int64\n",
      "\n",
      "Столбец: device_brand (уникальных значений: 205)\n",
      "----------------------------------------\n",
      "Первые 5 из 205 значений:\n",
      "['Huawei' 'Samsung' 'Xiaomi' 'Apple' 'Lenovo']\n",
      "\n",
      "Топ-5 наиболее частых значений:\n",
      "device_brand\n",
      "Apple      551088\n",
      "Samsung    332194\n",
      "Xiaomi     288367\n",
      "Huawei     185853\n",
      "Realme      19058\n",
      "Name: count, dtype: int64\n",
      "\n",
      "Топ-5 наиболее редких значений:\n",
      "device_brand\n",
      "Vodafone    1\n",
      "Wexler      1\n",
      "KingSing    1\n",
      "Star        1\n",
      "Opera       1\n",
      "Name: count, dtype: int64\n",
      "\n",
      "Столбец: device_model (уникальных значений: 104)\n",
      "----------------------------------------\n",
      "Первые 5 из 104 значений:\n",
      "[nan 'qBRdfuuhOnnqwSqNiPOv' 'AshpvdJdReafUzEMmWGr' 'AuMdmADEIoPXiWpTsBEj'\n",
      " 'pcvPxfVFaAmhwFmvIeYd']\n",
      "\n",
      "Топ-5 наиболее частых значений:\n",
      "device_model\n",
      "AuMdmADEIoPXiWpTsBEj    9778\n",
      "tWBQlsvNfHxRUjaPAfhd     653\n",
      "cwMJxNXiWUgMUxGiCTPs     651\n",
      "pTgAEPipQxDXCjPrJbHo     461\n",
      "FJApgTrMAGHoxCxQVKws     372\n",
      "Name: count, dtype: int64\n",
      "\n",
      "Топ-5 наиболее редких значений:\n",
      "device_model\n",
      "foPJGhraIZhogREKtYLR    1\n",
      "qmRODeCJLlmkmwxNYXvp    1\n",
      "MBGYWAQSYWUphNxTsAWD    1\n",
      "aWSBcBZlKorTFjJGlWKG    1\n",
      "VDidzTqFGxuqiRQJGrwB    1\n",
      "Name: count, dtype: int64\n",
      "\n",
      "Столбец: device_screen_resolution (уникальных значений: 5039)\n",
      "----------------------------------------\n",
      "Первые 5 из 5039 значений:\n",
      "['360x720' '385x854' '393x786' '375x812' '602x1029']\n",
      "\n",
      "Топ-5 наиболее частых значений:\n",
      "device_screen_resolution\n",
      "414x896      169090\n",
      "1920x1080    125768\n",
      "375x812      117944\n",
      "393x851      115454\n",
      "375x667       93341\n",
      "Name: count, dtype: int64\n",
      "\n",
      "Топ-5 наиболее редких значений:\n",
      "device_screen_resolution\n",
      "2262x1553    1\n",
      "1097x617     1\n",
      "421x847      1\n",
      "1791x1007    1\n",
      "464x1123     1\n",
      "Name: count, dtype: int64\n",
      "\n",
      "Столбец: device_browser (уникальных значений: 57)\n",
      "----------------------------------------\n",
      "Первые 5 из 57 значений:\n",
      "['Chrome' 'Samsung Internet' 'Safari' 'YaBrowser' 'Android Webview']\n",
      "\n",
      "Топ-5 наиболее частых значений:\n",
      "device_browser\n",
      "Chrome             1013436\n",
      "Safari              478562\n",
      "YaBrowser           133311\n",
      "Safari (in-app)      69912\n",
      "Android Webview      55369\n",
      "Name: count, dtype: int64\n",
      "\n",
      "Топ-5 наиболее редких значений:\n",
      "device_browser\n",
      "Phantom Browser                     1\n",
      "Instagram 206.1.0.34.121 Android    1\n",
      "Nokia501                            1\n",
      "MT6735_TD                           1\n",
      "Threads 202.0.0.23.119              1\n",
      "Name: count, dtype: int64\n",
      "\n",
      "Столбец: geo_country (уникальных значений: 166)\n",
      "----------------------------------------\n",
      "Первые 5 из 166 значений:\n",
      "['Russia' 'United States' 'Ukraine' 'Italy' 'Belarus']\n",
      "\n",
      "Топ-5 наиболее частых значений:\n",
      "geo_country\n",
      "Russia           1800565\n",
      "United States      11784\n",
      "Ukraine             9012\n",
      "Ireland             4034\n",
      "Belarus             3636\n",
      "Name: count, dtype: int64\n",
      "\n",
      "Топ-5 наиболее редких значений:\n",
      "geo_country\n",
      "Zambia                 1\n",
      "Malawi                 1\n",
      "Réunion                1\n",
      "Barbados               1\n",
      "Congo - Brazzaville    1\n",
      "Name: count, dtype: int64\n",
      "\n",
      "Столбец: geo_city (уникальных значений: 2548)\n",
      "----------------------------------------\n",
      "Первые 5 из 2548 значений:\n",
      "['Zlatoust' 'Moscow' 'Krasnoyarsk' 'Saint Petersburg' 'Sochi']\n",
      "\n",
      "Топ-5 наиболее частых значений:\n",
      "geo_city\n",
      "Moscow              805329\n",
      "Saint Petersburg    296788\n",
      "(not set)            78172\n",
      "Yekaterinburg        35788\n",
      "Krasnodar            32243\n",
      "Name: count, dtype: int64\n",
      "\n",
      "Топ-5 наиболее редких значений:\n",
      "geo_city\n",
      "Sherbrooke    1\n",
      "Albion        1\n",
      "Bornheim      1\n",
      "Huntley       1\n",
      "Sommerda      1\n",
      "Name: count, dtype: int64\n"
     ]
    }
   ],
   "source": [
    "# Выбираем столбцы с менее чем 100 уникальными значениями\n",
    "cols_to_show = [\n",
    "    col\n",
    "    for col in ga_sessions.columns\n",
    "    if ga_sessions[col].nunique() < 100\n",
    "    and pd.api.types.is_categorical_dtype(ga_sessions[col])\n",
    "    or pd.api.types.is_object_dtype(ga_sessions[col])\n",
    "]\n",
    "\n",
    "# Выводим уникальные значения для каждого отобранного столбца\n",
    "for col in cols_to_show:\n",
    "    nunique = ga_sessions[col].nunique()\n",
    "    print(f\"\\nСтолбец: {col} (уникальных значений: {nunique})\")\n",
    "    print(\"----------------------------------------\")\n",
    "\n",
    "    # Для столбцов с небольшим количеством уникальных значений показываем все\n",
    "    if nunique <= 20:\n",
    "        print(ga_sessions[col].unique())\n",
    "    else:\n",
    "        # Для столбцов с 20-100 значениями показываем первые 20\n",
    "        print(f\"Первые 5 из {nunique} значений:\")\n",
    "        print(ga_sessions[col].unique()[:5])\n",
    "\n",
    "    # Дополнительная информация о распределении\n",
    "    print(f\"\\nТоп-5 наиболее частых значений:\")\n",
    "    print(ga_sessions[col].value_counts().head())\n",
    "\n",
    "    print(f\"\\nТоп-5 наиболее редких значений:\")\n",
    "    print(ga_sessions[col].value_counts().tail())"
   ]
  },
  {
   "attachments": {},
   "cell_type": "markdown",
   "metadata": {},
   "source": [
    "visit_date"
   ]
  },
  {
   "cell_type": "code",
   "execution_count": 16,
   "metadata": {},
   "outputs": [],
   "source": [
    "ga_sessions[\"visit_date\"] = pd.to_datetime(ga_sessions[\"visit_date\"])\n",
    "ga_sessions[\"year\"] = ga_sessions[\"visit_date\"].dt.year\n",
    "ga_sessions[\"year\"] = ga_sessions[\"year\"].astype(\"int16\")\n",
    "\n",
    "ga_sessions[\"month\"] = ga_sessions[\"visit_date\"].dt.month\n",
    "ga_sessions[\"month\"] = ga_sessions[\"month\"].astype(\"int16\")\n",
    "\n",
    "ga_sessions[\"day\"] = ga_sessions[\"visit_date\"].dt.day\n",
    "ga_sessions[\"day\"] = ga_sessions[\"day\"].astype(\"int16\")"
   ]
  },
  {
   "attachments": {},
   "cell_type": "markdown",
   "metadata": {},
   "source": [
    "visit_number"
   ]
  },
  {
   "cell_type": "code",
   "execution_count": 17,
   "metadata": {},
   "outputs": [],
   "source": [
    "# ga_sessions['visit_number'].unique()"
   ]
  },
  {
   "attachments": {},
   "cell_type": "markdown",
   "metadata": {},
   "source": [
    "utm_medium device_category\tdevice_os\tdevice_brand\tdevice_model\tdevice_screen_resolution\tdevice_browser"
   ]
  },
  {
   "cell_type": "code",
   "execution_count": 18,
   "metadata": {},
   "outputs": [],
   "source": [
    "def fill_missing_by_groups(df):\n",
    "    df_filled = df.copy()\n",
    "\n",
    "    # 1. Предварительная обработка специальных значений\n",
    "    df_filled[\"utm_medium\"] = df_filled[\"utm_medium\"].replace([\"(none)\", \"none\"], pd.NA)\n",
    "\n",
    "    # 2. Заполнение device атрибутов\n",
    "    # Для desktop устройств\n",
    "    df_filled.loc[df_filled[\"device_category\"] == \"desktop\", \"device_brand\"] = \"desktop\"\n",
    "\n",
    "    # Для mobile/tablet устройств\n",
    "    mobile_tablet_mask = df_filled[\"device_category\"].isin([\"mobile\", \"tablet\"])\n",
    "    if mobile_tablet_mask.any():\n",
    "        # Создаем маппинг brand -> model\n",
    "        brand_model = (\n",
    "            df_filled[mobile_tablet_mask]\n",
    "            .dropna(subset=[\"device_brand\", \"device_model\"])\n",
    "            .groupby(\"device_brand\")[\"device_model\"]\n",
    "            .first()\n",
    "        )\n",
    "\n",
    "        # Заполняем device_model на основе device_brand\n",
    "        df_filled.loc[mobile_tablet_mask, \"device_model\"] = df_filled.loc[\n",
    "            mobile_tablet_mask, \"device_model\"\n",
    "        ].fillna(df_filled.loc[mobile_tablet_mask, \"device_brand\"].map(brand_model))\n",
    "\n",
    "    # 3. Заполнение UTM атрибутов через группировку только по utm_medium\n",
    "\n",
    "    # Связка 1: utm_medium + device_category -> utm_source\n",
    "    if \"utm_source\" in df_filled.columns:\n",
    "        source_by_medium_device = (\n",
    "            df_filled.dropna(subset=[\"utm_source\"])\n",
    "            .groupby([\"utm_medium\", \"device_category\"])[\"utm_source\"]\n",
    "            .agg(lambda x: x.mode()[0] if not x.mode().empty else np.nan)\n",
    "        )\n",
    "\n",
    "        df_filled[\"utm_source\"] = df_filled.apply(\n",
    "            lambda row: (\n",
    "                source_by_medium_device.get(\n",
    "                    (row[\"utm_medium\"], row[\"device_category\"]), row[\"utm_source\"]\n",
    "                )\n",
    "                if pd.isna(row[\"utm_source\"])\n",
    "                else row[\"utm_source\"]\n",
    "            ),\n",
    "            axis=1,\n",
    "        )\n",
    "\n",
    "    # Связка 2: utm_medium + device_os -> utm_campaign\n",
    "    if \"utm_campaign\" in df_filled.columns:\n",
    "        campaign_map = (\n",
    "            df_filled.dropna(subset=[\"utm_campaign\"])\n",
    "            .groupby([\"utm_medium\", \"device_os\"])[\"utm_campaign\"]\n",
    "            .agg(lambda x: x.mode()[0] if not x.mode().empty else np.nan)\n",
    "        )\n",
    "\n",
    "        df_filled[\"utm_campaign\"] = df_filled.apply(\n",
    "            lambda row: (\n",
    "                campaign_map.get(\n",
    "                    (row[\"utm_medium\"], row[\"device_os\"]), row[\"utm_campaign\"]\n",
    "                )\n",
    "                if pd.isna(row[\"utm_campaign\"])\n",
    "                else row[\"utm_campaign\"]\n",
    "            ),\n",
    "            axis=1,\n",
    "        )\n",
    "\n",
    "    # 4. Заполнение device атрибутов через группировку\n",
    "\n",
    "    # Заполнение device_browser на основе device_os + device_screen_resolution\n",
    "    if \"device_browser\" in df_filled.columns:\n",
    "        browser_map = (\n",
    "            df_filled.dropna(subset=[\"device_browser\"])\n",
    "            .groupby([\"device_os\", \"device_screen_resolution\"])[\"device_browser\"]\n",
    "            .agg(lambda x: x.mode()[0] if not x.mode().empty else np.nan)\n",
    "        )\n",
    "\n",
    "        df_filled[\"device_browser\"] = df_filled.apply(\n",
    "            lambda row: (\n",
    "                browser_map.get(\n",
    "                    (row[\"device_os\"], row[\"device_screen_resolution\"]),\n",
    "                    row[\"device_browser\"],\n",
    "                )\n",
    "                if pd.isna(row[\"device_browser\"])\n",
    "                else row[\"device_browser\"]\n",
    "            ),\n",
    "            axis=1,\n",
    "        )\n",
    "\n",
    "    # 5. Заполнение оставшихся пропусков наиболее частыми значениями в группах\n",
    "    group_columns = [\n",
    "        \"utm_medium\",\n",
    "        \"device_category\",\n",
    "        \"device_os\",\n",
    "        \"device_brand\",\n",
    "        \"device_model\",\n",
    "        \"device_screen_resolution\",\n",
    "        \"device_browser\",\n",
    "    ]\n",
    "\n",
    "    for col in df_filled.columns:\n",
    "        if df_filled[col].isna().any():\n",
    "            # Заполняем оставшиеся пропуски модой по указанным группам\n",
    "            mode_by_group = (\n",
    "                df_filled.dropna(subset=[col])\n",
    "                .groupby(group_columns)[col]\n",
    "                .agg(lambda x: x.mode()[0] if not x.mode().empty else np.nan)\n",
    "            )\n",
    "\n",
    "            df_filled[col] = df_filled.apply(\n",
    "                lambda row: (\n",
    "                    mode_by_group.get(tuple(row[group_columns]), row[col])\n",
    "                    if pd.isna(row[col])\n",
    "                    else row[col]\n",
    "                ),\n",
    "                axis=1,\n",
    "            )\n",
    "\n",
    "    # 6. Финальное заполнение модой для оставшихся пропусков\n",
    "    for col in df_filled.columns:\n",
    "        if df_filled[col].isna().any():\n",
    "            mode_val = df_filled[col].mode()\n",
    "            if not mode_val.empty:\n",
    "                df_filled[col] = df_filled[col].fillna(mode_val[0])\n",
    "\n",
    "    return df_filled\n",
    "\n",
    "\n",
    "# Применяем функцию\n",
    "ga_sessions_filled = fill_missing_by_groups(ga_sessions)"
   ]
  },
  {
   "attachments": {},
   "cell_type": "markdown",
   "metadata": {},
   "source": [
    "utm_source"
   ]
  },
  {
   "cell_type": "code",
   "execution_count": 19,
   "metadata": {},
   "outputs": [
    {
     "data": {
      "text/plain": [
       "293"
      ]
     },
     "execution_count": 19,
     "metadata": {},
     "output_type": "execute_result"
    }
   ],
   "source": [
    "ga_sessions_filled[\"utm_source\"].nunique()"
   ]
  },
  {
   "cell_type": "code",
   "execution_count": 23,
   "metadata": {},
   "outputs": [
    {
     "name": "stdout",
     "output_type": "stream",
     "text": [
      "Кодирование столбца 'utm_source':\n",
      "Уникальных значений: 293\n",
      "Максимальный код: 293\n",
      "Распределение значений:\n",
      "utm_source_encoded\n",
      "1    578343\n",
      "5    300575\n",
      "3    266354\n",
      "2    186199\n",
      "8    116320\n",
      "Name: count, dtype: int64\n"
     ]
    }
   ],
   "source": [
    "ga_sessions_filled = encode_column_with_nulls(ga_sessions_filled, \"utm_source\")"
   ]
  },
  {
   "attachments": {},
   "cell_type": "markdown",
   "metadata": {},
   "source": [
    "utm_medium"
   ]
  },
  {
   "cell_type": "code",
   "execution_count": 24,
   "metadata": {},
   "outputs": [],
   "source": [
    "# ga_sessions['utm_medium'].unique()"
   ]
  },
  {
   "attachments": {},
   "cell_type": "markdown",
   "metadata": {},
   "source": [
    "utm_campaign"
   ]
  },
  {
   "cell_type": "code",
   "execution_count": 25,
   "metadata": {},
   "outputs": [
    {
     "data": {
      "text/plain": [
       "412"
      ]
     },
     "execution_count": 25,
     "metadata": {},
     "output_type": "execute_result"
    }
   ],
   "source": [
    "ga_sessions_filled[\"utm_campaign\"].nunique()"
   ]
  },
  {
   "cell_type": "code",
   "execution_count": 26,
   "metadata": {},
   "outputs": [
    {
     "name": "stdout",
     "output_type": "stream",
     "text": [
      "Кодирование столбца 'utm_campaign':\n",
      "Уникальных значений: 412\n",
      "Максимальный код: 412\n",
      "Распределение значений:\n",
      "utm_campaign_encoded\n",
      "3    603233\n",
      "1    324044\n",
      "2    274451\n",
      "4    134042\n",
      "7     77247\n",
      "Name: count, dtype: int64\n"
     ]
    }
   ],
   "source": [
    "ga_sessions_filled = encode_column_with_nulls(ga_sessions_filled, \"utm_campaign\")"
   ]
  },
  {
   "attachments": {},
   "cell_type": "markdown",
   "metadata": {},
   "source": [
    "utm_adcontent"
   ]
  },
  {
   "cell_type": "code",
   "execution_count": 27,
   "metadata": {},
   "outputs": [
    {
     "data": {
      "text/plain": [
       "286"
      ]
     },
     "execution_count": 27,
     "metadata": {},
     "output_type": "execute_result"
    }
   ],
   "source": [
    "ga_sessions[\"utm_adcontent\"].nunique()"
   ]
  },
  {
   "cell_type": "code",
   "execution_count": null,
   "metadata": {},
   "outputs": [
    {
     "name": "stdout",
     "output_type": "stream",
     "text": [
      "Кодирование столбца 'utm_adcontent':\n",
      "Уникальных значений: 286\n",
      "Максимальный код: 286\n",
      "Распределение значений:\n",
      "4     1341628\n",
      "1      181048\n",
      "2      113072\n",
      "13      60316\n",
      "7       24225\n",
      "Name: utm_adcontent_encoded, dtype: int64\n"
     ]
    }
   ],
   "source": [
    "# ga_sessions_filled = encode_column_with_nulls(ga_sessions_filled, 'utm_adcontent')"
   ]
  },
  {
   "attachments": {},
   "cell_type": "markdown",
   "metadata": {},
   "source": [
    "utm_keyword"
   ]
  },
  {
   "cell_type": "code",
   "execution_count": 28,
   "metadata": {},
   "outputs": [
    {
     "data": {
      "text/plain": [
       "1219"
      ]
     },
     "execution_count": 28,
     "metadata": {},
     "output_type": "execute_result"
    }
   ],
   "source": [
    "ga_sessions_filled[\"utm_keyword\"].nunique()"
   ]
  },
  {
   "cell_type": "code",
   "execution_count": null,
   "metadata": {},
   "outputs": [
    {
     "name": "stdout",
     "output_type": "stream",
     "text": [
      "Кодирование столбца 'utm_keyword':\n",
      "Уникальных значений: 1219\n",
      "Максимальный код: 1219\n",
      "Распределение значений:\n",
      "1     1588262\n",
      "6       24241\n",
      "25      13767\n",
      "10      13382\n",
      "11      11314\n",
      "Name: utm_keyword_encoded, dtype: int64\n"
     ]
    }
   ],
   "source": [
    "# ga_sessions_filled = encode_column_with_nulls(ga_sessions_filled, 'utm_keyword')"
   ]
  },
  {
   "attachments": {},
   "cell_type": "markdown",
   "metadata": {},
   "source": [
    "device_model"
   ]
  },
  {
   "cell_type": "code",
   "execution_count": 29,
   "metadata": {},
   "outputs": [
    {
     "name": "stdout",
     "output_type": "stream",
     "text": [
      "Кодирование столбца 'device_model':\n",
      "Уникальных значений: 104\n",
      "Максимальный код: 104\n",
      "Распределение значений:\n",
      "device_model_encoded\n",
      "1    1797639\n",
      "5      17537\n",
      "4       9963\n",
      "2       8343\n",
      "9       6361\n",
      "Name: count, dtype: int64\n"
     ]
    }
   ],
   "source": [
    "ga_sessions_filled = encode_column_with_nulls(ga_sessions_filled, \"device_model\")"
   ]
  },
  {
   "cell_type": "code",
   "execution_count": null,
   "metadata": {},
   "outputs": [],
   "source": []
  },
  {
   "attachments": {},
   "cell_type": "markdown",
   "metadata": {},
   "source": [
    "device_category"
   ]
  },
  {
   "cell_type": "code",
   "execution_count": 30,
   "metadata": {},
   "outputs": [
    {
     "data": {
      "text/plain": [
       "array(['mobile', 'tablet', 'desktop'], dtype=object)"
      ]
     },
     "execution_count": 30,
     "metadata": {},
     "output_type": "execute_result"
    }
   ],
   "source": [
    "ga_sessions_filled[\"device_category\"].unique()"
   ]
  },
  {
   "attachments": {},
   "cell_type": "markdown",
   "metadata": {},
   "source": [
    "device_os"
   ]
  },
  {
   "cell_type": "code",
   "execution_count": 31,
   "metadata": {},
   "outputs": [
    {
     "data": {
      "text/plain": [
       "array(['Android', 'iOS', 'Windows', 'Linux', 'Macintosh', '(not set)',\n",
       "       'Chrome OS', 'BlackBerry', 'Tizen', 'Firefox OS', 'Samsung',\n",
       "       'Windows Phone', 'Nokia'], dtype=object)"
      ]
     },
     "execution_count": 31,
     "metadata": {},
     "output_type": "execute_result"
    }
   ],
   "source": [
    "ga_sessions_filled[\"device_os\"].unique()"
   ]
  },
  {
   "attachments": {},
   "cell_type": "markdown",
   "metadata": {},
   "source": [
    "geo_country"
   ]
  },
  {
   "cell_type": "code",
   "execution_count": 32,
   "metadata": {},
   "outputs": [],
   "source": [
    "ga_sessions_filled[\"geo_country\"] = ga_sessions_filled[\"geo_country\"].apply(\n",
    "    lambda x: 1 if x == \"Russia\" else 0\n",
    ")"
   ]
  },
  {
   "attachments": {},
   "cell_type": "markdown",
   "metadata": {},
   "source": [
    "geo_city"
   ]
  },
  {
   "cell_type": "code",
   "execution_count": 35,
   "metadata": {},
   "outputs": [
    {
     "name": "stderr",
     "output_type": "stream",
     "text": [
      "C:\\Users\\Aria\\AppData\\Local\\Packages\\PythonSoftwareFoundation.Python.3.11_qbz5n2kfra8p0\\LocalCache\\local-packages\\Python311\\site-packages\\plotly\\express\\_core.py:2065: FutureWarning:\n",
      "\n",
      "When grouping with a length-1 list-like, you will need to pass a length-1 tuple to get_group in a future version of pandas. Pass `(name,)` instead of `name` to silence this warning.\n",
      "\n"
     ]
    },
    {
     "data": {
      "application/vnd.plotly.v1+json": {
       "config": {
        "plotlyServerURL": "https://plot.ly"
       },
       "data": [
        {
         "alignmentgroup": "True",
         "hovertemplate": "Город=%{x}<br>Количество событий=%{y}<extra></extra>",
         "legendgroup": "Moscow",
         "marker": {
          "color": "#636EFA",
          "pattern": {
           "shape": ""
          }
         },
         "name": "Moscow",
         "offsetgroup": "Moscow",
         "orientation": "v",
         "showlegend": true,
         "textposition": "auto",
         "texttemplate": "%{y}",
         "type": "bar",
         "x": [
          "Moscow"
         ],
         "xaxis": "x",
         "y": [
          805329
         ],
         "yaxis": "y"
        },
        {
         "alignmentgroup": "True",
         "hovertemplate": "Город=%{x}<br>Количество событий=%{y}<extra></extra>",
         "legendgroup": "OTHER",
         "marker": {
          "color": "#EF553B",
          "pattern": {
           "shape": ""
          }
         },
         "name": "OTHER",
         "offsetgroup": "OTHER",
         "orientation": "v",
         "showlegend": true,
         "textposition": "auto",
         "texttemplate": "%{y}",
         "type": "bar",
         "x": [
          "OTHER"
         ],
         "xaxis": "x",
         "y": [
          491725
         ],
         "yaxis": "y"
        },
        {
         "alignmentgroup": "True",
         "hovertemplate": "Город=%{x}<br>Количество событий=%{y}<extra></extra>",
         "legendgroup": "Saint Petersburg",
         "marker": {
          "color": "#00CC96",
          "pattern": {
           "shape": ""
          }
         },
         "name": "Saint Petersburg",
         "offsetgroup": "Saint Petersburg",
         "orientation": "v",
         "showlegend": true,
         "textposition": "auto",
         "texttemplate": "%{y}",
         "type": "bar",
         "x": [
          "Saint Petersburg"
         ],
         "xaxis": "x",
         "y": [
          296788
         ],
         "yaxis": "y"
        },
        {
         "alignmentgroup": "True",
         "hovertemplate": "Город=%{x}<br>Количество событий=%{y}<extra></extra>",
         "legendgroup": "(not set)",
         "marker": {
          "color": "#AB63FA",
          "pattern": {
           "shape": ""
          }
         },
         "name": "(not set)",
         "offsetgroup": "(not set)",
         "orientation": "v",
         "showlegend": true,
         "textposition": "auto",
         "texttemplate": "%{y}",
         "type": "bar",
         "x": [
          "(not set)"
         ],
         "xaxis": "x",
         "y": [
          78172
         ],
         "yaxis": "y"
        },
        {
         "alignmentgroup": "True",
         "hovertemplate": "Город=%{x}<br>Количество событий=%{y}<extra></extra>",
         "legendgroup": "Yekaterinburg",
         "marker": {
          "color": "#FFA15A",
          "pattern": {
           "shape": ""
          }
         },
         "name": "Yekaterinburg",
         "offsetgroup": "Yekaterinburg",
         "orientation": "v",
         "showlegend": true,
         "textposition": "auto",
         "texttemplate": "%{y}",
         "type": "bar",
         "x": [
          "Yekaterinburg"
         ],
         "xaxis": "x",
         "y": [
          35788
         ],
         "yaxis": "y"
        },
        {
         "alignmentgroup": "True",
         "hovertemplate": "Город=%{x}<br>Количество событий=%{y}<extra></extra>",
         "legendgroup": "Krasnodar",
         "marker": {
          "color": "#19D3F3",
          "pattern": {
           "shape": ""
          }
         },
         "name": "Krasnodar",
         "offsetgroup": "Krasnodar",
         "orientation": "v",
         "showlegend": true,
         "textposition": "auto",
         "texttemplate": "%{y}",
         "type": "bar",
         "x": [
          "Krasnodar"
         ],
         "xaxis": "x",
         "y": [
          32243
         ],
         "yaxis": "y"
        },
        {
         "alignmentgroup": "True",
         "hovertemplate": "Город=%{x}<br>Количество событий=%{y}<extra></extra>",
         "legendgroup": "Kazan",
         "marker": {
          "color": "#FF6692",
          "pattern": {
           "shape": ""
          }
         },
         "name": "Kazan",
         "offsetgroup": "Kazan",
         "orientation": "v",
         "showlegend": true,
         "textposition": "auto",
         "texttemplate": "%{y}",
         "type": "bar",
         "x": [
          "Kazan"
         ],
         "xaxis": "x",
         "y": [
          29531
         ],
         "yaxis": "y"
        },
        {
         "alignmentgroup": "True",
         "hovertemplate": "Город=%{x}<br>Количество событий=%{y}<extra></extra>",
         "legendgroup": "Samara",
         "marker": {
          "color": "#B6E880",
          "pattern": {
           "shape": ""
          }
         },
         "name": "Samara",
         "offsetgroup": "Samara",
         "orientation": "v",
         "showlegend": true,
         "textposition": "auto",
         "texttemplate": "%{y}",
         "type": "bar",
         "x": [
          "Samara"
         ],
         "xaxis": "x",
         "y": [
          24992
         ],
         "yaxis": "y"
        },
        {
         "alignmentgroup": "True",
         "hovertemplate": "Город=%{x}<br>Количество событий=%{y}<extra></extra>",
         "legendgroup": "Nizhny Novgorod",
         "marker": {
          "color": "#FF97FF",
          "pattern": {
           "shape": ""
          }
         },
         "name": "Nizhny Novgorod",
         "offsetgroup": "Nizhny Novgorod",
         "orientation": "v",
         "showlegend": true,
         "textposition": "auto",
         "texttemplate": "%{y}",
         "type": "bar",
         "x": [
          "Nizhny Novgorod"
         ],
         "xaxis": "x",
         "y": [
          22227
         ],
         "yaxis": "y"
        },
        {
         "alignmentgroup": "True",
         "hovertemplate": "Город=%{x}<br>Количество событий=%{y}<extra></extra>",
         "legendgroup": "Ufa",
         "marker": {
          "color": "#FECB52",
          "pattern": {
           "shape": ""
          }
         },
         "name": "Ufa",
         "offsetgroup": "Ufa",
         "orientation": "v",
         "showlegend": true,
         "textposition": "auto",
         "texttemplate": "%{y}",
         "type": "bar",
         "x": [
          "Ufa"
         ],
         "xaxis": "x",
         "y": [
          21679
         ],
         "yaxis": "y"
        },
        {
         "alignmentgroup": "True",
         "hovertemplate": "Город=%{x}<br>Количество событий=%{y}<extra></extra>",
         "legendgroup": "Novosibirsk",
         "marker": {
          "color": "#636EFA",
          "pattern": {
           "shape": ""
          }
         },
         "name": "Novosibirsk",
         "offsetgroup": "Novosibirsk",
         "orientation": "v",
         "showlegend": true,
         "textposition": "auto",
         "texttemplate": "%{y}",
         "type": "bar",
         "x": [
          "Novosibirsk"
         ],
         "xaxis": "x",
         "y": [
          21568
         ],
         "yaxis": "y"
        }
       ],
       "layout": {
        "annotations": [
         {
          "arrowhead": 1,
          "ax": 0,
          "ay": -40,
          "showarrow": true,
          "text": "2538 городов объединены",
          "x": "OTHER",
          "y": 491725
         }
        ],
        "barmode": "relative",
        "hovermode": "x",
        "legend": {
         "title": {
          "text": "Город"
         },
         "tracegroupgap": 0
        },
        "showlegend": false,
        "template": {
         "data": {
          "bar": [
           {
            "error_x": {
             "color": "#2a3f5f"
            },
            "error_y": {
             "color": "#2a3f5f"
            },
            "marker": {
             "line": {
              "color": "#E5ECF6",
              "width": 0.5
             },
             "pattern": {
              "fillmode": "overlay",
              "size": 10,
              "solidity": 0.2
             }
            },
            "type": "bar"
           }
          ],
          "barpolar": [
           {
            "marker": {
             "line": {
              "color": "#E5ECF6",
              "width": 0.5
             },
             "pattern": {
              "fillmode": "overlay",
              "size": 10,
              "solidity": 0.2
             }
            },
            "type": "barpolar"
           }
          ],
          "carpet": [
           {
            "aaxis": {
             "endlinecolor": "#2a3f5f",
             "gridcolor": "white",
             "linecolor": "white",
             "minorgridcolor": "white",
             "startlinecolor": "#2a3f5f"
            },
            "baxis": {
             "endlinecolor": "#2a3f5f",
             "gridcolor": "white",
             "linecolor": "white",
             "minorgridcolor": "white",
             "startlinecolor": "#2a3f5f"
            },
            "type": "carpet"
           }
          ],
          "choropleth": [
           {
            "colorbar": {
             "outlinewidth": 0,
             "ticks": ""
            },
            "type": "choropleth"
           }
          ],
          "contour": [
           {
            "colorbar": {
             "outlinewidth": 0,
             "ticks": ""
            },
            "colorscale": [
             [
              0,
              "#0d0887"
             ],
             [
              0.1111111111111111,
              "#46039f"
             ],
             [
              0.2222222222222222,
              "#7201a8"
             ],
             [
              0.3333333333333333,
              "#9c179e"
             ],
             [
              0.4444444444444444,
              "#bd3786"
             ],
             [
              0.5555555555555556,
              "#d8576b"
             ],
             [
              0.6666666666666666,
              "#ed7953"
             ],
             [
              0.7777777777777778,
              "#fb9f3a"
             ],
             [
              0.8888888888888888,
              "#fdca26"
             ],
             [
              1,
              "#f0f921"
             ]
            ],
            "type": "contour"
           }
          ],
          "contourcarpet": [
           {
            "colorbar": {
             "outlinewidth": 0,
             "ticks": ""
            },
            "type": "contourcarpet"
           }
          ],
          "heatmap": [
           {
            "colorbar": {
             "outlinewidth": 0,
             "ticks": ""
            },
            "colorscale": [
             [
              0,
              "#0d0887"
             ],
             [
              0.1111111111111111,
              "#46039f"
             ],
             [
              0.2222222222222222,
              "#7201a8"
             ],
             [
              0.3333333333333333,
              "#9c179e"
             ],
             [
              0.4444444444444444,
              "#bd3786"
             ],
             [
              0.5555555555555556,
              "#d8576b"
             ],
             [
              0.6666666666666666,
              "#ed7953"
             ],
             [
              0.7777777777777778,
              "#fb9f3a"
             ],
             [
              0.8888888888888888,
              "#fdca26"
             ],
             [
              1,
              "#f0f921"
             ]
            ],
            "type": "heatmap"
           }
          ],
          "heatmapgl": [
           {
            "colorbar": {
             "outlinewidth": 0,
             "ticks": ""
            },
            "colorscale": [
             [
              0,
              "#0d0887"
             ],
             [
              0.1111111111111111,
              "#46039f"
             ],
             [
              0.2222222222222222,
              "#7201a8"
             ],
             [
              0.3333333333333333,
              "#9c179e"
             ],
             [
              0.4444444444444444,
              "#bd3786"
             ],
             [
              0.5555555555555556,
              "#d8576b"
             ],
             [
              0.6666666666666666,
              "#ed7953"
             ],
             [
              0.7777777777777778,
              "#fb9f3a"
             ],
             [
              0.8888888888888888,
              "#fdca26"
             ],
             [
              1,
              "#f0f921"
             ]
            ],
            "type": "heatmapgl"
           }
          ],
          "histogram": [
           {
            "marker": {
             "pattern": {
              "fillmode": "overlay",
              "size": 10,
              "solidity": 0.2
             }
            },
            "type": "histogram"
           }
          ],
          "histogram2d": [
           {
            "colorbar": {
             "outlinewidth": 0,
             "ticks": ""
            },
            "colorscale": [
             [
              0,
              "#0d0887"
             ],
             [
              0.1111111111111111,
              "#46039f"
             ],
             [
              0.2222222222222222,
              "#7201a8"
             ],
             [
              0.3333333333333333,
              "#9c179e"
             ],
             [
              0.4444444444444444,
              "#bd3786"
             ],
             [
              0.5555555555555556,
              "#d8576b"
             ],
             [
              0.6666666666666666,
              "#ed7953"
             ],
             [
              0.7777777777777778,
              "#fb9f3a"
             ],
             [
              0.8888888888888888,
              "#fdca26"
             ],
             [
              1,
              "#f0f921"
             ]
            ],
            "type": "histogram2d"
           }
          ],
          "histogram2dcontour": [
           {
            "colorbar": {
             "outlinewidth": 0,
             "ticks": ""
            },
            "colorscale": [
             [
              0,
              "#0d0887"
             ],
             [
              0.1111111111111111,
              "#46039f"
             ],
             [
              0.2222222222222222,
              "#7201a8"
             ],
             [
              0.3333333333333333,
              "#9c179e"
             ],
             [
              0.4444444444444444,
              "#bd3786"
             ],
             [
              0.5555555555555556,
              "#d8576b"
             ],
             [
              0.6666666666666666,
              "#ed7953"
             ],
             [
              0.7777777777777778,
              "#fb9f3a"
             ],
             [
              0.8888888888888888,
              "#fdca26"
             ],
             [
              1,
              "#f0f921"
             ]
            ],
            "type": "histogram2dcontour"
           }
          ],
          "mesh3d": [
           {
            "colorbar": {
             "outlinewidth": 0,
             "ticks": ""
            },
            "type": "mesh3d"
           }
          ],
          "parcoords": [
           {
            "line": {
             "colorbar": {
              "outlinewidth": 0,
              "ticks": ""
             }
            },
            "type": "parcoords"
           }
          ],
          "pie": [
           {
            "automargin": true,
            "type": "pie"
           }
          ],
          "scatter": [
           {
            "fillpattern": {
             "fillmode": "overlay",
             "size": 10,
             "solidity": 0.2
            },
            "type": "scatter"
           }
          ],
          "scatter3d": [
           {
            "line": {
             "colorbar": {
              "outlinewidth": 0,
              "ticks": ""
             }
            },
            "marker": {
             "colorbar": {
              "outlinewidth": 0,
              "ticks": ""
             }
            },
            "type": "scatter3d"
           }
          ],
          "scattercarpet": [
           {
            "marker": {
             "colorbar": {
              "outlinewidth": 0,
              "ticks": ""
             }
            },
            "type": "scattercarpet"
           }
          ],
          "scattergeo": [
           {
            "marker": {
             "colorbar": {
              "outlinewidth": 0,
              "ticks": ""
             }
            },
            "type": "scattergeo"
           }
          ],
          "scattergl": [
           {
            "marker": {
             "colorbar": {
              "outlinewidth": 0,
              "ticks": ""
             }
            },
            "type": "scattergl"
           }
          ],
          "scattermapbox": [
           {
            "marker": {
             "colorbar": {
              "outlinewidth": 0,
              "ticks": ""
             }
            },
            "type": "scattermapbox"
           }
          ],
          "scatterpolar": [
           {
            "marker": {
             "colorbar": {
              "outlinewidth": 0,
              "ticks": ""
             }
            },
            "type": "scatterpolar"
           }
          ],
          "scatterpolargl": [
           {
            "marker": {
             "colorbar": {
              "outlinewidth": 0,
              "ticks": ""
             }
            },
            "type": "scatterpolargl"
           }
          ],
          "scatterternary": [
           {
            "marker": {
             "colorbar": {
              "outlinewidth": 0,
              "ticks": ""
             }
            },
            "type": "scatterternary"
           }
          ],
          "surface": [
           {
            "colorbar": {
             "outlinewidth": 0,
             "ticks": ""
            },
            "colorscale": [
             [
              0,
              "#0d0887"
             ],
             [
              0.1111111111111111,
              "#46039f"
             ],
             [
              0.2222222222222222,
              "#7201a8"
             ],
             [
              0.3333333333333333,
              "#9c179e"
             ],
             [
              0.4444444444444444,
              "#bd3786"
             ],
             [
              0.5555555555555556,
              "#d8576b"
             ],
             [
              0.6666666666666666,
              "#ed7953"
             ],
             [
              0.7777777777777778,
              "#fb9f3a"
             ],
             [
              0.8888888888888888,
              "#fdca26"
             ],
             [
              1,
              "#f0f921"
             ]
            ],
            "type": "surface"
           }
          ],
          "table": [
           {
            "cells": {
             "fill": {
              "color": "#EBF0F8"
             },
             "line": {
              "color": "white"
             }
            },
            "header": {
             "fill": {
              "color": "#C8D4E3"
             },
             "line": {
              "color": "white"
             }
            },
            "type": "table"
           }
          ]
         },
         "layout": {
          "annotationdefaults": {
           "arrowcolor": "#2a3f5f",
           "arrowhead": 0,
           "arrowwidth": 1
          },
          "autotypenumbers": "strict",
          "coloraxis": {
           "colorbar": {
            "outlinewidth": 0,
            "ticks": ""
           }
          },
          "colorscale": {
           "diverging": [
            [
             0,
             "#8e0152"
            ],
            [
             0.1,
             "#c51b7d"
            ],
            [
             0.2,
             "#de77ae"
            ],
            [
             0.3,
             "#f1b6da"
            ],
            [
             0.4,
             "#fde0ef"
            ],
            [
             0.5,
             "#f7f7f7"
            ],
            [
             0.6,
             "#e6f5d0"
            ],
            [
             0.7,
             "#b8e186"
            ],
            [
             0.8,
             "#7fbc41"
            ],
            [
             0.9,
             "#4d9221"
            ],
            [
             1,
             "#276419"
            ]
           ],
           "sequential": [
            [
             0,
             "#0d0887"
            ],
            [
             0.1111111111111111,
             "#46039f"
            ],
            [
             0.2222222222222222,
             "#7201a8"
            ],
            [
             0.3333333333333333,
             "#9c179e"
            ],
            [
             0.4444444444444444,
             "#bd3786"
            ],
            [
             0.5555555555555556,
             "#d8576b"
            ],
            [
             0.6666666666666666,
             "#ed7953"
            ],
            [
             0.7777777777777778,
             "#fb9f3a"
            ],
            [
             0.8888888888888888,
             "#fdca26"
            ],
            [
             1,
             "#f0f921"
            ]
           ],
           "sequentialminus": [
            [
             0,
             "#0d0887"
            ],
            [
             0.1111111111111111,
             "#46039f"
            ],
            [
             0.2222222222222222,
             "#7201a8"
            ],
            [
             0.3333333333333333,
             "#9c179e"
            ],
            [
             0.4444444444444444,
             "#bd3786"
            ],
            [
             0.5555555555555556,
             "#d8576b"
            ],
            [
             0.6666666666666666,
             "#ed7953"
            ],
            [
             0.7777777777777778,
             "#fb9f3a"
            ],
            [
             0.8888888888888888,
             "#fdca26"
            ],
            [
             1,
             "#f0f921"
            ]
           ]
          },
          "colorway": [
           "#636efa",
           "#EF553B",
           "#00cc96",
           "#ab63fa",
           "#FFA15A",
           "#19d3f3",
           "#FF6692",
           "#B6E880",
           "#FF97FF",
           "#FECB52"
          ],
          "font": {
           "color": "#2a3f5f"
          },
          "geo": {
           "bgcolor": "white",
           "lakecolor": "white",
           "landcolor": "#E5ECF6",
           "showlakes": true,
           "showland": true,
           "subunitcolor": "white"
          },
          "hoverlabel": {
           "align": "left"
          },
          "hovermode": "closest",
          "mapbox": {
           "style": "light"
          },
          "paper_bgcolor": "white",
          "plot_bgcolor": "#E5ECF6",
          "polar": {
           "angularaxis": {
            "gridcolor": "white",
            "linecolor": "white",
            "ticks": ""
           },
           "bgcolor": "#E5ECF6",
           "radialaxis": {
            "gridcolor": "white",
            "linecolor": "white",
            "ticks": ""
           }
          },
          "scene": {
           "xaxis": {
            "backgroundcolor": "#E5ECF6",
            "gridcolor": "white",
            "gridwidth": 2,
            "linecolor": "white",
            "showbackground": true,
            "ticks": "",
            "zerolinecolor": "white"
           },
           "yaxis": {
            "backgroundcolor": "#E5ECF6",
            "gridcolor": "white",
            "gridwidth": 2,
            "linecolor": "white",
            "showbackground": true,
            "ticks": "",
            "zerolinecolor": "white"
           },
           "zaxis": {
            "backgroundcolor": "#E5ECF6",
            "gridcolor": "white",
            "gridwidth": 2,
            "linecolor": "white",
            "showbackground": true,
            "ticks": "",
            "zerolinecolor": "white"
           }
          },
          "shapedefaults": {
           "line": {
            "color": "#2a3f5f"
           }
          },
          "ternary": {
           "aaxis": {
            "gridcolor": "white",
            "linecolor": "white",
            "ticks": ""
           },
           "baxis": {
            "gridcolor": "white",
            "linecolor": "white",
            "ticks": ""
           },
           "bgcolor": "#E5ECF6",
           "caxis": {
            "gridcolor": "white",
            "linecolor": "white",
            "ticks": ""
           }
          },
          "title": {
           "x": 0.05
          },
          "xaxis": {
           "automargin": true,
           "gridcolor": "white",
           "linecolor": "white",
           "ticks": "",
           "title": {
            "standoff": 15
           },
           "zerolinecolor": "white",
           "zerolinewidth": 2
          },
          "yaxis": {
           "automargin": true,
           "gridcolor": "white",
           "linecolor": "white",
           "ticks": "",
           "title": {
            "standoff": 15
           },
           "zerolinecolor": "white",
           "zerolinewidth": 2
          }
         }
        },
        "title": {
         "text": "Распределение городов (города < 18,600 событий объединены в OTHER)"
        },
        "xaxis": {
         "anchor": "y",
         "categoryarray": [
          "Moscow",
          "OTHER",
          "Saint Petersburg",
          "(not set)",
          "Yekaterinburg",
          "Krasnodar",
          "Kazan",
          "Samara",
          "Nizhny Novgorod",
          "Ufa",
          "Novosibirsk"
         ],
         "categoryorder": "total descending",
         "domain": [
          0,
          1
         ],
         "title": {
          "text": "Город"
         }
        },
        "yaxis": {
         "anchor": "x",
         "domain": [
          0,
          1
         ],
         "title": {
          "text": "Количество событий"
         }
        }
       }
      }
     },
     "metadata": {},
     "output_type": "display_data"
    }
   ],
   "source": [
    "# Рассчитываем порог (1% от общего количества событий)\n",
    "threshold = len(ga_sessions_filled) * 0.01\n",
    "\n",
    "# Создаем словарь для замены значений\n",
    "value_counts = ga_sessions_filled[\"geo_city\"].value_counts()\n",
    "replace_dict = {\n",
    "    category: \"OTHER\" for category in value_counts[value_counts < threshold].index\n",
    "}\n",
    "\n",
    "# Создаем новый столбец с объединенными категориями\n",
    "ga_sessions_filled[\"geo_city_grouped\"] = ga_sessions_filled[\"geo_city\"].replace(\n",
    "    replace_dict\n",
    ")\n",
    "\n",
    "# Строим интерактивную диаграмму\n",
    "city_counts = ga_sessions_filled[\"geo_city_grouped\"].value_counts().reset_index()\n",
    "city_counts.columns = [\"city\", \"count\"]  # Переименовываем столбцы для ясности\n",
    "\n",
    "# Строим интерактивную диаграмму\n",
    "fig = px.bar(\n",
    "    city_counts,\n",
    "    x=\"city\",  # Используем новое имя столбца\n",
    "    y=\"count\",\n",
    "    labels={\"city\": \"Город\", \"count\": \"Количество событий\"},\n",
    "    title=f\"Распределение городов (города < {threshold:,.0f} событий объединены в OTHER)\",\n",
    "    text_auto=True,\n",
    "    color=\"city\",\n",
    "    color_discrete_sequence=px.colors.qualitative.Plotly,\n",
    ")\n",
    "\n",
    "# Настраиваем отображение\n",
    "fig.update_layout(\n",
    "    xaxis_title=\"Город\",\n",
    "    yaxis_title=\"Количество событий\",\n",
    "    xaxis={\"categoryorder\": \"total descending\"},\n",
    "    showlegend=False,\n",
    "    hovermode=\"x\",\n",
    ")\n",
    "\n",
    "# Добавляем подпись с количеством объединенных категорий\n",
    "other_count = len(value_counts[value_counts < threshold])\n",
    "fig.add_annotation(\n",
    "    x=\"OTHER\",\n",
    "    y=city_counts.loc[city_counts[\"city\"] == \"OTHER\", \"count\"].values[0],\n",
    "    text=f\"{other_count} городов объединены\",\n",
    "    showarrow=True,\n",
    "    arrowhead=1,\n",
    "    ax=0,\n",
    "    ay=-40,\n",
    ")\n",
    "\n",
    "fig.show()"
   ]
  },
  {
   "attachments": {},
   "cell_type": "markdown",
   "metadata": {},
   "source": [
    "utm_source"
   ]
  },
  {
   "cell_type": "code",
   "execution_count": 36,
   "metadata": {},
   "outputs": [
    {
     "data": {
      "text/html": [
       "<div>\n",
       "<style scoped>\n",
       "    .dataframe tbody tr th:only-of-type {\n",
       "        vertical-align: middle;\n",
       "    }\n",
       "\n",
       "    .dataframe tbody tr th {\n",
       "        vertical-align: top;\n",
       "    }\n",
       "\n",
       "    .dataframe thead th {\n",
       "        text-align: right;\n",
       "    }\n",
       "</style>\n",
       "<table border=\"1\" class=\"dataframe\">\n",
       "  <thead>\n",
       "    <tr style=\"text-align: right;\">\n",
       "      <th></th>\n",
       "      <th>session_id</th>\n",
       "      <th>client_id</th>\n",
       "      <th>visit_date</th>\n",
       "      <th>visit_time</th>\n",
       "      <th>visit_number</th>\n",
       "      <th>utm_source</th>\n",
       "      <th>utm_medium</th>\n",
       "      <th>utm_campaign</th>\n",
       "      <th>utm_adcontent</th>\n",
       "      <th>utm_keyword</th>\n",
       "      <th>...</th>\n",
       "      <th>device_browser</th>\n",
       "      <th>geo_country</th>\n",
       "      <th>geo_city</th>\n",
       "      <th>year</th>\n",
       "      <th>month</th>\n",
       "      <th>day</th>\n",
       "      <th>utm_source_encoded</th>\n",
       "      <th>utm_campaign_encoded</th>\n",
       "      <th>device_model_encoded</th>\n",
       "      <th>geo_city_grouped</th>\n",
       "    </tr>\n",
       "  </thead>\n",
       "  <tbody>\n",
       "  </tbody>\n",
       "</table>\n",
       "<p>0 rows × 25 columns</p>\n",
       "</div>"
      ],
      "text/plain": [
       "Empty DataFrame\n",
       "Columns: [session_id, client_id, visit_date, visit_time, visit_number, utm_source, utm_medium, utm_campaign, utm_adcontent, utm_keyword, device_category, device_os, device_brand, device_model, device_screen_resolution, device_browser, geo_country, geo_city, year, month, day, utm_source_encoded, utm_campaign_encoded, device_model_encoded, geo_city_grouped]\n",
       "Index: []\n",
       "\n",
       "[0 rows x 25 columns]"
      ]
     },
     "execution_count": 36,
     "metadata": {},
     "output_type": "execute_result"
    }
   ],
   "source": [
    "ga_sessions_filled[ga_sessions_filled[\"utm_source\"].isna()].head()"
   ]
  },
  {
   "cell_type": "markdown",
   "metadata": {},
   "source": []
  },
  {
   "cell_type": "code",
   "execution_count": 37,
   "metadata": {},
   "outputs": [
    {
     "name": "stdout",
     "output_type": "stream",
     "text": [
      "Информация о датасете:\n",
      "<class 'pandas.core.frame.DataFrame'>\n",
      "RangeIndex: 15726470 entries, 0 to 15726469\n",
      "Data columns (total 11 columns):\n",
      " #   Column          Dtype  \n",
      "---  ------          -----  \n",
      " 0   session_id      object \n",
      " 1   hit_date        object \n",
      " 2   hit_time        float64\n",
      " 3   hit_number      int64  \n",
      " 4   hit_type        object \n",
      " 5   hit_referer     object \n",
      " 6   hit_page_path   object \n",
      " 7   event_category  object \n",
      " 8   event_action    object \n",
      " 9   event_label     object \n",
      " 10  event_value     float64\n",
      "dtypes: float64(2), int64(1), object(8)\n",
      "memory usage: 1.3+ GB\n",
      "\n",
      "==================================================\n",
      "\n",
      "Первые несколько строк датасета:\n"
     ]
    },
    {
     "data": {
      "text/html": [
       "<div>\n",
       "<style scoped>\n",
       "    .dataframe tbody tr th:only-of-type {\n",
       "        vertical-align: middle;\n",
       "    }\n",
       "\n",
       "    .dataframe tbody tr th {\n",
       "        vertical-align: top;\n",
       "    }\n",
       "\n",
       "    .dataframe thead th {\n",
       "        text-align: right;\n",
       "    }\n",
       "</style>\n",
       "<table border=\"1\" class=\"dataframe\">\n",
       "  <thead>\n",
       "    <tr style=\"text-align: right;\">\n",
       "      <th></th>\n",
       "      <th>session_id</th>\n",
       "      <th>hit_date</th>\n",
       "      <th>hit_time</th>\n",
       "      <th>hit_number</th>\n",
       "      <th>hit_type</th>\n",
       "      <th>hit_referer</th>\n",
       "      <th>hit_page_path</th>\n",
       "      <th>event_category</th>\n",
       "      <th>event_action</th>\n",
       "      <th>event_label</th>\n",
       "      <th>event_value</th>\n",
       "    </tr>\n",
       "  </thead>\n",
       "  <tbody>\n",
       "    <tr>\n",
       "      <th>0</th>\n",
       "      <td>5639623078712724064.1640254056.1640254056</td>\n",
       "      <td>2021-12-23</td>\n",
       "      <td>597864.0</td>\n",
       "      <td>30</td>\n",
       "      <td>event</td>\n",
       "      <td>NaN</td>\n",
       "      <td>sberauto.com/cars?utm_source_initial=google&amp;ut...</td>\n",
       "      <td>quiz</td>\n",
       "      <td>quiz_show</td>\n",
       "      <td>NaN</td>\n",
       "      <td>NaN</td>\n",
       "    </tr>\n",
       "    <tr>\n",
       "      <th>1</th>\n",
       "      <td>7750352294969115059.1640271109.1640271109</td>\n",
       "      <td>2021-12-23</td>\n",
       "      <td>597331.0</td>\n",
       "      <td>41</td>\n",
       "      <td>event</td>\n",
       "      <td>NaN</td>\n",
       "      <td>sberauto.com/cars/fiat?city=1&amp;city=18&amp;rental_c...</td>\n",
       "      <td>quiz</td>\n",
       "      <td>quiz_show</td>\n",
       "      <td>NaN</td>\n",
       "      <td>NaN</td>\n",
       "    </tr>\n",
       "    <tr>\n",
       "      <th>2</th>\n",
       "      <td>885342191847998240.1640235807.1640235807</td>\n",
       "      <td>2021-12-23</td>\n",
       "      <td>796252.0</td>\n",
       "      <td>49</td>\n",
       "      <td>event</td>\n",
       "      <td>NaN</td>\n",
       "      <td>sberauto.com/cars/all/volkswagen/polo/e994838f...</td>\n",
       "      <td>quiz</td>\n",
       "      <td>quiz_show</td>\n",
       "      <td>NaN</td>\n",
       "      <td>NaN</td>\n",
       "    </tr>\n",
       "    <tr>\n",
       "      <th>3</th>\n",
       "      <td>142526202120934167.1640211014.1640211014</td>\n",
       "      <td>2021-12-23</td>\n",
       "      <td>934292.0</td>\n",
       "      <td>46</td>\n",
       "      <td>event</td>\n",
       "      <td>NaN</td>\n",
       "      <td>sberauto.com/cars?utm_source_initial=yandex&amp;ut...</td>\n",
       "      <td>quiz</td>\n",
       "      <td>quiz_show</td>\n",
       "      <td>NaN</td>\n",
       "      <td>NaN</td>\n",
       "    </tr>\n",
       "    <tr>\n",
       "      <th>4</th>\n",
       "      <td>3450086108837475701.1640265078.1640265078</td>\n",
       "      <td>2021-12-23</td>\n",
       "      <td>768741.0</td>\n",
       "      <td>79</td>\n",
       "      <td>event</td>\n",
       "      <td>NaN</td>\n",
       "      <td>sberauto.com/cars/all/mercedes-benz/cla-klasse...</td>\n",
       "      <td>quiz</td>\n",
       "      <td>quiz_show</td>\n",
       "      <td>NaN</td>\n",
       "      <td>NaN</td>\n",
       "    </tr>\n",
       "  </tbody>\n",
       "</table>\n",
       "</div>"
      ],
      "text/plain": [
       "                                  session_id    hit_date  hit_time  \\\n",
       "0  5639623078712724064.1640254056.1640254056  2021-12-23  597864.0   \n",
       "1  7750352294969115059.1640271109.1640271109  2021-12-23  597331.0   \n",
       "2   885342191847998240.1640235807.1640235807  2021-12-23  796252.0   \n",
       "3   142526202120934167.1640211014.1640211014  2021-12-23  934292.0   \n",
       "4  3450086108837475701.1640265078.1640265078  2021-12-23  768741.0   \n",
       "\n",
       "   hit_number hit_type hit_referer  \\\n",
       "0          30    event         NaN   \n",
       "1          41    event         NaN   \n",
       "2          49    event         NaN   \n",
       "3          46    event         NaN   \n",
       "4          79    event         NaN   \n",
       "\n",
       "                                       hit_page_path event_category  \\\n",
       "0  sberauto.com/cars?utm_source_initial=google&ut...           quiz   \n",
       "1  sberauto.com/cars/fiat?city=1&city=18&rental_c...           quiz   \n",
       "2  sberauto.com/cars/all/volkswagen/polo/e994838f...           quiz   \n",
       "3  sberauto.com/cars?utm_source_initial=yandex&ut...           quiz   \n",
       "4  sberauto.com/cars/all/mercedes-benz/cla-klasse...           quiz   \n",
       "\n",
       "  event_action event_label  event_value  \n",
       "0    quiz_show         NaN          NaN  \n",
       "1    quiz_show         NaN          NaN  \n",
       "2    quiz_show         NaN          NaN  \n",
       "3    quiz_show         NaN          NaN  \n",
       "4    quiz_show         NaN          NaN  "
      ]
     },
     "metadata": {},
     "output_type": "display_data"
    },
    {
     "name": "stdout",
     "output_type": "stream",
     "text": [
      "\n",
      "==================================================\n",
      "\n",
      "Описательная статистика:\n"
     ]
    },
    {
     "data": {
      "text/html": [
       "<div>\n",
       "<style scoped>\n",
       "    .dataframe tbody tr th:only-of-type {\n",
       "        vertical-align: middle;\n",
       "    }\n",
       "\n",
       "    .dataframe tbody tr th {\n",
       "        vertical-align: top;\n",
       "    }\n",
       "\n",
       "    .dataframe thead th {\n",
       "        text-align: right;\n",
       "    }\n",
       "</style>\n",
       "<table border=\"1\" class=\"dataframe\">\n",
       "  <thead>\n",
       "    <tr style=\"text-align: right;\">\n",
       "      <th></th>\n",
       "      <th>hit_time</th>\n",
       "      <th>hit_number</th>\n",
       "      <th>event_value</th>\n",
       "    </tr>\n",
       "  </thead>\n",
       "  <tbody>\n",
       "    <tr>\n",
       "      <th>count</th>\n",
       "      <td>6.566148e+06</td>\n",
       "      <td>1.572647e+07</td>\n",
       "      <td>0.0</td>\n",
       "    </tr>\n",
       "    <tr>\n",
       "      <th>mean</th>\n",
       "      <td>2.091050e+05</td>\n",
       "      <td>2.356715e+01</td>\n",
       "      <td>NaN</td>\n",
       "    </tr>\n",
       "    <tr>\n",
       "      <th>std</th>\n",
       "      <td>4.032110e+05</td>\n",
       "      <td>2.887713e+01</td>\n",
       "      <td>NaN</td>\n",
       "    </tr>\n",
       "    <tr>\n",
       "      <th>min</th>\n",
       "      <td>0.000000e+00</td>\n",
       "      <td>1.000000e+00</td>\n",
       "      <td>NaN</td>\n",
       "    </tr>\n",
       "    <tr>\n",
       "      <th>25%</th>\n",
       "      <td>2.412000e+04</td>\n",
       "      <td>7.000000e+00</td>\n",
       "      <td>NaN</td>\n",
       "    </tr>\n",
       "    <tr>\n",
       "      <th>50%</th>\n",
       "      <td>8.994100e+04</td>\n",
       "      <td>1.500000e+01</td>\n",
       "      <td>NaN</td>\n",
       "    </tr>\n",
       "    <tr>\n",
       "      <th>75%</th>\n",
       "      <td>2.195352e+05</td>\n",
       "      <td>2.900000e+01</td>\n",
       "      <td>NaN</td>\n",
       "    </tr>\n",
       "    <tr>\n",
       "      <th>max</th>\n",
       "      <td>1.315688e+07</td>\n",
       "      <td>5.000000e+02</td>\n",
       "      <td>NaN</td>\n",
       "    </tr>\n",
       "  </tbody>\n",
       "</table>\n",
       "</div>"
      ],
      "text/plain": [
       "           hit_time    hit_number  event_value\n",
       "count  6.566148e+06  1.572647e+07          0.0\n",
       "mean   2.091050e+05  2.356715e+01          NaN\n",
       "std    4.032110e+05  2.887713e+01          NaN\n",
       "min    0.000000e+00  1.000000e+00          NaN\n",
       "25%    2.412000e+04  7.000000e+00          NaN\n",
       "50%    8.994100e+04  1.500000e+01          NaN\n",
       "75%    2.195352e+05  2.900000e+01          NaN\n",
       "max    1.315688e+07  5.000000e+02          NaN"
      ]
     },
     "metadata": {},
     "output_type": "display_data"
    },
    {
     "name": "stdout",
     "output_type": "stream",
     "text": [
      "\n",
      "==================================================\n",
      "\n",
      "Количество пропусков\n",
      "session_id: 0\n",
      "hit_date: 0\n",
      "hit_time: 9160322\n",
      "hit_number: 0\n",
      "hit_type: 0\n",
      "hit_referer: 6274804\n",
      "hit_page_path: 0\n",
      "event_category: 0\n",
      "event_action: 0\n",
      "event_label: 3760184\n",
      "event_value: 15726470\n",
      "\n",
      "==================================================\n",
      "\n"
     ]
    },
    {
     "data": {
      "text/plain": [
       "'Количествово дубликатов:0'"
      ]
     },
     "metadata": {},
     "output_type": "display_data"
    },
    {
     "name": "stdout",
     "output_type": "stream",
     "text": [
      "\n",
      "==================================================\n",
      "\n",
      "Количество уникальных значений\n",
      "session_id: 1734610\n",
      "hit_date: 226\n",
      "hit_time: 925887\n",
      "hit_number: 500\n",
      "hit_type: 1\n",
      "hit_referer: 37873\n",
      "hit_page_path: 342715\n",
      "event_category: 52\n",
      "event_action: 230\n",
      "event_label: 39825\n",
      "event_value: 0\n"
     ]
    }
   ],
   "source": [
    "inform(ga_hits)"
   ]
  },
  {
   "attachments": {},
   "cell_type": "markdown",
   "metadata": {},
   "source": [
    "event_value"
   ]
  },
  {
   "cell_type": "code",
   "execution_count": 38,
   "metadata": {},
   "outputs": [
    {
     "name": "stdout",
     "output_type": "stream",
     "text": [
      "Количество пропусков после заполнения:\n",
      "session_id               0\n",
      "hit_date                 0\n",
      "hit_time           9160322\n",
      "hit_number               0\n",
      "hit_type                 0\n",
      "hit_referer              0\n",
      "hit_page_path            0\n",
      "event_category           0\n",
      "event_action             0\n",
      "event_label              0\n",
      "event_value       15726470\n",
      "dtype: int64\n"
     ]
    }
   ],
   "source": [
    "def fill_hits_and_events(df):\n",
    "    \"\"\"\n",
    "    Заполняет пропуски в столбцах hit и event на основе группировки данных\n",
    "    \"\"\"\n",
    "    df_filled = df.copy()\n",
    "\n",
    "    # 2. Заполнение hit_referer на основе hit_page_path\n",
    "    if \"hit_referer\" in df_filled.columns and df_filled[\"hit_referer\"].isna().any():\n",
    "        referer_by_page = (\n",
    "            df_filled.dropna(subset=[\"hit_referer\", \"hit_page_path\"])\n",
    "            .groupby(\"hit_page_path\")[\"hit_referer\"]\n",
    "            .first()\n",
    "        )\n",
    "\n",
    "        df_filled[\"hit_referer\"] = df_filled.apply(\n",
    "            lambda row: (\n",
    "                referer_by_page.get(row[\"hit_page_path\"], row[\"hit_referer\"])\n",
    "                if pd.isna(row[\"hit_referer\"])\n",
    "                else row[\"hit_referer\"]\n",
    "            ),\n",
    "            axis=1,\n",
    "        )\n",
    "\n",
    "    # 3. Заполнение event_label на основе event_action\n",
    "    if \"event_label\" in df_filled.columns and df_filled[\"event_label\"].isna().any():\n",
    "        label_by_action = (\n",
    "            df_filled.dropna(subset=[\"event_action\", \"event_label\"])\n",
    "            .groupby(\"event_action\")[\"event_label\"]\n",
    "            .first()\n",
    "        )\n",
    "\n",
    "        df_filled[\"event_label\"] = df_filled.apply(\n",
    "            lambda row: (\n",
    "                label_by_action.get(row[\"event_action\"], row[\"event_label\"])\n",
    "                if pd.isna(row[\"event_label\"])\n",
    "                else row[\"event_label\"]\n",
    "            ),\n",
    "            axis=1,\n",
    "        )\n",
    "\n",
    "    # 5. Заполнение оставшихся пропусков\n",
    "    # Для hit_referer - если не нашли по page_path, заполняем 'direct'\n",
    "    if \"hit_referer\" in df_filled.columns:\n",
    "        df_filled[\"hit_referer\"] = df_filled[\"hit_referer\"].fillna(\"direct\")\n",
    "\n",
    "    # Для event_label - если не нашли по action, заполняем 'none'\n",
    "    if \"event_label\" in df_filled.columns:\n",
    "        df_filled[\"event_label\"] = df_filled[\"event_label\"].fillna(\"none\")\n",
    "\n",
    "    return df_filled\n",
    "\n",
    "\n",
    "# Применяем функцию\n",
    "ga_hits_filled = fill_hits_and_events(ga_hits)\n",
    "\n",
    "# Проверяем количество пропусков после заполнения\n",
    "print(\"Количество пропусков после заполнения:\")\n",
    "print(ga_hits_filled.isna().sum())"
   ]
  },
  {
   "attachments": {},
   "cell_type": "markdown",
   "metadata": {},
   "source": [
    "hit_time"
   ]
  },
  {
   "cell_type": "code",
   "execution_count": 39,
   "metadata": {},
   "outputs": [
    {
     "data": {
      "text/plain": [
       "array([1, 0])"
      ]
     },
     "execution_count": 39,
     "metadata": {},
     "output_type": "execute_result"
    }
   ],
   "source": [
    "ga_hits_filled[\"hit_time_2\"] = ga_hits_filled[\"hit_time\"].notna().astype(int)\n",
    "ga_hits_filled[\"hit_time_2\"].unique()"
   ]
  },
  {
   "attachments": {},
   "cell_type": "markdown",
   "metadata": {},
   "source": [
    "hit_referer"
   ]
  },
  {
   "cell_type": "code",
   "execution_count": 40,
   "metadata": {},
   "outputs": [
    {
     "data": {
      "text/plain": [
       "array(['direct', 'HbolMJUevblAbkHClEQa', 'sAGDBCdeVPmQPwkVEcIX', ...,\n",
       "       'SyKCPVqPvVwsypNSfuig', 'KpKtMqJlrvgANamYaRSI',\n",
       "       'tvGabHlPFDvTmIFiCKTL'], dtype=object)"
      ]
     },
     "execution_count": 40,
     "metadata": {},
     "output_type": "execute_result"
    }
   ],
   "source": [
    "ga_hits_filled[\"hit_referer\"].unique()"
   ]
  },
  {
   "cell_type": "code",
   "execution_count": 41,
   "metadata": {},
   "outputs": [
    {
     "name": "stdout",
     "output_type": "stream",
     "text": [
      "Кодирование столбца 'hit_referer':\n",
      "Уникальных значений: 37874\n",
      "Максимальный код: 37874\n",
      "Распределение значений:\n",
      "hit_referer_encoded\n",
      "2     9521162\n",
      "1     1600346\n",
      "30    1241914\n",
      "22     868355\n",
      "10     538589\n",
      "Name: count, dtype: int64\n"
     ]
    }
   ],
   "source": [
    "ga_hits_filled = encode_column_with_nulls(ga_hits_filled, \"hit_referer\")"
   ]
  },
  {
   "attachments": {},
   "cell_type": "markdown",
   "metadata": {},
   "source": [
    "event_category"
   ]
  },
  {
   "cell_type": "code",
   "execution_count": 42,
   "metadata": {},
   "outputs": [
    {
     "data": {
      "text/plain": [
       "array(['quiz', 'card_web', 'sub_page_view', 'search_form', 'auth', 'chat',\n",
       "       'offers', 'ad_banner', 'navigation', 'profile_menu',\n",
       "       'sub_button_click', 'listing_ads', 'cars', 'sub_submit',\n",
       "       'main_banners', 'header', 'sap_search_form', 'active_invitation',\n",
       "       'sap_search__form', 'footer', 'scrolling_main_page', 'my_idea',\n",
       "       'phone', 'main_services', 'greenday_sub_button_click',\n",
       "       'greenday_listing_ads', 'greenday_gtm.triggergroup',\n",
       "       'credit_buttons', 'add_ad_vin', 'add_ad', 'category_tile',\n",
       "       'greenday_sub_submit', 'pos_landing', 'greenday_sub_page_view',\n",
       "       'add_ad_publish_success', 'add_ad_city', 'add_ad_description',\n",
       "       'add_ad_additional_information', 'add_ad_photo', 'wallet',\n",
       "       'add_ad_preview', 'add_ad_form', 'main_advantages',\n",
       "       'greenday_card_web', 'add_ad_documents', 'credit_landing_pos',\n",
       "       'add_ad_price', 'add_ad_options', 'jivosite', 'tesla',\n",
       "       'app_banner', 'titul_form'], dtype=object)"
      ]
     },
     "execution_count": 42,
     "metadata": {},
     "output_type": "execute_result"
    }
   ],
   "source": [
    "ga_hits_filled[\"event_category\"].unique()"
   ]
  },
  {
   "cell_type": "code",
   "execution_count": null,
   "metadata": {},
   "outputs": [],
   "source": []
  },
  {
   "cell_type": "code",
   "execution_count": 44,
   "metadata": {},
   "outputs": [
    {
     "name": "stderr",
     "output_type": "stream",
     "text": [
      "C:\\Users\\Aria\\AppData\\Local\\Packages\\PythonSoftwareFoundation.Python.3.11_qbz5n2kfra8p0\\LocalCache\\local-packages\\Python311\\site-packages\\plotly\\express\\_core.py:2065: FutureWarning:\n",
      "\n",
      "When grouping with a length-1 list-like, you will need to pass a length-1 tuple to get_group in a future version of pandas. Pass `(name,)` instead of `name` to silence this warning.\n",
      "\n"
     ]
    },
    {
     "data": {
      "application/vnd.plotly.v1+json": {
       "config": {
        "plotlyServerURL": "https://plot.ly"
       },
       "data": [
        {
         "alignmentgroup": "True",
         "hovertemplate": "Категория события=%{x}<br>Количество событий=%{y}<extra></extra>",
         "legendgroup": "card_web",
         "marker": {
          "color": "#636EFA",
          "pattern": {
           "shape": ""
          }
         },
         "name": "card_web",
         "offsetgroup": "card_web",
         "orientation": "v",
         "showlegend": true,
         "textposition": "auto",
         "texttemplate": "%{y}",
         "type": "bar",
         "x": [
          "card_web"
         ],
         "xaxis": "x",
         "y": [
          7456998
         ],
         "yaxis": "y"
        },
        {
         "alignmentgroup": "True",
         "hovertemplate": "Категория события=%{x}<br>Количество событий=%{y}<extra></extra>",
         "legendgroup": "search_form",
         "marker": {
          "color": "#EF553B",
          "pattern": {
           "shape": ""
          }
         },
         "name": "search_form",
         "offsetgroup": "search_form",
         "orientation": "v",
         "showlegend": true,
         "textposition": "auto",
         "texttemplate": "%{y}",
         "type": "bar",
         "x": [
          "search_form"
         ],
         "xaxis": "x",
         "y": [
          2423605
         ],
         "yaxis": "y"
        },
        {
         "alignmentgroup": "True",
         "hovertemplate": "Категория события=%{x}<br>Количество событий=%{y}<extra></extra>",
         "legendgroup": "sub_page_view",
         "marker": {
          "color": "#00CC96",
          "pattern": {
           "shape": ""
          }
         },
         "name": "sub_page_view",
         "offsetgroup": "sub_page_view",
         "orientation": "v",
         "showlegend": true,
         "textposition": "auto",
         "texttemplate": "%{y}",
         "type": "bar",
         "x": [
          "sub_page_view"
         ],
         "xaxis": "x",
         "y": [
          1986074
         ],
         "yaxis": "y"
        },
        {
         "alignmentgroup": "True",
         "hovertemplate": "Категория события=%{x}<br>Количество событий=%{y}<extra></extra>",
         "legendgroup": "sub_button_click",
         "marker": {
          "color": "#AB63FA",
          "pattern": {
           "shape": ""
          }
         },
         "name": "sub_button_click",
         "offsetgroup": "sub_button_click",
         "orientation": "v",
         "showlegend": true,
         "textposition": "auto",
         "texttemplate": "%{y}",
         "type": "bar",
         "x": [
          "sub_button_click"
         ],
         "xaxis": "x",
         "y": [
          1073471
         ],
         "yaxis": "y"
        },
        {
         "alignmentgroup": "True",
         "hovertemplate": "Категория события=%{x}<br>Количество событий=%{y}<extra></extra>",
         "legendgroup": "listing_ads",
         "marker": {
          "color": "#FFA15A",
          "pattern": {
           "shape": ""
          }
         },
         "name": "listing_ads",
         "offsetgroup": "listing_ads",
         "orientation": "v",
         "showlegend": true,
         "textposition": "auto",
         "texttemplate": "%{y}",
         "type": "bar",
         "x": [
          "listing_ads"
         ],
         "xaxis": "x",
         "y": [
          1040468
         ],
         "yaxis": "y"
        },
        {
         "alignmentgroup": "True",
         "hovertemplate": "Категория события=%{x}<br>Количество событий=%{y}<extra></extra>",
         "legendgroup": "OTHER",
         "marker": {
          "color": "#19D3F3",
          "pattern": {
           "shape": ""
          }
         },
         "name": "OTHER",
         "offsetgroup": "OTHER",
         "orientation": "v",
         "showlegend": true,
         "textposition": "auto",
         "texttemplate": "%{y}",
         "type": "bar",
         "x": [
          "OTHER"
         ],
         "xaxis": "x",
         "y": [
          389707
         ],
         "yaxis": "y"
        },
        {
         "alignmentgroup": "True",
         "hovertemplate": "Категория события=%{x}<br>Количество событий=%{y}<extra></extra>",
         "legendgroup": "cars",
         "marker": {
          "color": "#FF6692",
          "pattern": {
           "shape": ""
          }
         },
         "name": "cars",
         "offsetgroup": "cars",
         "orientation": "v",
         "showlegend": true,
         "textposition": "auto",
         "texttemplate": "%{y}",
         "type": "bar",
         "x": [
          "cars"
         ],
         "xaxis": "x",
         "y": [
          358915
         ],
         "yaxis": "y"
        },
        {
         "alignmentgroup": "True",
         "hovertemplate": "Категория события=%{x}<br>Количество событий=%{y}<extra></extra>",
         "legendgroup": "sap_search_form",
         "marker": {
          "color": "#B6E880",
          "pattern": {
           "shape": ""
          }
         },
         "name": "sap_search_form",
         "offsetgroup": "sap_search_form",
         "orientation": "v",
         "showlegend": true,
         "textposition": "auto",
         "texttemplate": "%{y}",
         "type": "bar",
         "x": [
          "sap_search_form"
         ],
         "xaxis": "x",
         "y": [
          356596
         ],
         "yaxis": "y"
        },
        {
         "alignmentgroup": "True",
         "hovertemplate": "Категория события=%{x}<br>Количество событий=%{y}<extra></extra>",
         "legendgroup": "quiz",
         "marker": {
          "color": "#FF97FF",
          "pattern": {
           "shape": ""
          }
         },
         "name": "quiz",
         "offsetgroup": "quiz",
         "orientation": "v",
         "showlegend": true,
         "textposition": "auto",
         "texttemplate": "%{y}",
         "type": "bar",
         "x": [
          "quiz"
         ],
         "xaxis": "x",
         "y": [
          263134
         ],
         "yaxis": "y"
        },
        {
         "alignmentgroup": "True",
         "hovertemplate": "Категория события=%{x}<br>Количество событий=%{y}<extra></extra>",
         "legendgroup": "auth",
         "marker": {
          "color": "#FECB52",
          "pattern": {
           "shape": ""
          }
         },
         "name": "auth",
         "offsetgroup": "auth",
         "orientation": "v",
         "showlegend": true,
         "textposition": "auto",
         "texttemplate": "%{y}",
         "type": "bar",
         "x": [
          "auth"
         ],
         "xaxis": "x",
         "y": [
          189373
         ],
         "yaxis": "y"
        },
        {
         "alignmentgroup": "True",
         "hovertemplate": "Категория события=%{x}<br>Количество событий=%{y}<extra></extra>",
         "legendgroup": "sap_search__form",
         "marker": {
          "color": "#636EFA",
          "pattern": {
           "shape": ""
          }
         },
         "name": "sap_search__form",
         "offsetgroup": "sap_search__form",
         "orientation": "v",
         "showlegend": true,
         "textposition": "auto",
         "texttemplate": "%{y}",
         "type": "bar",
         "x": [
          "sap_search__form"
         ],
         "xaxis": "x",
         "y": [
          188129
         ],
         "yaxis": "y"
        }
       ],
       "layout": {
        "annotations": [
         {
          "arrowhead": 1,
          "ax": 0,
          "ay": -40,
          "showarrow": true,
          "text": "42 категорий объединены",
          "x": "OTHER",
          "y": 389707
         }
        ],
        "barmode": "relative",
        "hovermode": "x",
        "legend": {
         "title": {
          "text": "Категория события"
         },
         "tracegroupgap": 0
        },
        "showlegend": false,
        "template": {
         "data": {
          "bar": [
           {
            "error_x": {
             "color": "#2a3f5f"
            },
            "error_y": {
             "color": "#2a3f5f"
            },
            "marker": {
             "line": {
              "color": "#E5ECF6",
              "width": 0.5
             },
             "pattern": {
              "fillmode": "overlay",
              "size": 10,
              "solidity": 0.2
             }
            },
            "type": "bar"
           }
          ],
          "barpolar": [
           {
            "marker": {
             "line": {
              "color": "#E5ECF6",
              "width": 0.5
             },
             "pattern": {
              "fillmode": "overlay",
              "size": 10,
              "solidity": 0.2
             }
            },
            "type": "barpolar"
           }
          ],
          "carpet": [
           {
            "aaxis": {
             "endlinecolor": "#2a3f5f",
             "gridcolor": "white",
             "linecolor": "white",
             "minorgridcolor": "white",
             "startlinecolor": "#2a3f5f"
            },
            "baxis": {
             "endlinecolor": "#2a3f5f",
             "gridcolor": "white",
             "linecolor": "white",
             "minorgridcolor": "white",
             "startlinecolor": "#2a3f5f"
            },
            "type": "carpet"
           }
          ],
          "choropleth": [
           {
            "colorbar": {
             "outlinewidth": 0,
             "ticks": ""
            },
            "type": "choropleth"
           }
          ],
          "contour": [
           {
            "colorbar": {
             "outlinewidth": 0,
             "ticks": ""
            },
            "colorscale": [
             [
              0,
              "#0d0887"
             ],
             [
              0.1111111111111111,
              "#46039f"
             ],
             [
              0.2222222222222222,
              "#7201a8"
             ],
             [
              0.3333333333333333,
              "#9c179e"
             ],
             [
              0.4444444444444444,
              "#bd3786"
             ],
             [
              0.5555555555555556,
              "#d8576b"
             ],
             [
              0.6666666666666666,
              "#ed7953"
             ],
             [
              0.7777777777777778,
              "#fb9f3a"
             ],
             [
              0.8888888888888888,
              "#fdca26"
             ],
             [
              1,
              "#f0f921"
             ]
            ],
            "type": "contour"
           }
          ],
          "contourcarpet": [
           {
            "colorbar": {
             "outlinewidth": 0,
             "ticks": ""
            },
            "type": "contourcarpet"
           }
          ],
          "heatmap": [
           {
            "colorbar": {
             "outlinewidth": 0,
             "ticks": ""
            },
            "colorscale": [
             [
              0,
              "#0d0887"
             ],
             [
              0.1111111111111111,
              "#46039f"
             ],
             [
              0.2222222222222222,
              "#7201a8"
             ],
             [
              0.3333333333333333,
              "#9c179e"
             ],
             [
              0.4444444444444444,
              "#bd3786"
             ],
             [
              0.5555555555555556,
              "#d8576b"
             ],
             [
              0.6666666666666666,
              "#ed7953"
             ],
             [
              0.7777777777777778,
              "#fb9f3a"
             ],
             [
              0.8888888888888888,
              "#fdca26"
             ],
             [
              1,
              "#f0f921"
             ]
            ],
            "type": "heatmap"
           }
          ],
          "heatmapgl": [
           {
            "colorbar": {
             "outlinewidth": 0,
             "ticks": ""
            },
            "colorscale": [
             [
              0,
              "#0d0887"
             ],
             [
              0.1111111111111111,
              "#46039f"
             ],
             [
              0.2222222222222222,
              "#7201a8"
             ],
             [
              0.3333333333333333,
              "#9c179e"
             ],
             [
              0.4444444444444444,
              "#bd3786"
             ],
             [
              0.5555555555555556,
              "#d8576b"
             ],
             [
              0.6666666666666666,
              "#ed7953"
             ],
             [
              0.7777777777777778,
              "#fb9f3a"
             ],
             [
              0.8888888888888888,
              "#fdca26"
             ],
             [
              1,
              "#f0f921"
             ]
            ],
            "type": "heatmapgl"
           }
          ],
          "histogram": [
           {
            "marker": {
             "pattern": {
              "fillmode": "overlay",
              "size": 10,
              "solidity": 0.2
             }
            },
            "type": "histogram"
           }
          ],
          "histogram2d": [
           {
            "colorbar": {
             "outlinewidth": 0,
             "ticks": ""
            },
            "colorscale": [
             [
              0,
              "#0d0887"
             ],
             [
              0.1111111111111111,
              "#46039f"
             ],
             [
              0.2222222222222222,
              "#7201a8"
             ],
             [
              0.3333333333333333,
              "#9c179e"
             ],
             [
              0.4444444444444444,
              "#bd3786"
             ],
             [
              0.5555555555555556,
              "#d8576b"
             ],
             [
              0.6666666666666666,
              "#ed7953"
             ],
             [
              0.7777777777777778,
              "#fb9f3a"
             ],
             [
              0.8888888888888888,
              "#fdca26"
             ],
             [
              1,
              "#f0f921"
             ]
            ],
            "type": "histogram2d"
           }
          ],
          "histogram2dcontour": [
           {
            "colorbar": {
             "outlinewidth": 0,
             "ticks": ""
            },
            "colorscale": [
             [
              0,
              "#0d0887"
             ],
             [
              0.1111111111111111,
              "#46039f"
             ],
             [
              0.2222222222222222,
              "#7201a8"
             ],
             [
              0.3333333333333333,
              "#9c179e"
             ],
             [
              0.4444444444444444,
              "#bd3786"
             ],
             [
              0.5555555555555556,
              "#d8576b"
             ],
             [
              0.6666666666666666,
              "#ed7953"
             ],
             [
              0.7777777777777778,
              "#fb9f3a"
             ],
             [
              0.8888888888888888,
              "#fdca26"
             ],
             [
              1,
              "#f0f921"
             ]
            ],
            "type": "histogram2dcontour"
           }
          ],
          "mesh3d": [
           {
            "colorbar": {
             "outlinewidth": 0,
             "ticks": ""
            },
            "type": "mesh3d"
           }
          ],
          "parcoords": [
           {
            "line": {
             "colorbar": {
              "outlinewidth": 0,
              "ticks": ""
             }
            },
            "type": "parcoords"
           }
          ],
          "pie": [
           {
            "automargin": true,
            "type": "pie"
           }
          ],
          "scatter": [
           {
            "fillpattern": {
             "fillmode": "overlay",
             "size": 10,
             "solidity": 0.2
            },
            "type": "scatter"
           }
          ],
          "scatter3d": [
           {
            "line": {
             "colorbar": {
              "outlinewidth": 0,
              "ticks": ""
             }
            },
            "marker": {
             "colorbar": {
              "outlinewidth": 0,
              "ticks": ""
             }
            },
            "type": "scatter3d"
           }
          ],
          "scattercarpet": [
           {
            "marker": {
             "colorbar": {
              "outlinewidth": 0,
              "ticks": ""
             }
            },
            "type": "scattercarpet"
           }
          ],
          "scattergeo": [
           {
            "marker": {
             "colorbar": {
              "outlinewidth": 0,
              "ticks": ""
             }
            },
            "type": "scattergeo"
           }
          ],
          "scattergl": [
           {
            "marker": {
             "colorbar": {
              "outlinewidth": 0,
              "ticks": ""
             }
            },
            "type": "scattergl"
           }
          ],
          "scattermapbox": [
           {
            "marker": {
             "colorbar": {
              "outlinewidth": 0,
              "ticks": ""
             }
            },
            "type": "scattermapbox"
           }
          ],
          "scatterpolar": [
           {
            "marker": {
             "colorbar": {
              "outlinewidth": 0,
              "ticks": ""
             }
            },
            "type": "scatterpolar"
           }
          ],
          "scatterpolargl": [
           {
            "marker": {
             "colorbar": {
              "outlinewidth": 0,
              "ticks": ""
             }
            },
            "type": "scatterpolargl"
           }
          ],
          "scatterternary": [
           {
            "marker": {
             "colorbar": {
              "outlinewidth": 0,
              "ticks": ""
             }
            },
            "type": "scatterternary"
           }
          ],
          "surface": [
           {
            "colorbar": {
             "outlinewidth": 0,
             "ticks": ""
            },
            "colorscale": [
             [
              0,
              "#0d0887"
             ],
             [
              0.1111111111111111,
              "#46039f"
             ],
             [
              0.2222222222222222,
              "#7201a8"
             ],
             [
              0.3333333333333333,
              "#9c179e"
             ],
             [
              0.4444444444444444,
              "#bd3786"
             ],
             [
              0.5555555555555556,
              "#d8576b"
             ],
             [
              0.6666666666666666,
              "#ed7953"
             ],
             [
              0.7777777777777778,
              "#fb9f3a"
             ],
             [
              0.8888888888888888,
              "#fdca26"
             ],
             [
              1,
              "#f0f921"
             ]
            ],
            "type": "surface"
           }
          ],
          "table": [
           {
            "cells": {
             "fill": {
              "color": "#EBF0F8"
             },
             "line": {
              "color": "white"
             }
            },
            "header": {
             "fill": {
              "color": "#C8D4E3"
             },
             "line": {
              "color": "white"
             }
            },
            "type": "table"
           }
          ]
         },
         "layout": {
          "annotationdefaults": {
           "arrowcolor": "#2a3f5f",
           "arrowhead": 0,
           "arrowwidth": 1
          },
          "autotypenumbers": "strict",
          "coloraxis": {
           "colorbar": {
            "outlinewidth": 0,
            "ticks": ""
           }
          },
          "colorscale": {
           "diverging": [
            [
             0,
             "#8e0152"
            ],
            [
             0.1,
             "#c51b7d"
            ],
            [
             0.2,
             "#de77ae"
            ],
            [
             0.3,
             "#f1b6da"
            ],
            [
             0.4,
             "#fde0ef"
            ],
            [
             0.5,
             "#f7f7f7"
            ],
            [
             0.6,
             "#e6f5d0"
            ],
            [
             0.7,
             "#b8e186"
            ],
            [
             0.8,
             "#7fbc41"
            ],
            [
             0.9,
             "#4d9221"
            ],
            [
             1,
             "#276419"
            ]
           ],
           "sequential": [
            [
             0,
             "#0d0887"
            ],
            [
             0.1111111111111111,
             "#46039f"
            ],
            [
             0.2222222222222222,
             "#7201a8"
            ],
            [
             0.3333333333333333,
             "#9c179e"
            ],
            [
             0.4444444444444444,
             "#bd3786"
            ],
            [
             0.5555555555555556,
             "#d8576b"
            ],
            [
             0.6666666666666666,
             "#ed7953"
            ],
            [
             0.7777777777777778,
             "#fb9f3a"
            ],
            [
             0.8888888888888888,
             "#fdca26"
            ],
            [
             1,
             "#f0f921"
            ]
           ],
           "sequentialminus": [
            [
             0,
             "#0d0887"
            ],
            [
             0.1111111111111111,
             "#46039f"
            ],
            [
             0.2222222222222222,
             "#7201a8"
            ],
            [
             0.3333333333333333,
             "#9c179e"
            ],
            [
             0.4444444444444444,
             "#bd3786"
            ],
            [
             0.5555555555555556,
             "#d8576b"
            ],
            [
             0.6666666666666666,
             "#ed7953"
            ],
            [
             0.7777777777777778,
             "#fb9f3a"
            ],
            [
             0.8888888888888888,
             "#fdca26"
            ],
            [
             1,
             "#f0f921"
            ]
           ]
          },
          "colorway": [
           "#636efa",
           "#EF553B",
           "#00cc96",
           "#ab63fa",
           "#FFA15A",
           "#19d3f3",
           "#FF6692",
           "#B6E880",
           "#FF97FF",
           "#FECB52"
          ],
          "font": {
           "color": "#2a3f5f"
          },
          "geo": {
           "bgcolor": "white",
           "lakecolor": "white",
           "landcolor": "#E5ECF6",
           "showlakes": true,
           "showland": true,
           "subunitcolor": "white"
          },
          "hoverlabel": {
           "align": "left"
          },
          "hovermode": "closest",
          "mapbox": {
           "style": "light"
          },
          "paper_bgcolor": "white",
          "plot_bgcolor": "#E5ECF6",
          "polar": {
           "angularaxis": {
            "gridcolor": "white",
            "linecolor": "white",
            "ticks": ""
           },
           "bgcolor": "#E5ECF6",
           "radialaxis": {
            "gridcolor": "white",
            "linecolor": "white",
            "ticks": ""
           }
          },
          "scene": {
           "xaxis": {
            "backgroundcolor": "#E5ECF6",
            "gridcolor": "white",
            "gridwidth": 2,
            "linecolor": "white",
            "showbackground": true,
            "ticks": "",
            "zerolinecolor": "white"
           },
           "yaxis": {
            "backgroundcolor": "#E5ECF6",
            "gridcolor": "white",
            "gridwidth": 2,
            "linecolor": "white",
            "showbackground": true,
            "ticks": "",
            "zerolinecolor": "white"
           },
           "zaxis": {
            "backgroundcolor": "#E5ECF6",
            "gridcolor": "white",
            "gridwidth": 2,
            "linecolor": "white",
            "showbackground": true,
            "ticks": "",
            "zerolinecolor": "white"
           }
          },
          "shapedefaults": {
           "line": {
            "color": "#2a3f5f"
           }
          },
          "ternary": {
           "aaxis": {
            "gridcolor": "white",
            "linecolor": "white",
            "ticks": ""
           },
           "baxis": {
            "gridcolor": "white",
            "linecolor": "white",
            "ticks": ""
           },
           "bgcolor": "#E5ECF6",
           "caxis": {
            "gridcolor": "white",
            "linecolor": "white",
            "ticks": ""
           }
          },
          "title": {
           "x": 0.05
          },
          "xaxis": {
           "automargin": true,
           "gridcolor": "white",
           "linecolor": "white",
           "ticks": "",
           "title": {
            "standoff": 15
           },
           "zerolinecolor": "white",
           "zerolinewidth": 2
          },
          "yaxis": {
           "automargin": true,
           "gridcolor": "white",
           "linecolor": "white",
           "ticks": "",
           "title": {
            "standoff": 15
           },
           "zerolinecolor": "white",
           "zerolinewidth": 2
          }
         }
        },
        "title": {
         "text": "Распределение категорий событий (категории < 157,265 событий объединены в OTHER)"
        },
        "xaxis": {
         "anchor": "y",
         "categoryarray": [
          "card_web",
          "search_form",
          "sub_page_view",
          "sub_button_click",
          "listing_ads",
          "OTHER",
          "cars",
          "sap_search_form",
          "quiz",
          "auth",
          "sap_search__form"
         ],
         "categoryorder": "total descending",
         "domain": [
          0,
          1
         ],
         "title": {
          "text": "Категория события"
         }
        },
        "yaxis": {
         "anchor": "x",
         "domain": [
          0,
          1
         ],
         "title": {
          "text": "Количество событий"
         }
        }
       }
      }
     },
     "metadata": {},
     "output_type": "display_data"
    }
   ],
   "source": [
    "# Рассчитываем порог (1% от общего количества событий)\n",
    "threshold = len(ga_hits_filled) * 0.01\n",
    "\n",
    "# Создаем словарь для замены значений\n",
    "value_counts = ga_hits_filled[\"event_category\"].value_counts()\n",
    "replace_dict = {\n",
    "    category: \"OTHER\" for category in value_counts[value_counts < threshold].index\n",
    "}\n",
    "\n",
    "# Создаем новый столбец с объединенными категориями\n",
    "ga_hits_filled[\"event_category_grouped\"] = ga_hits_filled[\"event_category\"].replace(\n",
    "    replace_dict\n",
    ")\n",
    "\n",
    "# Подготавливаем данные для визуализации\n",
    "event_counts = ga_hits_filled[\"event_category_grouped\"].value_counts().reset_index()\n",
    "event_counts.columns = [\"category\", \"count\"]  # Переименовываем столбцы\n",
    "\n",
    "# Строим интерактивную диаграмму\n",
    "fig = px.bar(\n",
    "    event_counts,\n",
    "    x=\"category\",  # Используем новое имя столбца\n",
    "    y=\"count\",\n",
    "    labels={\"category\": \"Категория события\", \"count\": \"Количество событий\"},\n",
    "    title=f\"Распределение категорий событий (категории < {threshold:,.0f} событий объединены в OTHER)\",\n",
    "    text_auto=True,\n",
    "    color=\"category\",\n",
    "    color_discrete_sequence=px.colors.qualitative.Plotly,\n",
    ")\n",
    "\n",
    "# Настраиваем отображение\n",
    "fig.update_layout(\n",
    "    xaxis_title=\"Категория события\",\n",
    "    yaxis_title=\"Количество событий\",\n",
    "    xaxis={\"categoryorder\": \"total descending\"},\n",
    "    showlegend=False,\n",
    "    hovermode=\"x\",\n",
    ")\n",
    "\n",
    "# Добавляем подпись с количеством объединенных категорий\n",
    "other_count = len(value_counts[value_counts < threshold])\n",
    "fig.add_annotation(\n",
    "    x=\"OTHER\",\n",
    "    y=event_counts.loc[event_counts[\"category\"] == \"OTHER\", \"count\"].values[0],\n",
    "    text=f\"{other_count} категорий объединены\",\n",
    "    showarrow=True,\n",
    "    arrowhead=1,\n",
    "    ax=0,\n",
    "    ay=-40,\n",
    ")\n",
    "\n",
    "fig.show()"
   ]
  },
  {
   "attachments": {},
   "cell_type": "markdown",
   "metadata": {},
   "source": [
    "event_action"
   ]
  },
  {
   "cell_type": "code",
   "execution_count": 46,
   "metadata": {},
   "outputs": [
    {
     "name": "stderr",
     "output_type": "stream",
     "text": [
      "C:\\Users\\Aria\\AppData\\Local\\Packages\\PythonSoftwareFoundation.Python.3.11_qbz5n2kfra8p0\\LocalCache\\local-packages\\Python311\\site-packages\\plotly\\express\\_core.py:2065: FutureWarning:\n",
      "\n",
      "When grouping with a length-1 list-like, you will need to pass a length-1 tuple to get_group in a future version of pandas. Pass `(name,)` instead of `name` to silence this warning.\n",
      "\n"
     ]
    },
    {
     "data": {
      "application/vnd.plotly.v1+json": {
       "config": {
        "plotlyServerURL": "https://plot.ly"
       },
       "data": [
        {
         "alignmentgroup": "True",
         "hovertemplate": "Действие=%{x}<br>Количество событий=%{y}<extra></extra>",
         "legendgroup": "view_card",
         "marker": {
          "color": "#636EFA",
          "pattern": {
           "shape": ""
          }
         },
         "name": "view_card",
         "offsetgroup": "view_card",
         "orientation": "v",
         "showlegend": true,
         "textposition": "auto",
         "texttemplate": "%{y}",
         "type": "bar",
         "x": [
          "view_card"
         ],
         "xaxis": "x",
         "y": [
          3558985
         ],
         "yaxis": "y"
        },
        {
         "alignmentgroup": "True",
         "hovertemplate": "Действие=%{x}<br>Количество событий=%{y}<extra></extra>",
         "legendgroup": "view_new_card",
         "marker": {
          "color": "#EF553B",
          "pattern": {
           "shape": ""
          }
         },
         "name": "view_new_card",
         "offsetgroup": "view_new_card",
         "orientation": "v",
         "showlegend": true,
         "textposition": "auto",
         "texttemplate": "%{y}",
         "type": "bar",
         "x": [
          "view_new_card"
         ],
         "xaxis": "x",
         "y": [
          3551009
         ],
         "yaxis": "y"
        },
        {
         "alignmentgroup": "True",
         "hovertemplate": "Действие=%{x}<br>Количество событий=%{y}<extra></extra>",
         "legendgroup": "OTHER",
         "marker": {
          "color": "#00CC96",
          "pattern": {
           "shape": ""
          }
         },
         "name": "OTHER",
         "offsetgroup": "OTHER",
         "orientation": "v",
         "showlegend": true,
         "textposition": "auto",
         "texttemplate": "%{y}",
         "type": "bar",
         "x": [
          "OTHER"
         ],
         "xaxis": "x",
         "y": [
          1823926
         ],
         "yaxis": "y"
        },
        {
         "alignmentgroup": "True",
         "hovertemplate": "Действие=%{x}<br>Количество событий=%{y}<extra></extra>",
         "legendgroup": "sub_landing",
         "marker": {
          "color": "#AB63FA",
          "pattern": {
           "shape": ""
          }
         },
         "name": "sub_landing",
         "offsetgroup": "sub_landing",
         "orientation": "v",
         "showlegend": true,
         "textposition": "auto",
         "texttemplate": "%{y}",
         "type": "bar",
         "x": [
          "sub_landing"
         ],
         "xaxis": "x",
         "y": [
          1798117
         ],
         "yaxis": "y"
        },
        {
         "alignmentgroup": "True",
         "hovertemplate": "Действие=%{x}<br>Количество событий=%{y}<extra></extra>",
         "legendgroup": "go_to_car_card",
         "marker": {
          "color": "#FFA15A",
          "pattern": {
           "shape": ""
          }
         },
         "name": "go_to_car_card",
         "offsetgroup": "go_to_car_card",
         "orientation": "v",
         "showlegend": true,
         "textposition": "auto",
         "texttemplate": "%{y}",
         "type": "bar",
         "x": [
          "go_to_car_card"
         ],
         "xaxis": "x",
         "y": [
          973666
         ],
         "yaxis": "y"
        },
        {
         "alignmentgroup": "True",
         "hovertemplate": "Действие=%{x}<br>Количество событий=%{y}<extra></extra>",
         "legendgroup": "sub_view_cars_click",
         "marker": {
          "color": "#19D3F3",
          "pattern": {
           "shape": ""
          }
         },
         "name": "sub_view_cars_click",
         "offsetgroup": "sub_view_cars_click",
         "orientation": "v",
         "showlegend": true,
         "textposition": "auto",
         "texttemplate": "%{y}",
         "type": "bar",
         "x": [
          "sub_view_cars_click"
         ],
         "xaxis": "x",
         "y": [
          791515
         ],
         "yaxis": "y"
        },
        {
         "alignmentgroup": "True",
         "hovertemplate": "Действие=%{x}<br>Количество событий=%{y}<extra></extra>",
         "legendgroup": "search_form_region",
         "marker": {
          "color": "#FF6692",
          "pattern": {
           "shape": ""
          }
         },
         "name": "search_form_region",
         "offsetgroup": "search_form_region",
         "orientation": "v",
         "showlegend": true,
         "textposition": "auto",
         "texttemplate": "%{y}",
         "type": "bar",
         "x": [
          "search_form_region"
         ],
         "xaxis": "x",
         "y": [
          512069
         ],
         "yaxis": "y"
        },
        {
         "alignmentgroup": "True",
         "hovertemplate": "Действие=%{x}<br>Количество событий=%{y}<extra></extra>",
         "legendgroup": "search_form_search_btn",
         "marker": {
          "color": "#B6E880",
          "pattern": {
           "shape": ""
          }
         },
         "name": "search_form_search_btn",
         "offsetgroup": "search_form_search_btn",
         "orientation": "v",
         "showlegend": true,
         "textposition": "auto",
         "texttemplate": "%{y}",
         "type": "bar",
         "x": [
          "search_form_search_btn"
         ],
         "xaxis": "x",
         "y": [
          433748
         ],
         "yaxis": "y"
        },
        {
         "alignmentgroup": "True",
         "hovertemplate": "Действие=%{x}<br>Количество событий=%{y}<extra></extra>",
         "legendgroup": "sap_search_form_cost_to",
         "marker": {
          "color": "#FF97FF",
          "pattern": {
           "shape": ""
          }
         },
         "name": "sap_search_form_cost_to",
         "offsetgroup": "sap_search_form_cost_to",
         "orientation": "v",
         "showlegend": true,
         "textposition": "auto",
         "texttemplate": "%{y}",
         "type": "bar",
         "x": [
          "sap_search_form_cost_to"
         ],
         "xaxis": "x",
         "y": [
          356596
         ],
         "yaxis": "y"
        },
        {
         "alignmentgroup": "True",
         "hovertemplate": "Действие=%{x}<br>Количество событий=%{y}<extra></extra>",
         "legendgroup": "showed_number_ads",
         "marker": {
          "color": "#FECB52",
          "pattern": {
           "shape": ""
          }
         },
         "name": "showed_number_ads",
         "offsetgroup": "showed_number_ads",
         "orientation": "v",
         "showlegend": true,
         "textposition": "auto",
         "texttemplate": "%{y}",
         "type": "bar",
         "x": [
          "showed_number_ads"
         ],
         "xaxis": "x",
         "y": [
          326274
         ],
         "yaxis": "y"
        },
        {
         "alignmentgroup": "True",
         "hovertemplate": "Действие=%{x}<br>Количество событий=%{y}<extra></extra>",
         "legendgroup": "pagination_click",
         "marker": {
          "color": "#636EFA",
          "pattern": {
           "shape": ""
          }
         },
         "name": "pagination_click",
         "offsetgroup": "pagination_click",
         "orientation": "v",
         "showlegend": true,
         "textposition": "auto",
         "texttemplate": "%{y}",
         "type": "bar",
         "x": [
          "pagination_click"
         ],
         "xaxis": "x",
         "y": [
          248944
         ],
         "yaxis": "y"
        },
        {
         "alignmentgroup": "True",
         "hovertemplate": "Действие=%{x}<br>Количество событий=%{y}<extra></extra>",
         "legendgroup": "search_form_mark_select",
         "marker": {
          "color": "#EF553B",
          "pattern": {
           "shape": ""
          }
         },
         "name": "search_form_mark_select",
         "offsetgroup": "search_form_mark_select",
         "orientation": "v",
         "showlegend": true,
         "textposition": "auto",
         "texttemplate": "%{y}",
         "type": "bar",
         "x": [
          "search_form_mark_select"
         ],
         "xaxis": "x",
         "y": [
          222652
         ],
         "yaxis": "y"
        },
        {
         "alignmentgroup": "True",
         "hovertemplate": "Действие=%{x}<br>Количество событий=%{y}<extra></extra>",
         "legendgroup": "quiz_show",
         "marker": {
          "color": "#00CC96",
          "pattern": {
           "shape": ""
          }
         },
         "name": "quiz_show",
         "offsetgroup": "quiz_show",
         "orientation": "v",
         "showlegend": true,
         "textposition": "auto",
         "texttemplate": "%{y}",
         "type": "bar",
         "x": [
          "quiz_show"
         ],
         "xaxis": "x",
         "y": [
          214037
         ],
         "yaxis": "y"
        },
        {
         "alignmentgroup": "True",
         "hovertemplate": "Действие=%{x}<br>Количество событий=%{y}<extra></extra>",
         "legendgroup": "search_form_model_select",
         "marker": {
          "color": "#AB63FA",
          "pattern": {
           "shape": ""
          }
         },
         "name": "search_form_model_select",
         "offsetgroup": "search_form_model_select",
         "orientation": "v",
         "showlegend": true,
         "textposition": "auto",
         "texttemplate": "%{y}",
         "type": "bar",
         "x": [
          "search_form_model_select"
         ],
         "xaxis": "x",
         "y": [
          211890
         ],
         "yaxis": "y"
        },
        {
         "alignmentgroup": "True",
         "hovertemplate": "Действие=%{x}<br>Количество событий=%{y}<extra></extra>",
         "legendgroup": "sap_search_form_cost_from",
         "marker": {
          "color": "#FFA15A",
          "pattern": {
           "shape": ""
          }
         },
         "name": "sap_search_form_cost_from",
         "offsetgroup": "sap_search_form_cost_from",
         "orientation": "v",
         "showlegend": true,
         "textposition": "auto",
         "texttemplate": "%{y}",
         "type": "bar",
         "x": [
          "sap_search_form_cost_from"
         ],
         "xaxis": "x",
         "y": [
          188129
         ],
         "yaxis": "y"
        },
        {
         "alignmentgroup": "True",
         "hovertemplate": "Действие=%{x}<br>Количество событий=%{y}<extra></extra>",
         "legendgroup": "photos_all",
         "marker": {
          "color": "#19D3F3",
          "pattern": {
           "shape": ""
          }
         },
         "name": "photos_all",
         "offsetgroup": "photos_all",
         "orientation": "v",
         "showlegend": true,
         "textposition": "auto",
         "texttemplate": "%{y}",
         "type": "bar",
         "x": [
          "photos_all"
         ],
         "xaxis": "x",
         "y": [
          181493
         ],
         "yaxis": "y"
        },
        {
         "alignmentgroup": "True",
         "hovertemplate": "Действие=%{x}<br>Количество событий=%{y}<extra></extra>",
         "legendgroup": "search_form_search_car_type_select",
         "marker": {
          "color": "#FF6692",
          "pattern": {
           "shape": ""
          }
         },
         "name": "search_form_search_car_type_select",
         "offsetgroup": "search_form_search_car_type_select",
         "orientation": "v",
         "showlegend": true,
         "textposition": "auto",
         "texttemplate": "%{y}",
         "type": "bar",
         "x": [
          "search_form_search_car_type_select"
         ],
         "xaxis": "x",
         "y": [
          174877
         ],
         "yaxis": "y"
        },
        {
         "alignmentgroup": "True",
         "hovertemplate": "Действие=%{x}<br>Количество событий=%{y}<extra></extra>",
         "legendgroup": "photos",
         "marker": {
          "color": "#B6E880",
          "pattern": {
           "shape": ""
          }
         },
         "name": "photos",
         "offsetgroup": "photos",
         "orientation": "v",
         "showlegend": true,
         "textposition": "auto",
         "texttemplate": "%{y}",
         "type": "bar",
         "x": [
          "photos"
         ],
         "xaxis": "x",
         "y": [
          158543
         ],
         "yaxis": "y"
        }
       ],
       "layout": {
        "annotations": [
         {
          "arrowhead": 1,
          "ax": 0,
          "ay": -40,
          "showarrow": true,
          "text": "213 действий объединены",
          "x": "OTHER",
          "y": 1823926
         }
        ],
        "barmode": "relative",
        "hovermode": "x",
        "legend": {
         "title": {
          "text": "Действие"
         },
         "tracegroupgap": 0
        },
        "showlegend": false,
        "template": {
         "data": {
          "bar": [
           {
            "error_x": {
             "color": "#2a3f5f"
            },
            "error_y": {
             "color": "#2a3f5f"
            },
            "marker": {
             "line": {
              "color": "#E5ECF6",
              "width": 0.5
             },
             "pattern": {
              "fillmode": "overlay",
              "size": 10,
              "solidity": 0.2
             }
            },
            "type": "bar"
           }
          ],
          "barpolar": [
           {
            "marker": {
             "line": {
              "color": "#E5ECF6",
              "width": 0.5
             },
             "pattern": {
              "fillmode": "overlay",
              "size": 10,
              "solidity": 0.2
             }
            },
            "type": "barpolar"
           }
          ],
          "carpet": [
           {
            "aaxis": {
             "endlinecolor": "#2a3f5f",
             "gridcolor": "white",
             "linecolor": "white",
             "minorgridcolor": "white",
             "startlinecolor": "#2a3f5f"
            },
            "baxis": {
             "endlinecolor": "#2a3f5f",
             "gridcolor": "white",
             "linecolor": "white",
             "minorgridcolor": "white",
             "startlinecolor": "#2a3f5f"
            },
            "type": "carpet"
           }
          ],
          "choropleth": [
           {
            "colorbar": {
             "outlinewidth": 0,
             "ticks": ""
            },
            "type": "choropleth"
           }
          ],
          "contour": [
           {
            "colorbar": {
             "outlinewidth": 0,
             "ticks": ""
            },
            "colorscale": [
             [
              0,
              "#0d0887"
             ],
             [
              0.1111111111111111,
              "#46039f"
             ],
             [
              0.2222222222222222,
              "#7201a8"
             ],
             [
              0.3333333333333333,
              "#9c179e"
             ],
             [
              0.4444444444444444,
              "#bd3786"
             ],
             [
              0.5555555555555556,
              "#d8576b"
             ],
             [
              0.6666666666666666,
              "#ed7953"
             ],
             [
              0.7777777777777778,
              "#fb9f3a"
             ],
             [
              0.8888888888888888,
              "#fdca26"
             ],
             [
              1,
              "#f0f921"
             ]
            ],
            "type": "contour"
           }
          ],
          "contourcarpet": [
           {
            "colorbar": {
             "outlinewidth": 0,
             "ticks": ""
            },
            "type": "contourcarpet"
           }
          ],
          "heatmap": [
           {
            "colorbar": {
             "outlinewidth": 0,
             "ticks": ""
            },
            "colorscale": [
             [
              0,
              "#0d0887"
             ],
             [
              0.1111111111111111,
              "#46039f"
             ],
             [
              0.2222222222222222,
              "#7201a8"
             ],
             [
              0.3333333333333333,
              "#9c179e"
             ],
             [
              0.4444444444444444,
              "#bd3786"
             ],
             [
              0.5555555555555556,
              "#d8576b"
             ],
             [
              0.6666666666666666,
              "#ed7953"
             ],
             [
              0.7777777777777778,
              "#fb9f3a"
             ],
             [
              0.8888888888888888,
              "#fdca26"
             ],
             [
              1,
              "#f0f921"
             ]
            ],
            "type": "heatmap"
           }
          ],
          "heatmapgl": [
           {
            "colorbar": {
             "outlinewidth": 0,
             "ticks": ""
            },
            "colorscale": [
             [
              0,
              "#0d0887"
             ],
             [
              0.1111111111111111,
              "#46039f"
             ],
             [
              0.2222222222222222,
              "#7201a8"
             ],
             [
              0.3333333333333333,
              "#9c179e"
             ],
             [
              0.4444444444444444,
              "#bd3786"
             ],
             [
              0.5555555555555556,
              "#d8576b"
             ],
             [
              0.6666666666666666,
              "#ed7953"
             ],
             [
              0.7777777777777778,
              "#fb9f3a"
             ],
             [
              0.8888888888888888,
              "#fdca26"
             ],
             [
              1,
              "#f0f921"
             ]
            ],
            "type": "heatmapgl"
           }
          ],
          "histogram": [
           {
            "marker": {
             "pattern": {
              "fillmode": "overlay",
              "size": 10,
              "solidity": 0.2
             }
            },
            "type": "histogram"
           }
          ],
          "histogram2d": [
           {
            "colorbar": {
             "outlinewidth": 0,
             "ticks": ""
            },
            "colorscale": [
             [
              0,
              "#0d0887"
             ],
             [
              0.1111111111111111,
              "#46039f"
             ],
             [
              0.2222222222222222,
              "#7201a8"
             ],
             [
              0.3333333333333333,
              "#9c179e"
             ],
             [
              0.4444444444444444,
              "#bd3786"
             ],
             [
              0.5555555555555556,
              "#d8576b"
             ],
             [
              0.6666666666666666,
              "#ed7953"
             ],
             [
              0.7777777777777778,
              "#fb9f3a"
             ],
             [
              0.8888888888888888,
              "#fdca26"
             ],
             [
              1,
              "#f0f921"
             ]
            ],
            "type": "histogram2d"
           }
          ],
          "histogram2dcontour": [
           {
            "colorbar": {
             "outlinewidth": 0,
             "ticks": ""
            },
            "colorscale": [
             [
              0,
              "#0d0887"
             ],
             [
              0.1111111111111111,
              "#46039f"
             ],
             [
              0.2222222222222222,
              "#7201a8"
             ],
             [
              0.3333333333333333,
              "#9c179e"
             ],
             [
              0.4444444444444444,
              "#bd3786"
             ],
             [
              0.5555555555555556,
              "#d8576b"
             ],
             [
              0.6666666666666666,
              "#ed7953"
             ],
             [
              0.7777777777777778,
              "#fb9f3a"
             ],
             [
              0.8888888888888888,
              "#fdca26"
             ],
             [
              1,
              "#f0f921"
             ]
            ],
            "type": "histogram2dcontour"
           }
          ],
          "mesh3d": [
           {
            "colorbar": {
             "outlinewidth": 0,
             "ticks": ""
            },
            "type": "mesh3d"
           }
          ],
          "parcoords": [
           {
            "line": {
             "colorbar": {
              "outlinewidth": 0,
              "ticks": ""
             }
            },
            "type": "parcoords"
           }
          ],
          "pie": [
           {
            "automargin": true,
            "type": "pie"
           }
          ],
          "scatter": [
           {
            "fillpattern": {
             "fillmode": "overlay",
             "size": 10,
             "solidity": 0.2
            },
            "type": "scatter"
           }
          ],
          "scatter3d": [
           {
            "line": {
             "colorbar": {
              "outlinewidth": 0,
              "ticks": ""
             }
            },
            "marker": {
             "colorbar": {
              "outlinewidth": 0,
              "ticks": ""
             }
            },
            "type": "scatter3d"
           }
          ],
          "scattercarpet": [
           {
            "marker": {
             "colorbar": {
              "outlinewidth": 0,
              "ticks": ""
             }
            },
            "type": "scattercarpet"
           }
          ],
          "scattergeo": [
           {
            "marker": {
             "colorbar": {
              "outlinewidth": 0,
              "ticks": ""
             }
            },
            "type": "scattergeo"
           }
          ],
          "scattergl": [
           {
            "marker": {
             "colorbar": {
              "outlinewidth": 0,
              "ticks": ""
             }
            },
            "type": "scattergl"
           }
          ],
          "scattermapbox": [
           {
            "marker": {
             "colorbar": {
              "outlinewidth": 0,
              "ticks": ""
             }
            },
            "type": "scattermapbox"
           }
          ],
          "scatterpolar": [
           {
            "marker": {
             "colorbar": {
              "outlinewidth": 0,
              "ticks": ""
             }
            },
            "type": "scatterpolar"
           }
          ],
          "scatterpolargl": [
           {
            "marker": {
             "colorbar": {
              "outlinewidth": 0,
              "ticks": ""
             }
            },
            "type": "scatterpolargl"
           }
          ],
          "scatterternary": [
           {
            "marker": {
             "colorbar": {
              "outlinewidth": 0,
              "ticks": ""
             }
            },
            "type": "scatterternary"
           }
          ],
          "surface": [
           {
            "colorbar": {
             "outlinewidth": 0,
             "ticks": ""
            },
            "colorscale": [
             [
              0,
              "#0d0887"
             ],
             [
              0.1111111111111111,
              "#46039f"
             ],
             [
              0.2222222222222222,
              "#7201a8"
             ],
             [
              0.3333333333333333,
              "#9c179e"
             ],
             [
              0.4444444444444444,
              "#bd3786"
             ],
             [
              0.5555555555555556,
              "#d8576b"
             ],
             [
              0.6666666666666666,
              "#ed7953"
             ],
             [
              0.7777777777777778,
              "#fb9f3a"
             ],
             [
              0.8888888888888888,
              "#fdca26"
             ],
             [
              1,
              "#f0f921"
             ]
            ],
            "type": "surface"
           }
          ],
          "table": [
           {
            "cells": {
             "fill": {
              "color": "#EBF0F8"
             },
             "line": {
              "color": "white"
             }
            },
            "header": {
             "fill": {
              "color": "#C8D4E3"
             },
             "line": {
              "color": "white"
             }
            },
            "type": "table"
           }
          ]
         },
         "layout": {
          "annotationdefaults": {
           "arrowcolor": "#2a3f5f",
           "arrowhead": 0,
           "arrowwidth": 1
          },
          "autotypenumbers": "strict",
          "coloraxis": {
           "colorbar": {
            "outlinewidth": 0,
            "ticks": ""
           }
          },
          "colorscale": {
           "diverging": [
            [
             0,
             "#8e0152"
            ],
            [
             0.1,
             "#c51b7d"
            ],
            [
             0.2,
             "#de77ae"
            ],
            [
             0.3,
             "#f1b6da"
            ],
            [
             0.4,
             "#fde0ef"
            ],
            [
             0.5,
             "#f7f7f7"
            ],
            [
             0.6,
             "#e6f5d0"
            ],
            [
             0.7,
             "#b8e186"
            ],
            [
             0.8,
             "#7fbc41"
            ],
            [
             0.9,
             "#4d9221"
            ],
            [
             1,
             "#276419"
            ]
           ],
           "sequential": [
            [
             0,
             "#0d0887"
            ],
            [
             0.1111111111111111,
             "#46039f"
            ],
            [
             0.2222222222222222,
             "#7201a8"
            ],
            [
             0.3333333333333333,
             "#9c179e"
            ],
            [
             0.4444444444444444,
             "#bd3786"
            ],
            [
             0.5555555555555556,
             "#d8576b"
            ],
            [
             0.6666666666666666,
             "#ed7953"
            ],
            [
             0.7777777777777778,
             "#fb9f3a"
            ],
            [
             0.8888888888888888,
             "#fdca26"
            ],
            [
             1,
             "#f0f921"
            ]
           ],
           "sequentialminus": [
            [
             0,
             "#0d0887"
            ],
            [
             0.1111111111111111,
             "#46039f"
            ],
            [
             0.2222222222222222,
             "#7201a8"
            ],
            [
             0.3333333333333333,
             "#9c179e"
            ],
            [
             0.4444444444444444,
             "#bd3786"
            ],
            [
             0.5555555555555556,
             "#d8576b"
            ],
            [
             0.6666666666666666,
             "#ed7953"
            ],
            [
             0.7777777777777778,
             "#fb9f3a"
            ],
            [
             0.8888888888888888,
             "#fdca26"
            ],
            [
             1,
             "#f0f921"
            ]
           ]
          },
          "colorway": [
           "#636efa",
           "#EF553B",
           "#00cc96",
           "#ab63fa",
           "#FFA15A",
           "#19d3f3",
           "#FF6692",
           "#B6E880",
           "#FF97FF",
           "#FECB52"
          ],
          "font": {
           "color": "#2a3f5f"
          },
          "geo": {
           "bgcolor": "white",
           "lakecolor": "white",
           "landcolor": "#E5ECF6",
           "showlakes": true,
           "showland": true,
           "subunitcolor": "white"
          },
          "hoverlabel": {
           "align": "left"
          },
          "hovermode": "closest",
          "mapbox": {
           "style": "light"
          },
          "paper_bgcolor": "white",
          "plot_bgcolor": "#E5ECF6",
          "polar": {
           "angularaxis": {
            "gridcolor": "white",
            "linecolor": "white",
            "ticks": ""
           },
           "bgcolor": "#E5ECF6",
           "radialaxis": {
            "gridcolor": "white",
            "linecolor": "white",
            "ticks": ""
           }
          },
          "scene": {
           "xaxis": {
            "backgroundcolor": "#E5ECF6",
            "gridcolor": "white",
            "gridwidth": 2,
            "linecolor": "white",
            "showbackground": true,
            "ticks": "",
            "zerolinecolor": "white"
           },
           "yaxis": {
            "backgroundcolor": "#E5ECF6",
            "gridcolor": "white",
            "gridwidth": 2,
            "linecolor": "white",
            "showbackground": true,
            "ticks": "",
            "zerolinecolor": "white"
           },
           "zaxis": {
            "backgroundcolor": "#E5ECF6",
            "gridcolor": "white",
            "gridwidth": 2,
            "linecolor": "white",
            "showbackground": true,
            "ticks": "",
            "zerolinecolor": "white"
           }
          },
          "shapedefaults": {
           "line": {
            "color": "#2a3f5f"
           }
          },
          "ternary": {
           "aaxis": {
            "gridcolor": "white",
            "linecolor": "white",
            "ticks": ""
           },
           "baxis": {
            "gridcolor": "white",
            "linecolor": "white",
            "ticks": ""
           },
           "bgcolor": "#E5ECF6",
           "caxis": {
            "gridcolor": "white",
            "linecolor": "white",
            "ticks": ""
           }
          },
          "title": {
           "x": 0.05
          },
          "xaxis": {
           "automargin": true,
           "gridcolor": "white",
           "linecolor": "white",
           "ticks": "",
           "title": {
            "standoff": 15
           },
           "zerolinecolor": "white",
           "zerolinewidth": 2
          },
          "yaxis": {
           "automargin": true,
           "gridcolor": "white",
           "linecolor": "white",
           "ticks": "",
           "title": {
            "standoff": 15
           },
           "zerolinecolor": "white",
           "zerolinewidth": 2
          }
         }
        },
        "title": {
         "text": "Распределение действий (действия < 157,265 событий объединены в OTHER)"
        },
        "xaxis": {
         "anchor": "y",
         "categoryarray": [
          "view_card",
          "view_new_card",
          "OTHER",
          "sub_landing",
          "go_to_car_card",
          "sub_view_cars_click",
          "search_form_region",
          "search_form_search_btn",
          "sap_search_form_cost_to",
          "showed_number_ads",
          "pagination_click",
          "search_form_mark_select",
          "quiz_show",
          "search_form_model_select",
          "sap_search_form_cost_from",
          "photos_all",
          "search_form_search_car_type_select",
          "photos"
         ],
         "categoryorder": "total descending",
         "domain": [
          0,
          1
         ],
         "title": {
          "text": "Действие"
         }
        },
        "yaxis": {
         "anchor": "x",
         "domain": [
          0,
          1
         ],
         "title": {
          "text": "Количество событий"
         }
        }
       }
      }
     },
     "metadata": {},
     "output_type": "display_data"
    }
   ],
   "source": [
    "# Рассчитываем порог (1% от общего количества событий)\n",
    "threshold = len(ga_hits_filled) * 0.01\n",
    "\n",
    "# Создаем словарь для замены значений\n",
    "value_counts = ga_hits_filled[\"event_action\"].value_counts()\n",
    "replace_dict = {\n",
    "    category: \"OTHER\" for category in value_counts[value_counts < threshold].index\n",
    "}\n",
    "\n",
    "# Создаем новый столбец с объединенными категориями\n",
    "ga_hits_filled[\"event_action_grouped\"] = ga_hits_filled[\"event_action\"].replace(\n",
    "    replace_dict\n",
    ")\n",
    "\n",
    "# Подготавливаем данные для визуализации\n",
    "action_counts = ga_hits_filled[\"event_action_grouped\"].value_counts().reset_index()\n",
    "action_counts.columns = [\"action\", \"count\"]  # Явно переименовываем столбцы\n",
    "\n",
    "# Строим интерактивную диаграмму\n",
    "fig = px.bar(\n",
    "    action_counts,\n",
    "    x=\"action\",  # Используем новое имя столбца\n",
    "    y=\"count\",\n",
    "    labels={\"action\": \"Действие\", \"count\": \"Количество событий\"},\n",
    "    title=f\"Распределение действий (действия < {threshold:,.0f} событий объединены в OTHER)\",\n",
    "    text_auto=True,\n",
    "    color=\"action\",\n",
    "    color_discrete_sequence=px.colors.qualitative.Plotly,\n",
    ")\n",
    "\n",
    "# Настраиваем отображение\n",
    "fig.update_layout(\n",
    "    xaxis_title=\"Действие\",\n",
    "    yaxis_title=\"Количество событий\",\n",
    "    xaxis={\"categoryorder\": \"total descending\"},\n",
    "    showlegend=False,\n",
    "    hovermode=\"x\",\n",
    ")\n",
    "\n",
    "# Добавляем подпись с количеством объединенных категорий\n",
    "other_count = len(value_counts[value_counts < threshold])\n",
    "fig.add_annotation(\n",
    "    x=\"OTHER\",\n",
    "    y=action_counts.loc[action_counts[\"action\"] == \"OTHER\", \"count\"].values[0],\n",
    "    text=f\"{other_count} действий объединены\",\n",
    "    showarrow=True,\n",
    "    arrowhead=1,\n",
    "    ax=0,\n",
    "    ay=-40,\n",
    ")\n",
    "\n",
    "fig.show()"
   ]
  },
  {
   "attachments": {},
   "cell_type": "markdown",
   "metadata": {},
   "source": [
    "event_label"
   ]
  },
  {
   "cell_type": "code",
   "execution_count": 47,
   "metadata": {},
   "outputs": [
    {
     "data": {
      "text/plain": [
       "array(['KclpemfoHstknWHFiLit', 'GYKKaSmRGxilGoDZiuEJ',\n",
       "       'nsSPWOGBZhTHYKHvcPDM', ..., 'zCMGPrpNkfsTcYWqMUzJ',\n",
       "       'NqyZafHYWtVdMoHFaUMP', 'aNlmojNIfsJaXKZHCDiU'], dtype=object)"
      ]
     },
     "execution_count": 47,
     "metadata": {},
     "output_type": "execute_result"
    }
   ],
   "source": [
    "ga_hits_filled[\"event_label\"].unique()"
   ]
  },
  {
   "cell_type": "code",
   "execution_count": 48,
   "metadata": {},
   "outputs": [
    {
     "name": "stdout",
     "output_type": "stream",
     "text": [
      "Кодирование столбца 'event_label':\n",
      "Уникальных значений: 39826\n",
      "Максимальный код: 39826\n",
      "Распределение значений:\n",
      "event_label_encoded\n",
      "1      10192404\n",
      "25      1284914\n",
      "24       626554\n",
      "34       358915\n",
      "102      342500\n",
      "Name: count, dtype: int64\n"
     ]
    }
   ],
   "source": [
    "ga_hits_filled = encode_column_with_nulls(ga_hits_filled, \"event_label\")"
   ]
  },
  {
   "cell_type": "markdown",
   "metadata": {},
   "source": []
  },
  {
   "cell_type": "code",
   "execution_count": null,
   "metadata": {},
   "outputs": [
    {
     "data": {
      "text/html": [
       "<div>\n",
       "<style scoped>\n",
       "    .dataframe tbody tr th:only-of-type {\n",
       "        vertical-align: middle;\n",
       "    }\n",
       "\n",
       "    .dataframe tbody tr th {\n",
       "        vertical-align: top;\n",
       "    }\n",
       "\n",
       "    .dataframe thead th {\n",
       "        text-align: right;\n",
       "    }\n",
       "</style>\n",
       "<table border=\"1\" class=\"dataframe\">\n",
       "  <thead>\n",
       "    <tr style=\"text-align: right;\">\n",
       "      <th></th>\n",
       "      <th>session_id</th>\n",
       "      <th>hit_date</th>\n",
       "      <th>hit_time</th>\n",
       "      <th>hit_number</th>\n",
       "      <th>hit_type</th>\n",
       "      <th>hit_referer</th>\n",
       "      <th>hit_page_path</th>\n",
       "      <th>event_category</th>\n",
       "      <th>event_action</th>\n",
       "      <th>event_label</th>\n",
       "      <th>event_value</th>\n",
       "      <th>hit_time_2</th>\n",
       "      <th>hit_referer_encoded</th>\n",
       "      <th>event_category_grouped</th>\n",
       "      <th>event_action_grouped</th>\n",
       "      <th>event_label_encoded</th>\n",
       "    </tr>\n",
       "  </thead>\n",
       "  <tbody>\n",
       "    <tr>\n",
       "      <th>0</th>\n",
       "      <td>5639623078712724064.1640254056.1640254056</td>\n",
       "      <td>2021-12-23</td>\n",
       "      <td>597864.0</td>\n",
       "      <td>30</td>\n",
       "      <td>event</td>\n",
       "      <td>direct</td>\n",
       "      <td>sberauto.com/cars?utm_source_initial=google&amp;ut...</td>\n",
       "      <td>quiz</td>\n",
       "      <td>quiz_show</td>\n",
       "      <td>KclpemfoHstknWHFiLit</td>\n",
       "      <td>None</td>\n",
       "      <td>1</td>\n",
       "      <td>1</td>\n",
       "      <td>quiz</td>\n",
       "      <td>quiz_show</td>\n",
       "      <td>1</td>\n",
       "    </tr>\n",
       "    <tr>\n",
       "      <th>1</th>\n",
       "      <td>7750352294969115059.1640271109.1640271109</td>\n",
       "      <td>2021-12-23</td>\n",
       "      <td>597331.0</td>\n",
       "      <td>41</td>\n",
       "      <td>event</td>\n",
       "      <td>direct</td>\n",
       "      <td>sberauto.com/cars/fiat?city=1&amp;city=18&amp;rental_c...</td>\n",
       "      <td>quiz</td>\n",
       "      <td>quiz_show</td>\n",
       "      <td>KclpemfoHstknWHFiLit</td>\n",
       "      <td>None</td>\n",
       "      <td>1</td>\n",
       "      <td>1</td>\n",
       "      <td>quiz</td>\n",
       "      <td>quiz_show</td>\n",
       "      <td>1</td>\n",
       "    </tr>\n",
       "    <tr>\n",
       "      <th>2</th>\n",
       "      <td>885342191847998240.1640235807.1640235807</td>\n",
       "      <td>2021-12-23</td>\n",
       "      <td>796252.0</td>\n",
       "      <td>49</td>\n",
       "      <td>event</td>\n",
       "      <td>HbolMJUevblAbkHClEQa</td>\n",
       "      <td>sberauto.com/cars/all/volkswagen/polo/e994838f...</td>\n",
       "      <td>quiz</td>\n",
       "      <td>quiz_show</td>\n",
       "      <td>KclpemfoHstknWHFiLit</td>\n",
       "      <td>None</td>\n",
       "      <td>1</td>\n",
       "      <td>2</td>\n",
       "      <td>quiz</td>\n",
       "      <td>quiz_show</td>\n",
       "      <td>1</td>\n",
       "    </tr>\n",
       "    <tr>\n",
       "      <th>3</th>\n",
       "      <td>142526202120934167.1640211014.1640211014</td>\n",
       "      <td>2021-12-23</td>\n",
       "      <td>934292.0</td>\n",
       "      <td>46</td>\n",
       "      <td>event</td>\n",
       "      <td>HbolMJUevblAbkHClEQa</td>\n",
       "      <td>sberauto.com/cars?utm_source_initial=yandex&amp;ut...</td>\n",
       "      <td>quiz</td>\n",
       "      <td>quiz_show</td>\n",
       "      <td>KclpemfoHstknWHFiLit</td>\n",
       "      <td>None</td>\n",
       "      <td>1</td>\n",
       "      <td>2</td>\n",
       "      <td>quiz</td>\n",
       "      <td>quiz_show</td>\n",
       "      <td>1</td>\n",
       "    </tr>\n",
       "    <tr>\n",
       "      <th>4</th>\n",
       "      <td>3450086108837475701.1640265078.1640265078</td>\n",
       "      <td>2021-12-23</td>\n",
       "      <td>768741.0</td>\n",
       "      <td>79</td>\n",
       "      <td>event</td>\n",
       "      <td>sAGDBCdeVPmQPwkVEcIX</td>\n",
       "      <td>sberauto.com/cars/all/mercedes-benz/cla-klasse...</td>\n",
       "      <td>quiz</td>\n",
       "      <td>quiz_show</td>\n",
       "      <td>KclpemfoHstknWHFiLit</td>\n",
       "      <td>None</td>\n",
       "      <td>1</td>\n",
       "      <td>3</td>\n",
       "      <td>quiz</td>\n",
       "      <td>quiz_show</td>\n",
       "      <td>1</td>\n",
       "    </tr>\n",
       "  </tbody>\n",
       "</table>\n",
       "</div>"
      ],
      "text/plain": [
       "                                  session_id    hit_date  hit_time  \\\n",
       "0  5639623078712724064.1640254056.1640254056  2021-12-23  597864.0   \n",
       "1  7750352294969115059.1640271109.1640271109  2021-12-23  597331.0   \n",
       "2   885342191847998240.1640235807.1640235807  2021-12-23  796252.0   \n",
       "3   142526202120934167.1640211014.1640211014  2021-12-23  934292.0   \n",
       "4  3450086108837475701.1640265078.1640265078  2021-12-23  768741.0   \n",
       "\n",
       "   hit_number hit_type           hit_referer  \\\n",
       "0          30    event                direct   \n",
       "1          41    event                direct   \n",
       "2          49    event  HbolMJUevblAbkHClEQa   \n",
       "3          46    event  HbolMJUevblAbkHClEQa   \n",
       "4          79    event  sAGDBCdeVPmQPwkVEcIX   \n",
       "\n",
       "                                       hit_page_path event_category  \\\n",
       "0  sberauto.com/cars?utm_source_initial=google&ut...           quiz   \n",
       "1  sberauto.com/cars/fiat?city=1&city=18&rental_c...           quiz   \n",
       "2  sberauto.com/cars/all/volkswagen/polo/e994838f...           quiz   \n",
       "3  sberauto.com/cars?utm_source_initial=yandex&ut...           quiz   \n",
       "4  sberauto.com/cars/all/mercedes-benz/cla-klasse...           quiz   \n",
       "\n",
       "  event_action           event_label event_value  hit_time_2  \\\n",
       "0    quiz_show  KclpemfoHstknWHFiLit        None           1   \n",
       "1    quiz_show  KclpemfoHstknWHFiLit        None           1   \n",
       "2    quiz_show  KclpemfoHstknWHFiLit        None           1   \n",
       "3    quiz_show  KclpemfoHstknWHFiLit        None           1   \n",
       "4    quiz_show  KclpemfoHstknWHFiLit        None           1   \n",
       "\n",
       "   hit_referer_encoded event_category_grouped event_action_grouped  \\\n",
       "0                    1                   quiz            quiz_show   \n",
       "1                    1                   quiz            quiz_show   \n",
       "2                    2                   quiz            quiz_show   \n",
       "3                    2                   quiz            quiz_show   \n",
       "4                    3                   quiz            quiz_show   \n",
       "\n",
       "   event_label_encoded  \n",
       "0                    1  \n",
       "1                    1  \n",
       "2                    1  \n",
       "3                    1  \n",
       "4                    1  "
      ]
     },
     "execution_count": 33,
     "metadata": {},
     "output_type": "execute_result"
    }
   ],
   "source": [
    "ga_hits_filled.head()"
   ]
  },
  {
   "cell_type": "code",
   "execution_count": 50,
   "metadata": {},
   "outputs": [],
   "source": [
    "ga_hits_filled = ga_hits_filled.drop(\n",
    "    columns=[\n",
    "        \"event_value\",\n",
    "        \"hit_date\",\n",
    "        \"hit_type\",\n",
    "        \"hit_time\",\n",
    "        \"hit_referer\",\n",
    "        \"event_label\",\n",
    "    ],\n",
    "    axis=1,\n",
    ")"
   ]
  },
  {
   "cell_type": "code",
   "execution_count": 51,
   "metadata": {},
   "outputs": [],
   "source": [
    "ga_sessions_filled = ga_sessions_filled.drop(\n",
    "    columns=[\n",
    "        \"client_id\",\n",
    "        \"visit_date\",\n",
    "        \"visit_time\",\n",
    "        \"utm_source\",\n",
    "        \"utm_campaign\",\n",
    "        \"utm_adcontent\",\n",
    "        \"utm_keyword\",\n",
    "        \"device_screen_resolution\",\n",
    "        \"device_os\",\n",
    "        \"geo_city\",\n",
    "    ]\n",
    ")"
   ]
  },
  {
   "cell_type": "code",
   "execution_count": null,
   "metadata": {},
   "outputs": [
    {
     "data": {
      "text/html": [
       "<div>\n",
       "<style scoped>\n",
       "    .dataframe tbody tr th:only-of-type {\n",
       "        vertical-align: middle;\n",
       "    }\n",
       "\n",
       "    .dataframe tbody tr th {\n",
       "        vertical-align: top;\n",
       "    }\n",
       "\n",
       "    .dataframe thead th {\n",
       "        text-align: right;\n",
       "    }\n",
       "</style>\n",
       "<table border=\"1\" class=\"dataframe\">\n",
       "  <thead>\n",
       "    <tr style=\"text-align: right;\">\n",
       "      <th></th>\n",
       "      <th>session_id</th>\n",
       "      <th>visit_number</th>\n",
       "      <th>utm_medium</th>\n",
       "      <th>device_category</th>\n",
       "      <th>device_os</th>\n",
       "      <th>device_brand</th>\n",
       "      <th>device_model</th>\n",
       "      <th>device_screen_resolution</th>\n",
       "      <th>device_browser</th>\n",
       "      <th>geo_country</th>\n",
       "      <th>geo_city</th>\n",
       "      <th>year</th>\n",
       "      <th>month</th>\n",
       "      <th>day</th>\n",
       "      <th>utm_source_encoded</th>\n",
       "      <th>utm_campaign_encoded</th>\n",
       "      <th>utm_adcontent_encoded</th>\n",
       "      <th>utm_keyword_encoded</th>\n",
       "    </tr>\n",
       "  </thead>\n",
       "  <tbody>\n",
       "    <tr>\n",
       "      <th>0</th>\n",
       "      <td>9055434745589932991.1637753792.1637753792</td>\n",
       "      <td>1</td>\n",
       "      <td>banner</td>\n",
       "      <td>mobile</td>\n",
       "      <td>Android</td>\n",
       "      <td>Huawei</td>\n",
       "      <td>DzXtLnggNbQSyyFLKlgY</td>\n",
       "      <td>360x720</td>\n",
       "      <td>Chrome</td>\n",
       "      <td>Russia</td>\n",
       "      <td>Zlatoust</td>\n",
       "      <td>2021</td>\n",
       "      <td>11</td>\n",
       "      <td>24</td>\n",
       "      <td>1</td>\n",
       "      <td>1</td>\n",
       "      <td>1</td>\n",
       "      <td>1</td>\n",
       "    </tr>\n",
       "    <tr>\n",
       "      <th>1</th>\n",
       "      <td>905544597018549464.1636867290.1636867290</td>\n",
       "      <td>1</td>\n",
       "      <td>cpm</td>\n",
       "      <td>mobile</td>\n",
       "      <td>Android</td>\n",
       "      <td>Samsung</td>\n",
       "      <td>DzXtLnggNbQSyyFLKlgY</td>\n",
       "      <td>385x854</td>\n",
       "      <td>Samsung Internet</td>\n",
       "      <td>Russia</td>\n",
       "      <td>Moscow</td>\n",
       "      <td>2021</td>\n",
       "      <td>11</td>\n",
       "      <td>14</td>\n",
       "      <td>2</td>\n",
       "      <td>2</td>\n",
       "      <td>2</td>\n",
       "      <td>2</td>\n",
       "    </tr>\n",
       "    <tr>\n",
       "      <th>2</th>\n",
       "      <td>9055446045651783499.1640648526.1640648526</td>\n",
       "      <td>1</td>\n",
       "      <td>banner</td>\n",
       "      <td>mobile</td>\n",
       "      <td>Android</td>\n",
       "      <td>Huawei</td>\n",
       "      <td>DzXtLnggNbQSyyFLKlgY</td>\n",
       "      <td>360x720</td>\n",
       "      <td>Chrome</td>\n",
       "      <td>Russia</td>\n",
       "      <td>Krasnoyarsk</td>\n",
       "      <td>2021</td>\n",
       "      <td>12</td>\n",
       "      <td>28</td>\n",
       "      <td>1</td>\n",
       "      <td>1</td>\n",
       "      <td>1</td>\n",
       "      <td>1</td>\n",
       "    </tr>\n",
       "    <tr>\n",
       "      <th>3</th>\n",
       "      <td>9055447046360770272.1622255328.1622255328</td>\n",
       "      <td>1</td>\n",
       "      <td>cpc</td>\n",
       "      <td>mobile</td>\n",
       "      <td>Android</td>\n",
       "      <td>Xiaomi</td>\n",
       "      <td>DzXtLnggNbQSyyFLKlgY</td>\n",
       "      <td>393x786</td>\n",
       "      <td>Chrome</td>\n",
       "      <td>Russia</td>\n",
       "      <td>Moscow</td>\n",
       "      <td>2021</td>\n",
       "      <td>5</td>\n",
       "      <td>29</td>\n",
       "      <td>3</td>\n",
       "      <td>3</td>\n",
       "      <td>3</td>\n",
       "      <td>1</td>\n",
       "    </tr>\n",
       "    <tr>\n",
       "      <th>4</th>\n",
       "      <td>9055447046360770272.1622255345.1622255345</td>\n",
       "      <td>2</td>\n",
       "      <td>cpc</td>\n",
       "      <td>mobile</td>\n",
       "      <td>Android</td>\n",
       "      <td>Xiaomi</td>\n",
       "      <td>DzXtLnggNbQSyyFLKlgY</td>\n",
       "      <td>393x786</td>\n",
       "      <td>Chrome</td>\n",
       "      <td>Russia</td>\n",
       "      <td>Moscow</td>\n",
       "      <td>2021</td>\n",
       "      <td>5</td>\n",
       "      <td>29</td>\n",
       "      <td>3</td>\n",
       "      <td>3</td>\n",
       "      <td>4</td>\n",
       "      <td>1</td>\n",
       "    </tr>\n",
       "  </tbody>\n",
       "</table>\n",
       "</div>"
      ],
      "text/plain": [
       "                                  session_id  visit_number utm_medium  \\\n",
       "0  9055434745589932991.1637753792.1637753792             1     banner   \n",
       "1   905544597018549464.1636867290.1636867290             1        cpm   \n",
       "2  9055446045651783499.1640648526.1640648526             1     banner   \n",
       "3  9055447046360770272.1622255328.1622255328             1        cpc   \n",
       "4  9055447046360770272.1622255345.1622255345             2        cpc   \n",
       "\n",
       "  device_category device_os device_brand          device_model  \\\n",
       "0          mobile   Android       Huawei  DzXtLnggNbQSyyFLKlgY   \n",
       "1          mobile   Android      Samsung  DzXtLnggNbQSyyFLKlgY   \n",
       "2          mobile   Android       Huawei  DzXtLnggNbQSyyFLKlgY   \n",
       "3          mobile   Android       Xiaomi  DzXtLnggNbQSyyFLKlgY   \n",
       "4          mobile   Android       Xiaomi  DzXtLnggNbQSyyFLKlgY   \n",
       "\n",
       "  device_screen_resolution    device_browser geo_country     geo_city  year  \\\n",
       "0                  360x720            Chrome      Russia     Zlatoust  2021   \n",
       "1                  385x854  Samsung Internet      Russia       Moscow  2021   \n",
       "2                  360x720            Chrome      Russia  Krasnoyarsk  2021   \n",
       "3                  393x786            Chrome      Russia       Moscow  2021   \n",
       "4                  393x786            Chrome      Russia       Moscow  2021   \n",
       "\n",
       "   month  day  utm_source_encoded  utm_campaign_encoded  \\\n",
       "0     11   24                   1                     1   \n",
       "1     11   14                   2                     2   \n",
       "2     12   28                   1                     1   \n",
       "3      5   29                   3                     3   \n",
       "4      5   29                   3                     3   \n",
       "\n",
       "   utm_adcontent_encoded  utm_keyword_encoded  \n",
       "0                      1                    1  \n",
       "1                      2                    2  \n",
       "2                      1                    1  \n",
       "3                      3                    1  \n",
       "4                      4                    1  "
      ]
     },
     "execution_count": 40,
     "metadata": {},
     "output_type": "execute_result"
    }
   ],
   "source": [
    "ga_sessions_filled.head()"
   ]
  },
  {
   "cell_type": "code",
   "execution_count": 52,
   "metadata": {},
   "outputs": [
    {
     "data": {
      "text/html": [
       "<div>\n",
       "<style scoped>\n",
       "    .dataframe tbody tr th:only-of-type {\n",
       "        vertical-align: middle;\n",
       "    }\n",
       "\n",
       "    .dataframe tbody tr th {\n",
       "        vertical-align: top;\n",
       "    }\n",
       "\n",
       "    .dataframe thead th {\n",
       "        text-align: right;\n",
       "    }\n",
       "</style>\n",
       "<table border=\"1\" class=\"dataframe\">\n",
       "  <thead>\n",
       "    <tr style=\"text-align: right;\">\n",
       "      <th></th>\n",
       "      <th>session_id</th>\n",
       "      <th>hit_number</th>\n",
       "      <th>hit_page_path</th>\n",
       "      <th>event_category</th>\n",
       "      <th>event_action</th>\n",
       "      <th>hit_time_2</th>\n",
       "      <th>hit_referer_encoded</th>\n",
       "      <th>event_category_grouped</th>\n",
       "      <th>event_action_grouped</th>\n",
       "      <th>event_label_encoded</th>\n",
       "    </tr>\n",
       "  </thead>\n",
       "  <tbody>\n",
       "    <tr>\n",
       "      <th>0</th>\n",
       "      <td>5639623078712724064.1640254056.1640254056</td>\n",
       "      <td>30</td>\n",
       "      <td>sberauto.com/cars?utm_source_initial=google&amp;ut...</td>\n",
       "      <td>quiz</td>\n",
       "      <td>quiz_show</td>\n",
       "      <td>1</td>\n",
       "      <td>1</td>\n",
       "      <td>quiz</td>\n",
       "      <td>quiz_show</td>\n",
       "      <td>1</td>\n",
       "    </tr>\n",
       "    <tr>\n",
       "      <th>2920</th>\n",
       "      <td>5639623078712724064.1640254056.1640254056</td>\n",
       "      <td>12</td>\n",
       "      <td>sberauto.com/cars/all/kia/seltos/20f30855?utm_...</td>\n",
       "      <td>card_web</td>\n",
       "      <td>view_new_card</td>\n",
       "      <td>1</td>\n",
       "      <td>1</td>\n",
       "      <td>card_web</td>\n",
       "      <td>view_new_card</td>\n",
       "      <td>1</td>\n",
       "    </tr>\n",
       "    <tr>\n",
       "      <th>2921</th>\n",
       "      <td>5639623078712724064.1640254056.1640254056</td>\n",
       "      <td>18</td>\n",
       "      <td>sberauto.com/cars/all/volkswagen/tiguan/0208cd...</td>\n",
       "      <td>card_web</td>\n",
       "      <td>view_new_card</td>\n",
       "      <td>1</td>\n",
       "      <td>1</td>\n",
       "      <td>card_web</td>\n",
       "      <td>view_new_card</td>\n",
       "      <td>1</td>\n",
       "    </tr>\n",
       "    <tr>\n",
       "      <th>2922</th>\n",
       "      <td>5639623078712724064.1640254056.1640254056</td>\n",
       "      <td>20</td>\n",
       "      <td>sberauto.com/cars/all/volkswagen/tiguan/0208cd...</td>\n",
       "      <td>card_web</td>\n",
       "      <td>view_new_card</td>\n",
       "      <td>1</td>\n",
       "      <td>1</td>\n",
       "      <td>card_web</td>\n",
       "      <td>view_new_card</td>\n",
       "      <td>1</td>\n",
       "    </tr>\n",
       "    <tr>\n",
       "      <th>564154</th>\n",
       "      <td>5639623078712724064.1640254056.1640254056</td>\n",
       "      <td>8</td>\n",
       "      <td>sberauto.com/cars/all/kia/seltos/20f30855?utm_...</td>\n",
       "      <td>card_web</td>\n",
       "      <td>view_new_card</td>\n",
       "      <td>1</td>\n",
       "      <td>1</td>\n",
       "      <td>card_web</td>\n",
       "      <td>view_new_card</td>\n",
       "      <td>1</td>\n",
       "    </tr>\n",
       "    <tr>\n",
       "      <th>564943</th>\n",
       "      <td>5639623078712724064.1640254056.1640254056</td>\n",
       "      <td>32</td>\n",
       "      <td>sberauto.com/cars?utm_source_initial=google&amp;ut...</td>\n",
       "      <td>cars</td>\n",
       "      <td>view_more_click</td>\n",
       "      <td>1</td>\n",
       "      <td>1</td>\n",
       "      <td>cars</td>\n",
       "      <td>OTHER</td>\n",
       "      <td>34</td>\n",
       "    </tr>\n",
       "    <tr>\n",
       "      <th>565528</th>\n",
       "      <td>5639623078712724064.1640254056.1640254056</td>\n",
       "      <td>3</td>\n",
       "      <td>sberauto.com/cars?utm_source_initial=google&amp;ut...</td>\n",
       "      <td>search_form</td>\n",
       "      <td>search_form_search_btn</td>\n",
       "      <td>1</td>\n",
       "      <td>1</td>\n",
       "      <td>search_form</td>\n",
       "      <td>search_form_search_btn</td>\n",
       "      <td>102</td>\n",
       "    </tr>\n",
       "    <tr>\n",
       "      <th>565591</th>\n",
       "      <td>5639623078712724064.1640254056.1640254056</td>\n",
       "      <td>36</td>\n",
       "      <td>sberauto.com/cars?utm_source_initial=google&amp;ut...</td>\n",
       "      <td>sap_search_form</td>\n",
       "      <td>sap_search_form_cost_to</td>\n",
       "      <td>1</td>\n",
       "      <td>1</td>\n",
       "      <td>sap_search_form</td>\n",
       "      <td>sap_search_form_cost_to</td>\n",
       "      <td>111</td>\n",
       "    </tr>\n",
       "    <tr>\n",
       "      <th>1123278</th>\n",
       "      <td>5639623078712724064.1640254056.1640254056</td>\n",
       "      <td>15</td>\n",
       "      <td>sberauto.com/cars/all/volkswagen/tiguan/0208cd...</td>\n",
       "      <td>card_web</td>\n",
       "      <td>view_card</td>\n",
       "      <td>1</td>\n",
       "      <td>1</td>\n",
       "      <td>card_web</td>\n",
       "      <td>view_card</td>\n",
       "      <td>1</td>\n",
       "    </tr>\n",
       "    <tr>\n",
       "      <th>1125125</th>\n",
       "      <td>5639623078712724064.1640254056.1640254056</td>\n",
       "      <td>26</td>\n",
       "      <td>sberauto.com/cars/all/volvo/s90/a231b204?utm_s...</td>\n",
       "      <td>card_web</td>\n",
       "      <td>view_new_card</td>\n",
       "      <td>1</td>\n",
       "      <td>1</td>\n",
       "      <td>card_web</td>\n",
       "      <td>view_new_card</td>\n",
       "      <td>1</td>\n",
       "    </tr>\n",
       "    <tr>\n",
       "      <th>1125706</th>\n",
       "      <td>5639623078712724064.1640254056.1640254056</td>\n",
       "      <td>40</td>\n",
       "      <td>sberauto.com/cars?utm_source_initial=google&amp;ut...</td>\n",
       "      <td>listing_ads</td>\n",
       "      <td>go_to_car_card</td>\n",
       "      <td>1</td>\n",
       "      <td>1</td>\n",
       "      <td>listing_ads</td>\n",
       "      <td>go_to_car_card</td>\n",
       "      <td>25</td>\n",
       "    </tr>\n",
       "    <tr>\n",
       "      <th>1126474</th>\n",
       "      <td>5639623078712724064.1640254056.1640254056</td>\n",
       "      <td>33</td>\n",
       "      <td>sberauto.com/cars?utm_source_initial=google&amp;ut...</td>\n",
       "      <td>sap_search_form</td>\n",
       "      <td>sap_search_form_cost_to</td>\n",
       "      <td>1</td>\n",
       "      <td>1</td>\n",
       "      <td>sap_search_form</td>\n",
       "      <td>sap_search_form_cost_to</td>\n",
       "      <td>110</td>\n",
       "    </tr>\n",
       "    <tr>\n",
       "      <th>1687114</th>\n",
       "      <td>5639623078712724064.1640254056.1640254056</td>\n",
       "      <td>46</td>\n",
       "      <td>sberauto.com/cars/all/skoda/octavia/4791c8b2?u...</td>\n",
       "      <td>card_web</td>\n",
       "      <td>view_new_card</td>\n",
       "      <td>1</td>\n",
       "      <td>1</td>\n",
       "      <td>card_web</td>\n",
       "      <td>view_new_card</td>\n",
       "      <td>1</td>\n",
       "    </tr>\n",
       "    <tr>\n",
       "      <th>1687849</th>\n",
       "      <td>5639623078712724064.1640254056.1640254056</td>\n",
       "      <td>4</td>\n",
       "      <td>sberauto.com/cars?utm_source_initial=google&amp;ut...</td>\n",
       "      <td>cars</td>\n",
       "      <td>view_more_click</td>\n",
       "      <td>1</td>\n",
       "      <td>1</td>\n",
       "      <td>cars</td>\n",
       "      <td>OTHER</td>\n",
       "      <td>34</td>\n",
       "    </tr>\n",
       "    <tr>\n",
       "      <th>1688558</th>\n",
       "      <td>5639623078712724064.1640254056.1640254056</td>\n",
       "      <td>37</td>\n",
       "      <td>sberauto.com/cars?utm_source_initial=google&amp;ut...</td>\n",
       "      <td>sap_search_form</td>\n",
       "      <td>sap_search_form_cost_to</td>\n",
       "      <td>1</td>\n",
       "      <td>1</td>\n",
       "      <td>sap_search_form</td>\n",
       "      <td>sap_search_form_cost_to</td>\n",
       "      <td>122</td>\n",
       "    </tr>\n",
       "    <tr>\n",
       "      <th>2247661</th>\n",
       "      <td>5639623078712724064.1640254056.1640254056</td>\n",
       "      <td>47</td>\n",
       "      <td>sberauto.com/cars/all/skoda/octavia/4791c8b2?u...</td>\n",
       "      <td>card_web</td>\n",
       "      <td>view_card</td>\n",
       "      <td>1</td>\n",
       "      <td>1</td>\n",
       "      <td>card_web</td>\n",
       "      <td>view_card</td>\n",
       "      <td>1</td>\n",
       "    </tr>\n",
       "    <tr>\n",
       "      <th>2249494</th>\n",
       "      <td>5639623078712724064.1640254056.1640254056</td>\n",
       "      <td>16</td>\n",
       "      <td>sberauto.com/cars/all/volkswagen/tiguan/0208cd...</td>\n",
       "      <td>card_web</td>\n",
       "      <td>view_new_card</td>\n",
       "      <td>1</td>\n",
       "      <td>1</td>\n",
       "      <td>card_web</td>\n",
       "      <td>view_new_card</td>\n",
       "      <td>1</td>\n",
       "    </tr>\n",
       "    <tr>\n",
       "      <th>2249495</th>\n",
       "      <td>5639623078712724064.1640254056.1640254056</td>\n",
       "      <td>44</td>\n",
       "      <td>sberauto.com/cars/all/skoda/octavia/4791c8b2?u...</td>\n",
       "      <td>card_web</td>\n",
       "      <td>view_new_card</td>\n",
       "      <td>1</td>\n",
       "      <td>1</td>\n",
       "      <td>card_web</td>\n",
       "      <td>view_new_card</td>\n",
       "      <td>1</td>\n",
       "    </tr>\n",
       "    <tr>\n",
       "      <th>2809513</th>\n",
       "      <td>5639623078712724064.1640254056.1640254056</td>\n",
       "      <td>23</td>\n",
       "      <td>sberauto.com/cars/all/volvo/s90/a231b204?utm_s...</td>\n",
       "      <td>card_web</td>\n",
       "      <td>view_card</td>\n",
       "      <td>1</td>\n",
       "      <td>1</td>\n",
       "      <td>card_web</td>\n",
       "      <td>view_card</td>\n",
       "      <td>1</td>\n",
       "    </tr>\n",
       "    <tr>\n",
       "      <th>2810114</th>\n",
       "      <td>5639623078712724064.1640254056.1640254056</td>\n",
       "      <td>31</td>\n",
       "      <td>sberauto.com/cars?utm_source_initial=google&amp;ut...</td>\n",
       "      <td>quiz</td>\n",
       "      <td>quiz_start</td>\n",
       "      <td>1</td>\n",
       "      <td>1</td>\n",
       "      <td>quiz</td>\n",
       "      <td>OTHER</td>\n",
       "      <td>1</td>\n",
       "    </tr>\n",
       "    <tr>\n",
       "      <th>2812731</th>\n",
       "      <td>5639623078712724064.1640254056.1640254056</td>\n",
       "      <td>35</td>\n",
       "      <td>sberauto.com/cars?utm_source_initial=google&amp;ut...</td>\n",
       "      <td>sap_search_form</td>\n",
       "      <td>sap_search_form_cost_to</td>\n",
       "      <td>1</td>\n",
       "      <td>1</td>\n",
       "      <td>sap_search_form</td>\n",
       "      <td>sap_search_form_cost_to</td>\n",
       "      <td>257</td>\n",
       "    </tr>\n",
       "    <tr>\n",
       "      <th>3369738</th>\n",
       "      <td>5639623078712724064.1640254056.1640254056</td>\n",
       "      <td>25</td>\n",
       "      <td>sberauto.com/cars/all/volvo/s90/a231b204?utm_s...</td>\n",
       "      <td>card_web</td>\n",
       "      <td>view_card</td>\n",
       "      <td>1</td>\n",
       "      <td>1</td>\n",
       "      <td>card_web</td>\n",
       "      <td>view_card</td>\n",
       "      <td>1</td>\n",
       "    </tr>\n",
       "    <tr>\n",
       "      <th>3369739</th>\n",
       "      <td>5639623078712724064.1640254056.1640254056</td>\n",
       "      <td>43</td>\n",
       "      <td>sberauto.com/cars/all/skoda/octavia/4791c8b2?u...</td>\n",
       "      <td>card_web</td>\n",
       "      <td>view_card</td>\n",
       "      <td>1</td>\n",
       "      <td>1</td>\n",
       "      <td>card_web</td>\n",
       "      <td>view_card</td>\n",
       "      <td>1</td>\n",
       "    </tr>\n",
       "    <tr>\n",
       "      <th>3371520</th>\n",
       "      <td>5639623078712724064.1640254056.1640254056</td>\n",
       "      <td>10</td>\n",
       "      <td>sberauto.com/cars/all/kia/seltos/20f30855?utm_...</td>\n",
       "      <td>card_web</td>\n",
       "      <td>view_new_card</td>\n",
       "      <td>1</td>\n",
       "      <td>1</td>\n",
       "      <td>card_web</td>\n",
       "      <td>view_new_card</td>\n",
       "      <td>1</td>\n",
       "    </tr>\n",
       "    <tr>\n",
       "      <th>3931376</th>\n",
       "      <td>5639623078712724064.1640254056.1640254056</td>\n",
       "      <td>19</td>\n",
       "      <td>sberauto.com/cars/all/volkswagen/tiguan/0208cd...</td>\n",
       "      <td>card_web</td>\n",
       "      <td>view_card</td>\n",
       "      <td>1</td>\n",
       "      <td>1</td>\n",
       "      <td>card_web</td>\n",
       "      <td>view_card</td>\n",
       "      <td>1</td>\n",
       "    </tr>\n",
       "    <tr>\n",
       "      <th>3934184</th>\n",
       "      <td>5639623078712724064.1640254056.1640254056</td>\n",
       "      <td>38</td>\n",
       "      <td>sberauto.com/cars?utm_source_initial=google&amp;ut...</td>\n",
       "      <td>search_form</td>\n",
       "      <td>showed_number_ads</td>\n",
       "      <td>1</td>\n",
       "      <td>1</td>\n",
       "      <td>search_form</td>\n",
       "      <td>showed_number_ads</td>\n",
       "      <td>25</td>\n",
       "    </tr>\n",
       "    <tr>\n",
       "      <th>3934580</th>\n",
       "      <td>5639623078712724064.1640254056.1640254056</td>\n",
       "      <td>34</td>\n",
       "      <td>sberauto.com/cars?utm_source_initial=google&amp;ut...</td>\n",
       "      <td>sap_search_form</td>\n",
       "      <td>sap_search_form_cost_to</td>\n",
       "      <td>1</td>\n",
       "      <td>1</td>\n",
       "      <td>sap_search_form</td>\n",
       "      <td>sap_search_form_cost_to</td>\n",
       "      <td>301</td>\n",
       "    </tr>\n",
       "    <tr>\n",
       "      <th>14604978</th>\n",
       "      <td>5639623078712724064.1640254056.1640254056</td>\n",
       "      <td>11</td>\n",
       "      <td>sberauto.com/cars/all/kia/seltos/20f30855?utm_...</td>\n",
       "      <td>card_web</td>\n",
       "      <td>view_card</td>\n",
       "      <td>1</td>\n",
       "      <td>1</td>\n",
       "      <td>card_web</td>\n",
       "      <td>view_card</td>\n",
       "      <td>1</td>\n",
       "    </tr>\n",
       "    <tr>\n",
       "      <th>14604979</th>\n",
       "      <td>5639623078712724064.1640254056.1640254056</td>\n",
       "      <td>17</td>\n",
       "      <td>sberauto.com/cars/all/volkswagen/tiguan/0208cd...</td>\n",
       "      <td>card_web</td>\n",
       "      <td>view_card</td>\n",
       "      <td>1</td>\n",
       "      <td>1</td>\n",
       "      <td>card_web</td>\n",
       "      <td>view_card</td>\n",
       "      <td>1</td>\n",
       "    </tr>\n",
       "    <tr>\n",
       "      <th>14606822</th>\n",
       "      <td>5639623078712724064.1640254056.1640254056</td>\n",
       "      <td>24</td>\n",
       "      <td>sberauto.com/cars/all/volvo/s90/a231b204?utm_s...</td>\n",
       "      <td>card_web</td>\n",
       "      <td>view_new_card</td>\n",
       "      <td>1</td>\n",
       "      <td>1</td>\n",
       "      <td>card_web</td>\n",
       "      <td>view_new_card</td>\n",
       "      <td>1</td>\n",
       "    </tr>\n",
       "    <tr>\n",
       "      <th>14606823</th>\n",
       "      <td>5639623078712724064.1640254056.1640254056</td>\n",
       "      <td>28</td>\n",
       "      <td>sberauto.com/cars/all/volvo/s90/a231b204?utm_s...</td>\n",
       "      <td>card_web</td>\n",
       "      <td>view_new_card</td>\n",
       "      <td>1</td>\n",
       "      <td>1</td>\n",
       "      <td>card_web</td>\n",
       "      <td>view_new_card</td>\n",
       "      <td>1</td>\n",
       "    </tr>\n",
       "    <tr>\n",
       "      <th>15165913</th>\n",
       "      <td>5639623078712724064.1640254056.1640254056</td>\n",
       "      <td>7</td>\n",
       "      <td>sberauto.com/cars/all/kia/seltos/20f30855?utm_...</td>\n",
       "      <td>card_web</td>\n",
       "      <td>view_card</td>\n",
       "      <td>1</td>\n",
       "      <td>1</td>\n",
       "      <td>card_web</td>\n",
       "      <td>view_card</td>\n",
       "      <td>1</td>\n",
       "    </tr>\n",
       "    <tr>\n",
       "      <th>15165914</th>\n",
       "      <td>5639623078712724064.1640254056.1640254056</td>\n",
       "      <td>9</td>\n",
       "      <td>sberauto.com/cars/all/kia/seltos/20f30855?utm_...</td>\n",
       "      <td>card_web</td>\n",
       "      <td>view_card</td>\n",
       "      <td>1</td>\n",
       "      <td>1</td>\n",
       "      <td>card_web</td>\n",
       "      <td>view_card</td>\n",
       "      <td>1</td>\n",
       "    </tr>\n",
       "    <tr>\n",
       "      <th>15165915</th>\n",
       "      <td>5639623078712724064.1640254056.1640254056</td>\n",
       "      <td>27</td>\n",
       "      <td>sberauto.com/cars/all/volvo/s90/a231b204?utm_s...</td>\n",
       "      <td>card_web</td>\n",
       "      <td>view_card</td>\n",
       "      <td>1</td>\n",
       "      <td>1</td>\n",
       "      <td>card_web</td>\n",
       "      <td>view_card</td>\n",
       "      <td>1</td>\n",
       "    </tr>\n",
       "    <tr>\n",
       "      <th>15165916</th>\n",
       "      <td>5639623078712724064.1640254056.1640254056</td>\n",
       "      <td>45</td>\n",
       "      <td>sberauto.com/cars/all/skoda/octavia/4791c8b2?u...</td>\n",
       "      <td>card_web</td>\n",
       "      <td>view_card</td>\n",
       "      <td>1</td>\n",
       "      <td>1</td>\n",
       "      <td>card_web</td>\n",
       "      <td>view_card</td>\n",
       "      <td>1</td>\n",
       "    </tr>\n",
       "    <tr>\n",
       "      <th>15167740</th>\n",
       "      <td>5639623078712724064.1640254056.1640254056</td>\n",
       "      <td>48</td>\n",
       "      <td>sberauto.com/cars/all/skoda/octavia/4791c8b2?u...</td>\n",
       "      <td>card_web</td>\n",
       "      <td>view_new_card</td>\n",
       "      <td>1</td>\n",
       "      <td>1</td>\n",
       "      <td>card_web</td>\n",
       "      <td>view_new_card</td>\n",
       "      <td>1</td>\n",
       "    </tr>\n",
       "    <tr>\n",
       "      <th>15168465</th>\n",
       "      <td>5639623078712724064.1640254056.1640254056</td>\n",
       "      <td>29</td>\n",
       "      <td>sberauto.com/cars?utm_source_initial=google&amp;ut...</td>\n",
       "      <td>cars</td>\n",
       "      <td>view_more_click</td>\n",
       "      <td>1</td>\n",
       "      <td>1</td>\n",
       "      <td>cars</td>\n",
       "      <td>OTHER</td>\n",
       "      <td>34</td>\n",
       "    </tr>\n",
       "    <tr>\n",
       "      <th>15169026</th>\n",
       "      <td>5639623078712724064.1640254056.1640254056</td>\n",
       "      <td>39</td>\n",
       "      <td>sberauto.com/cars?utm_source_initial=google&amp;ut...</td>\n",
       "      <td>search_form</td>\n",
       "      <td>search_form_search_btn</td>\n",
       "      <td>1</td>\n",
       "      <td>1</td>\n",
       "      <td>search_form</td>\n",
       "      <td>search_form_search_btn</td>\n",
       "      <td>102</td>\n",
       "    </tr>\n",
       "  </tbody>\n",
       "</table>\n",
       "</div>"
      ],
      "text/plain": [
       "                                         session_id  hit_number  \\\n",
       "0         5639623078712724064.1640254056.1640254056          30   \n",
       "2920      5639623078712724064.1640254056.1640254056          12   \n",
       "2921      5639623078712724064.1640254056.1640254056          18   \n",
       "2922      5639623078712724064.1640254056.1640254056          20   \n",
       "564154    5639623078712724064.1640254056.1640254056           8   \n",
       "564943    5639623078712724064.1640254056.1640254056          32   \n",
       "565528    5639623078712724064.1640254056.1640254056           3   \n",
       "565591    5639623078712724064.1640254056.1640254056          36   \n",
       "1123278   5639623078712724064.1640254056.1640254056          15   \n",
       "1125125   5639623078712724064.1640254056.1640254056          26   \n",
       "1125706   5639623078712724064.1640254056.1640254056          40   \n",
       "1126474   5639623078712724064.1640254056.1640254056          33   \n",
       "1687114   5639623078712724064.1640254056.1640254056          46   \n",
       "1687849   5639623078712724064.1640254056.1640254056           4   \n",
       "1688558   5639623078712724064.1640254056.1640254056          37   \n",
       "2247661   5639623078712724064.1640254056.1640254056          47   \n",
       "2249494   5639623078712724064.1640254056.1640254056          16   \n",
       "2249495   5639623078712724064.1640254056.1640254056          44   \n",
       "2809513   5639623078712724064.1640254056.1640254056          23   \n",
       "2810114   5639623078712724064.1640254056.1640254056          31   \n",
       "2812731   5639623078712724064.1640254056.1640254056          35   \n",
       "3369738   5639623078712724064.1640254056.1640254056          25   \n",
       "3369739   5639623078712724064.1640254056.1640254056          43   \n",
       "3371520   5639623078712724064.1640254056.1640254056          10   \n",
       "3931376   5639623078712724064.1640254056.1640254056          19   \n",
       "3934184   5639623078712724064.1640254056.1640254056          38   \n",
       "3934580   5639623078712724064.1640254056.1640254056          34   \n",
       "14604978  5639623078712724064.1640254056.1640254056          11   \n",
       "14604979  5639623078712724064.1640254056.1640254056          17   \n",
       "14606822  5639623078712724064.1640254056.1640254056          24   \n",
       "14606823  5639623078712724064.1640254056.1640254056          28   \n",
       "15165913  5639623078712724064.1640254056.1640254056           7   \n",
       "15165914  5639623078712724064.1640254056.1640254056           9   \n",
       "15165915  5639623078712724064.1640254056.1640254056          27   \n",
       "15165916  5639623078712724064.1640254056.1640254056          45   \n",
       "15167740  5639623078712724064.1640254056.1640254056          48   \n",
       "15168465  5639623078712724064.1640254056.1640254056          29   \n",
       "15169026  5639623078712724064.1640254056.1640254056          39   \n",
       "\n",
       "                                              hit_page_path   event_category  \\\n",
       "0         sberauto.com/cars?utm_source_initial=google&ut...             quiz   \n",
       "2920      sberauto.com/cars/all/kia/seltos/20f30855?utm_...         card_web   \n",
       "2921      sberauto.com/cars/all/volkswagen/tiguan/0208cd...         card_web   \n",
       "2922      sberauto.com/cars/all/volkswagen/tiguan/0208cd...         card_web   \n",
       "564154    sberauto.com/cars/all/kia/seltos/20f30855?utm_...         card_web   \n",
       "564943    sberauto.com/cars?utm_source_initial=google&ut...             cars   \n",
       "565528    sberauto.com/cars?utm_source_initial=google&ut...      search_form   \n",
       "565591    sberauto.com/cars?utm_source_initial=google&ut...  sap_search_form   \n",
       "1123278   sberauto.com/cars/all/volkswagen/tiguan/0208cd...         card_web   \n",
       "1125125   sberauto.com/cars/all/volvo/s90/a231b204?utm_s...         card_web   \n",
       "1125706   sberauto.com/cars?utm_source_initial=google&ut...      listing_ads   \n",
       "1126474   sberauto.com/cars?utm_source_initial=google&ut...  sap_search_form   \n",
       "1687114   sberauto.com/cars/all/skoda/octavia/4791c8b2?u...         card_web   \n",
       "1687849   sberauto.com/cars?utm_source_initial=google&ut...             cars   \n",
       "1688558   sberauto.com/cars?utm_source_initial=google&ut...  sap_search_form   \n",
       "2247661   sberauto.com/cars/all/skoda/octavia/4791c8b2?u...         card_web   \n",
       "2249494   sberauto.com/cars/all/volkswagen/tiguan/0208cd...         card_web   \n",
       "2249495   sberauto.com/cars/all/skoda/octavia/4791c8b2?u...         card_web   \n",
       "2809513   sberauto.com/cars/all/volvo/s90/a231b204?utm_s...         card_web   \n",
       "2810114   sberauto.com/cars?utm_source_initial=google&ut...             quiz   \n",
       "2812731   sberauto.com/cars?utm_source_initial=google&ut...  sap_search_form   \n",
       "3369738   sberauto.com/cars/all/volvo/s90/a231b204?utm_s...         card_web   \n",
       "3369739   sberauto.com/cars/all/skoda/octavia/4791c8b2?u...         card_web   \n",
       "3371520   sberauto.com/cars/all/kia/seltos/20f30855?utm_...         card_web   \n",
       "3931376   sberauto.com/cars/all/volkswagen/tiguan/0208cd...         card_web   \n",
       "3934184   sberauto.com/cars?utm_source_initial=google&ut...      search_form   \n",
       "3934580   sberauto.com/cars?utm_source_initial=google&ut...  sap_search_form   \n",
       "14604978  sberauto.com/cars/all/kia/seltos/20f30855?utm_...         card_web   \n",
       "14604979  sberauto.com/cars/all/volkswagen/tiguan/0208cd...         card_web   \n",
       "14606822  sberauto.com/cars/all/volvo/s90/a231b204?utm_s...         card_web   \n",
       "14606823  sberauto.com/cars/all/volvo/s90/a231b204?utm_s...         card_web   \n",
       "15165913  sberauto.com/cars/all/kia/seltos/20f30855?utm_...         card_web   \n",
       "15165914  sberauto.com/cars/all/kia/seltos/20f30855?utm_...         card_web   \n",
       "15165915  sberauto.com/cars/all/volvo/s90/a231b204?utm_s...         card_web   \n",
       "15165916  sberauto.com/cars/all/skoda/octavia/4791c8b2?u...         card_web   \n",
       "15167740  sberauto.com/cars/all/skoda/octavia/4791c8b2?u...         card_web   \n",
       "15168465  sberauto.com/cars?utm_source_initial=google&ut...             cars   \n",
       "15169026  sberauto.com/cars?utm_source_initial=google&ut...      search_form   \n",
       "\n",
       "                     event_action  hit_time_2  hit_referer_encoded  \\\n",
       "0                       quiz_show           1                    1   \n",
       "2920                view_new_card           1                    1   \n",
       "2921                view_new_card           1                    1   \n",
       "2922                view_new_card           1                    1   \n",
       "564154              view_new_card           1                    1   \n",
       "564943            view_more_click           1                    1   \n",
       "565528     search_form_search_btn           1                    1   \n",
       "565591    sap_search_form_cost_to           1                    1   \n",
       "1123278                 view_card           1                    1   \n",
       "1125125             view_new_card           1                    1   \n",
       "1125706            go_to_car_card           1                    1   \n",
       "1126474   sap_search_form_cost_to           1                    1   \n",
       "1687114             view_new_card           1                    1   \n",
       "1687849           view_more_click           1                    1   \n",
       "1688558   sap_search_form_cost_to           1                    1   \n",
       "2247661                 view_card           1                    1   \n",
       "2249494             view_new_card           1                    1   \n",
       "2249495             view_new_card           1                    1   \n",
       "2809513                 view_card           1                    1   \n",
       "2810114                quiz_start           1                    1   \n",
       "2812731   sap_search_form_cost_to           1                    1   \n",
       "3369738                 view_card           1                    1   \n",
       "3369739                 view_card           1                    1   \n",
       "3371520             view_new_card           1                    1   \n",
       "3931376                 view_card           1                    1   \n",
       "3934184         showed_number_ads           1                    1   \n",
       "3934580   sap_search_form_cost_to           1                    1   \n",
       "14604978                view_card           1                    1   \n",
       "14604979                view_card           1                    1   \n",
       "14606822            view_new_card           1                    1   \n",
       "14606823            view_new_card           1                    1   \n",
       "15165913                view_card           1                    1   \n",
       "15165914                view_card           1                    1   \n",
       "15165915                view_card           1                    1   \n",
       "15165916                view_card           1                    1   \n",
       "15167740            view_new_card           1                    1   \n",
       "15168465          view_more_click           1                    1   \n",
       "15169026   search_form_search_btn           1                    1   \n",
       "\n",
       "         event_category_grouped     event_action_grouped  event_label_encoded  \n",
       "0                          quiz                quiz_show                    1  \n",
       "2920                   card_web            view_new_card                    1  \n",
       "2921                   card_web            view_new_card                    1  \n",
       "2922                   card_web            view_new_card                    1  \n",
       "564154                 card_web            view_new_card                    1  \n",
       "564943                     cars                    OTHER                   34  \n",
       "565528              search_form   search_form_search_btn                  102  \n",
       "565591          sap_search_form  sap_search_form_cost_to                  111  \n",
       "1123278                card_web                view_card                    1  \n",
       "1125125                card_web            view_new_card                    1  \n",
       "1125706             listing_ads           go_to_car_card                   25  \n",
       "1126474         sap_search_form  sap_search_form_cost_to                  110  \n",
       "1687114                card_web            view_new_card                    1  \n",
       "1687849                    cars                    OTHER                   34  \n",
       "1688558         sap_search_form  sap_search_form_cost_to                  122  \n",
       "2247661                card_web                view_card                    1  \n",
       "2249494                card_web            view_new_card                    1  \n",
       "2249495                card_web            view_new_card                    1  \n",
       "2809513                card_web                view_card                    1  \n",
       "2810114                    quiz                    OTHER                    1  \n",
       "2812731         sap_search_form  sap_search_form_cost_to                  257  \n",
       "3369738                card_web                view_card                    1  \n",
       "3369739                card_web                view_card                    1  \n",
       "3371520                card_web            view_new_card                    1  \n",
       "3931376                card_web                view_card                    1  \n",
       "3934184             search_form        showed_number_ads                   25  \n",
       "3934580         sap_search_form  sap_search_form_cost_to                  301  \n",
       "14604978               card_web                view_card                    1  \n",
       "14604979               card_web                view_card                    1  \n",
       "14606822               card_web            view_new_card                    1  \n",
       "14606823               card_web            view_new_card                    1  \n",
       "15165913               card_web                view_card                    1  \n",
       "15165914               card_web                view_card                    1  \n",
       "15165915               card_web                view_card                    1  \n",
       "15165916               card_web                view_card                    1  \n",
       "15167740               card_web            view_new_card                    1  \n",
       "15168465                   cars                    OTHER                   34  \n",
       "15169026            search_form   search_form_search_btn                  102  "
      ]
     },
     "execution_count": 52,
     "metadata": {},
     "output_type": "execute_result"
    }
   ],
   "source": [
    "ga_hits_filled[\n",
    "    ga_hits_filled[\"session_id\"] == \"5639623078712724064.1640254056.1640254056\"\n",
    "]"
   ]
  },
  {
   "cell_type": "code",
   "execution_count": 53,
   "metadata": {},
   "outputs": [],
   "source": [
    "def aggregate_session_data(df):\n",
    "    # Группируем по session_id и агрегируем данные\n",
    "    agg_rules = {\n",
    "        \"hit_number\": [\"min\", \"max\", \"count\"],\n",
    "        \"hit_page_path\": lambda x: x.iloc[0],  # берем первую страницу\n",
    "        \"event_category\": lambda x: x.value_counts().index[0],  # самая частая категория\n",
    "        \"event_action\": lambda x: x.value_counts().index[0],  # самое частое действие\n",
    "        \"hit_time_2\": \"sum\",  # суммарное время\n",
    "        \"event_category_grouped\": lambda x: x.value_counts().index[0],\n",
    "        \"event_action_grouped\": lambda x: x.value_counts().index[0],\n",
    "        \"hit_referer_encoded\": lambda x: x.value_counts().index[0],\n",
    "        \"event_label_encoded\": lambda x: x.value_counts().index[0],\n",
    "    }\n",
    "\n",
    "    # Добавляем все UTM-метки, если они есть в данных\n",
    "    utm_columns = [col for col in df.columns if col.startswith(\"utm_\")]\n",
    "    for col in utm_columns:\n",
    "        agg_rules[col] = lambda x: x.iloc[0]  # берем первое значение\n",
    "\n",
    "    aggregated = df.groupby(\"session_id\").agg(agg_rules)\n",
    "\n",
    "    # Упрощаем имена столбцов после агрегации\n",
    "    aggregated.columns = [\"_\".join(col).strip(\"_\") for col in aggregated.columns.values]\n",
    "    aggregated = aggregated.reset_index()\n",
    "\n",
    "    # Переименовываем некоторые столбцы для ясности\n",
    "    column_rename = {\n",
    "        \"hit_number_min\": \"first_hit_number\",\n",
    "        \"hit_number_max\": \"last_hit_number\",\n",
    "        \"hit_number_count\": \"total_hits\",\n",
    "        \"hit_page_path_<lambda>\": \"entry_page\",\n",
    "        \"event_category_<lambda>\": \"main_category\",\n",
    "        \"event_action_<lambda>\": \"main_action\",\n",
    "        \"hit_time_2_sum\": \"total_time\",\n",
    "        \"event_category_grouped_<lambda>\": \"main_category_grouped\",\n",
    "        \"event_action_grouped_<lambda>\": \"main_action_grouped\",\n",
    "        \"hit_referer_encoded_<lambda>\": \"main_referer\",\n",
    "        \"event_label_encoded_<lambda>\": \"main_label\",\n",
    "    }\n",
    "\n",
    "    # Добавляем переименование для UTM-меток\n",
    "    for col in utm_columns:\n",
    "        column_rename[f\"{col}_<lambda>\"] = col\n",
    "\n",
    "    aggregated = aggregated.rename(columns=column_rename)\n",
    "\n",
    "    return aggregated\n",
    "\n",
    "\n",
    "# Применяем функцию к данным\n",
    "ga_hits_aggregated = aggregate_session_data(ga_hits_filled)\n",
    "\n",
    "# Просматриваем результат\n",
    "# print(ga_hits_aggregated[ga_hits_aggregated['session_id'] == '5639623078712724064.1640254056.1640254056'])"
   ]
  },
  {
   "attachments": {},
   "cell_type": "markdown",
   "metadata": {},
   "source": [
    "hit_page_path"
   ]
  },
  {
   "attachments": {},
   "cell_type": "markdown",
   "metadata": {},
   "source": []
  },
  {
   "cell_type": "code",
   "execution_count": 54,
   "metadata": {},
   "outputs": [
    {
     "data": {
      "text/html": [
       "<div>\n",
       "<style scoped>\n",
       "    .dataframe tbody tr th:only-of-type {\n",
       "        vertical-align: middle;\n",
       "    }\n",
       "\n",
       "    .dataframe tbody tr th {\n",
       "        vertical-align: top;\n",
       "    }\n",
       "\n",
       "    .dataframe thead th {\n",
       "        text-align: right;\n",
       "    }\n",
       "</style>\n",
       "<table border=\"1\" class=\"dataframe\">\n",
       "  <thead>\n",
       "    <tr style=\"text-align: right;\">\n",
       "      <th></th>\n",
       "      <th>session_id</th>\n",
       "      <th>first_hit_number</th>\n",
       "      <th>last_hit_number</th>\n",
       "      <th>total_hits</th>\n",
       "      <th>entry_page</th>\n",
       "      <th>main_category</th>\n",
       "      <th>main_action</th>\n",
       "      <th>total_time</th>\n",
       "      <th>main_category_grouped</th>\n",
       "      <th>main_action_grouped</th>\n",
       "      <th>main_referer</th>\n",
       "      <th>main_label</th>\n",
       "    </tr>\n",
       "  </thead>\n",
       "  <tbody>\n",
       "    <tr>\n",
       "      <th>968651</th>\n",
       "      <td>5639623078712724064.1640254056.1640254056</td>\n",
       "      <td>3</td>\n",
       "      <td>48</td>\n",
       "      <td>38</td>\n",
       "      <td>sberauto.com/cars?utm_source_initial=google&amp;ut...</td>\n",
       "      <td>card_web</td>\n",
       "      <td>view_new_card</td>\n",
       "      <td>38</td>\n",
       "      <td>card_web</td>\n",
       "      <td>view_new_card</td>\n",
       "      <td>1</td>\n",
       "      <td>1</td>\n",
       "    </tr>\n",
       "  </tbody>\n",
       "</table>\n",
       "</div>"
      ],
      "text/plain": [
       "                                       session_id  first_hit_number  \\\n",
       "968651  5639623078712724064.1640254056.1640254056                 3   \n",
       "\n",
       "        last_hit_number  total_hits  \\\n",
       "968651               48          38   \n",
       "\n",
       "                                               entry_page main_category  \\\n",
       "968651  sberauto.com/cars?utm_source_initial=google&ut...      card_web   \n",
       "\n",
       "          main_action  total_time main_category_grouped main_action_grouped  \\\n",
       "968651  view_new_card          38              card_web       view_new_card   \n",
       "\n",
       "        main_referer  main_label  \n",
       "968651             1           1  "
      ]
     },
     "metadata": {},
     "output_type": "display_data"
    }
   ],
   "source": [
    "# Просматриваем результат\n",
    "display(\n",
    "    ga_hits_aggregated[\n",
    "        ga_hits_aggregated[\"session_id\"] == \"5639623078712724064.1640254056.1640254056\"\n",
    "    ]\n",
    ")"
   ]
  },
  {
   "cell_type": "code",
   "execution_count": 55,
   "metadata": {},
   "outputs": [
    {
     "name": "stderr",
     "output_type": "stream",
     "text": [
      "C:\\Users\\Aria\\AppData\\Local\\Temp\\ipykernel_904\\113686740.py:4: DeprecationWarning:\n",
      "\n",
      "is_categorical_dtype is deprecated and will be removed in a future version. Use isinstance(dtype, pd.CategoricalDtype) instead\n",
      "\n"
     ]
    },
    {
     "name": "stdout",
     "output_type": "stream",
     "text": [
      "\n",
      "Столбец: session_id (уникальных значений: 1734610)\n",
      "----------------------------------------\n",
      "Первые 5 из 1734610 значений:\n",
      "['5639623078712724064.1640254056.1640254056'\n",
      " '7750352294969115059.1640271109.1640271109'\n",
      " '885342191847998240.1640235807.1640235807'\n",
      " '142526202120934167.1640211014.1640211014'\n",
      " '3450086108837475701.1640265078.1640265078']\n",
      "\n",
      "Топ-5 наиболее частых значений:\n",
      "session_id\n",
      "5442565791571325612.1632449195.1632449195    768\n",
      "6568868914238486437.1632270313.1632270313    678\n",
      "5959671972744778783.1632490527.1632490600    548\n",
      "7452598043578978502.1632358598.1632358598    514\n",
      "3070792010704358528.1629752408.1629752408    498\n",
      "Name: count, dtype: int64\n",
      "\n",
      "Топ-5 наиболее редких значений:\n",
      "session_id\n",
      "4570994095441102117.1630324006.1630324006    1\n",
      "768506153535315810.1630314342.1630314342     1\n",
      "5517253735248338264.1630315080.1630315080    1\n",
      "4054272189286640867.1630334209.1630334209    1\n",
      "5381267721977892188.1640271196.1640271196    1\n",
      "Name: count, dtype: int64\n",
      "\n",
      "Столбец: hit_page_path (уникальных значений: 342715)\n",
      "----------------------------------------\n",
      "Первые 5 из 342715 значений:\n",
      "['sberauto.com/cars?utm_source_initial=google&utm_medium_initial=cpc&utm_campaign_initial=bJJuEXRheRIxXEaYIXqM|BmWKiKCvBVipoWOpNUIL&utm_content_initial=yXzSAJWSuRbYeLFyMVFl|iJxXDTgPAXGQYOdgCzqe|xAEYTlJDbQNwQTLGxICQ|pmvTbUlmnwAkuHIbvKUg|lFpAoUqEvHoyZfCNRuCR|oxjYxrkwnRSTTYcVZzdb|dtYJKUplNmmKCOfiziff|NgTCwCMgdzcCqxiALuwY|aHSPdWXGkJravzWuwcJA|HbolMJUevblAbkHClEQa|kqZPVvZmXADsCZxIQwbv|QaGunexmXrztCWbLcYxs|OfdDOXSwHYclonQJpPxh|htxLmqvAkmISCliXGMzb|HbolMJUevblAbkHClEQa&utm_term_initial=&city=1&rental_page=rental_only&rental_car=rental_only&city=18'\n",
      " 'sberauto.com/cars/fiat?city=1&city=18&rental_car=rental_only&utm_source_initial=sbol&utm_medium_initial=banner&utm_campaign_initial=zxoiLxhuSIFrCeTLQVWZ&rental_page=rental_only'\n",
      " 'sberauto.com/cars/all/volkswagen/polo/e994838f?utm_source_initial=yandex&utm_medium_initial=cpc&utm_campaign_initial=nSReTmyFtbSjlPrTKoaX|fVHJqnfOFSWcsCBViJGr&utm_content_initial=yXzSAJWSuRbYeLFyMVFl|YjagTPsykUtMSrHgFPJc|xAEYTlJDbQNwQTLGxICQ|dwfnIkMEwJhmnyojmAoc|lFpAoUqEvHoyZfCNRuCR|qEQeQoWWnoVEMwsyhUcz|rjbbNGNkjGThUJNtsWZQ|lquYtwbPScwqcMOoWYRp|ZIKCVYXYgRrZdwlVkEEf|HbolMJUevblAbkHClEQa|kqZPVvZmXADsCZxIQwbv|vnTlRpYmthtVDImMLSmr|OfdDOXSwHYclonQJpPxh|igNLAJodDHSgqhPwufun|HbolMJUevblAbkHClEQa&utm_term_initial=&rental_page=rental_car'\n",
      " 'sberauto.com/cars?utm_source_initial=yandex&utm_medium_initial=cpc&utm_campaign_initial=XHNUiSKKGTEpSAlaVMFQ|qngiJQKcRremsAJnZbvx&utm_content_initial=yXzSAJWSuRbYeLFyMVFl|FbLFbRPHmkXzRVZGVMml|xAEYTlJDbQNwQTLGxICQ|UfTTPxcoqsUGiUaNbCPg|lFpAoUqEvHoyZfCNRuCR|XHhwZeVQAlxBVPPTHGks|rjbbNGNkjGThUJNtsWZQ|SzHvtGAIoyKeoWyQATVI|ZIKCVYXYgRrZdwlVkEEf|HbolMJUevblAbkHClEQa|kqZPVvZmXADsCZxIQwbv|vnTlRpYmthtVDImMLSmr|OfdDOXSwHYclonQJpPxh|YhdYMAYSoTzDKQYzVVMr|HbolMJUevblAbkHClEQa&utm_term_initial=&city=1&rental_page=rental_only&rental_car=rental_only&city=18'\n",
      " 'sberauto.com/cars/all/mercedes-benz/cla-klasse/c917af36?rental_page=rental_car']\n",
      "\n",
      "Топ-5 наиболее частых значений:\n",
      "hit_page_path\n",
      "podpiska.sberauto.com/                                                                                                                                                                                                  2793639\n",
      "sberauto.com/cars?city=1&rental_page=rental_only&rental_car=rental_only&city=18                                                                                                                                         1103484\n",
      "sberauto.com/cars?utm_source_initial=sbol&utm_medium_initial=banner&utm_campaign_initial=LEoPHuyFvzoNfnzGgfcd&utm_content_initial=vCIpmpaGBnIQhyYNkXqp&city=1&rental_page=rental_only&rental_car=rental_only&city=18     754215\n",
      "sberauto.com/cars/f28947a1?rental_page=rental_car                                                                                                                                                                        264878\n",
      "sberauto.com/cars/bf24b977?rental_page=rental_car                                                                                                                                                                        263966\n",
      "Name: count, dtype: int64\n",
      "\n",
      "Топ-5 наиболее редких значений:\n",
      "hit_page_path\n",
      "podpiska.sberauto.com/?fbclid=iwar09fvzokgiv3gx81ai3dyf2qcny_qa4zgby20oxibjfb0n-xjfftpexqbq     1\n",
      "podpiska.sberauto.com/?fbclid=iwar05frzto9b6i3y-gkugl3rhizmjha7pznimzeix3tugv-6qdjdshjhwzrs     1\n",
      "podpiska.sberauto.com/?yclid=4999432059093308360                                                1\n",
      "podpiska.sberauto.com/?yclid=4994941468752008183                                                1\n",
      "sberauto.com/moskva/cars?datefrom=2021&rental_car=rental_only&rental_page=rental_only&page=2    1\n",
      "Name: count, dtype: int64\n",
      "\n",
      "Столбец: event_category (уникальных значений: 52)\n",
      "----------------------------------------\n",
      "Первые 5 из 52 значений:\n",
      "['quiz' 'card_web' 'sub_page_view' 'search_form' 'auth']\n",
      "\n",
      "Топ-5 наиболее частых значений:\n",
      "event_category\n",
      "card_web            7456998\n",
      "search_form         2423605\n",
      "sub_page_view       1986074\n",
      "sub_button_click    1073471\n",
      "listing_ads         1040468\n",
      "Name: count, dtype: int64\n",
      "\n",
      "Топ-5 наиболее редких значений:\n",
      "event_category\n",
      "greenday_sub_page_view    7\n",
      "add_ad_form               4\n",
      "greenday_card_web         4\n",
      "app_banner                2\n",
      "titul_form                1\n",
      "Name: count, dtype: int64\n",
      "\n",
      "Столбец: event_action (уникальных значений: 230)\n",
      "----------------------------------------\n",
      "Первые 5 из 230 значений:\n",
      "['quiz_show' 'view_card' 'sub_landing' 'photos_all' 'quiz_start']\n",
      "\n",
      "Топ-5 наиболее частых значений:\n",
      "event_action\n",
      "view_card              3558985\n",
      "view_new_card          3551009\n",
      "sub_landing            1798117\n",
      "go_to_car_card          973666\n",
      "sub_view_cars_click     791515\n",
      "Name: count, dtype: int64\n",
      "\n",
      "Топ-5 наиболее редких значений:\n",
      "event_action\n",
      "click_on_android              1\n",
      "new_year_road_help_btn        1\n",
      "titul_page_view               1\n",
      "show_pos_status_declined      1\n",
      "survey_buy_after_sell_when    1\n",
      "Name: count, dtype: int64\n",
      "\n",
      "Столбец: event_category_grouped (уникальных значений: 11)\n",
      "----------------------------------------\n",
      "['quiz' 'card_web' 'sub_page_view' 'search_form' 'auth' 'OTHER'\n",
      " 'sub_button_click' 'listing_ads' 'cars' 'sap_search_form'\n",
      " 'sap_search__form']\n",
      "\n",
      "Топ-5 наиболее частых значений:\n",
      "event_category_grouped\n",
      "card_web            7456998\n",
      "search_form         2423605\n",
      "sub_page_view       1986074\n",
      "sub_button_click    1073471\n",
      "listing_ads         1040468\n",
      "Name: count, dtype: int64\n",
      "\n",
      "Топ-5 наиболее редких значений:\n",
      "event_category_grouped\n",
      "cars                358915\n",
      "sap_search_form     356596\n",
      "quiz                263134\n",
      "auth                189373\n",
      "sap_search__form    188129\n",
      "Name: count, dtype: int64\n",
      "\n",
      "Столбец: event_action_grouped (уникальных значений: 18)\n",
      "----------------------------------------\n",
      "['quiz_show' 'view_card' 'sub_landing' 'photos_all' 'OTHER'\n",
      " 'view_new_card' 'sub_view_cars_click' 'go_to_car_card'\n",
      " 'showed_number_ads' 'pagination_click' 'search_form_region'\n",
      " 'search_form_search_btn' 'sap_search_form_cost_to'\n",
      " 'search_form_mark_select' 'search_form_model_select'\n",
      " 'sap_search_form_cost_from' 'search_form_search_car_type_select' 'photos']\n",
      "\n",
      "Топ-5 наиболее частых значений:\n",
      "event_action_grouped\n",
      "view_card         3558985\n",
      "view_new_card     3551009\n",
      "OTHER             1823926\n",
      "sub_landing       1798117\n",
      "go_to_car_card     973666\n",
      "Name: count, dtype: int64\n",
      "\n",
      "Топ-5 наиболее редких значений:\n",
      "event_action_grouped\n",
      "search_form_model_select              211890\n",
      "sap_search_form_cost_from             188129\n",
      "photos_all                            181493\n",
      "search_form_search_car_type_select    174877\n",
      "photos                                158543\n",
      "Name: count, dtype: int64\n"
     ]
    }
   ],
   "source": [
    "# Выбираем столбцы с менее чем 100 уникальными значениями\n",
    "cols_to_show = [\n",
    "    col\n",
    "    for col in ga_hits_filled.columns\n",
    "    if ga_hits_filled[col].nunique() < 100\n",
    "    and pd.api.types.is_categorical_dtype(ga_hits_filled[col])\n",
    "    or pd.api.types.is_object_dtype(ga_hits_filled[col])\n",
    "]\n",
    "\n",
    "# Выводим уникальные значения для каждого отобранного столбца\n",
    "for col in cols_to_show:\n",
    "    nunique = ga_hits_filled[col].nunique()\n",
    "    print(f\"\\nСтолбец: {col} (уникальных значений: {nunique})\")\n",
    "    print(\"----------------------------------------\")\n",
    "\n",
    "    # Для столбцов с небольшим количеством уникальных значений показываем все\n",
    "    if nunique <= 20:\n",
    "        print(ga_hits_filled[col].unique())\n",
    "    else:\n",
    "        # Для столбцов с 20-100 значениями показываем первые 20\n",
    "        print(f\"Первые 5 из {nunique} значений:\")\n",
    "        print(ga_hits_filled[col].unique()[:5])\n",
    "\n",
    "    # Дополнительная информация о распределении\n",
    "    print(f\"\\nТоп-5 наиболее частых значений:\")\n",
    "    print(ga_hits_filled[col].value_counts().head())\n",
    "\n",
    "    print(f\"\\nТоп-5 наиболее редких значений:\")\n",
    "    print(ga_hits_filled[col].value_counts().tail())"
   ]
  },
  {
   "cell_type": "code",
   "execution_count": null,
   "metadata": {},
   "outputs": [],
   "source": []
  },
  {
   "cell_type": "code",
   "execution_count": 56,
   "metadata": {},
   "outputs": [],
   "source": [
    "def merge_and_save(sessions_df, hits_df, output_pkl=\"merged_data.pkl\"):\n",
    "    \"\"\"\n",
    "    Объединяет данные сессий и хитов, сохраняет результат в PKL и возвращает датафрейм\n",
    "\n",
    "    Параметры:\n",
    "    -----------\n",
    "    sessions_df : pd.DataFrame\n",
    "        Данные сессий (ga_sessions_filled)\n",
    "    hits_df : pd.DataFrame\n",
    "        Данные хитов (ga_hits_filled)\n",
    "    output_pkl : str\n",
    "        Путь для сохранения PKL-файла\n",
    "\n",
    "    Возвращает:\n",
    "    -----------\n",
    "    pd.DataFrame\n",
    "        Объединенный датафрейм\n",
    "    \"\"\"\n",
    "\n",
    "    # 1. Оптимизация типов данных перед объединением\n",
    "    def optimize_dtypes(df):\n",
    "        for col in df.columns:\n",
    "            if df[col].dtype == \"object\":\n",
    "                if df[col].nunique() / len(df) < 0.5:\n",
    "                    df[col] = df[col].astype(\"category\")\n",
    "            elif \"int\" in str(df[col].dtype):\n",
    "                if df[col].max() < 2**8:\n",
    "                    df[col] = pd.to_numeric(df[col], downcast=\"unsigned\")\n",
    "                elif df[col].max() < 2**16:\n",
    "                    df[col] = pd.to_numeric(df[col], downcast=\"integer\")\n",
    "        return df\n",
    "\n",
    "    print(\"Оптимизация типов данных...\")\n",
    "    sessions_df = optimize_dtypes(sessions_df)\n",
    "    hits_df = optimize_dtypes(hits_df)\n",
    "\n",
    "    # 2. Объединение данных\n",
    "    print(\"Объединение данных по session_id...\")\n",
    "    merged_df = pd.merge(\n",
    "        sessions_df,\n",
    "        hits_df,\n",
    "        on=\"session_id\",\n",
    "        how=\"left\",\n",
    "        validate=\"one_to_many\",  # Проверка: одна сессия -> много хитов\n",
    "    )\n",
    "\n",
    "    # 3. Дополнительная оптимизация объединенных данных\n",
    "    print(\"Оптимизация объединенных данных...\")\n",
    "    merged_df = optimize_dtypes(merged_df)\n",
    "\n",
    "    # 4. Сохранение в PKL (быстрая загрузка)\n",
    "    print(f\"Сохранение данных в {output_pkl}...\")\n",
    "    with open(output_pkl, \"wb\") as f:\n",
    "        pickle.dump(merged_df, f, protocol=pickle.HIGHEST_PROTOCOL)\n",
    "\n",
    "    # 5. Проверка размера файла\n",
    "    pkl_size = Path(output_pkl).stat().st_size / (1024 * 1024)\n",
    "    print(f\"Файл сохранен. Размер: {pkl_size:.2f} MB\")\n",
    "\n",
    "    return merged_df"
   ]
  },
  {
   "cell_type": "code",
   "execution_count": 57,
   "metadata": {},
   "outputs": [
    {
     "name": "stdout",
     "output_type": "stream",
     "text": [
      "Кодирование столбца 'device_model':\n",
      "Уникальных значений: 104\n",
      "Максимальный код: 104\n",
      "Распределение значений:\n",
      "device_model_encoded\n",
      "1    1797639\n",
      "5      17537\n",
      "4       9963\n",
      "2       8343\n",
      "9       6361\n",
      "Name: count, dtype: int64\n"
     ]
    }
   ],
   "source": [
    "ga_sessions_filled = encode_column_with_nulls(ga_sessions_filled, \"device_model\")\n",
    "ga_sessions_filled = ga_sessions_filled.drop(columns=\"device_model\", axis=1)"
   ]
  },
  {
   "cell_type": "code",
   "execution_count": 58,
   "metadata": {},
   "outputs": [
    {
     "name": "stdout",
     "output_type": "stream",
     "text": [
      "Оптимизация типов данных...\n",
      "Объединение данных по session_id...\n",
      "Оптимизация объединенных данных...\n",
      "Сохранение данных в merged_data.pkl...\n",
      "Файл сохранен. Размер: 264.24 MB\n",
      "\n",
      "Объединенные данные:\n",
      "<class 'pandas.core.frame.DataFrame'>\n",
      "RangeIndex: 1860042 entries, 0 to 1860041\n",
      "Data columns (total 25 columns):\n",
      " #   Column                 Dtype   \n",
      "---  ------                 -----   \n",
      " 0   session_id             object  \n",
      " 1   visit_number           int16   \n",
      " 2   utm_medium             category\n",
      " 3   device_category        category\n",
      " 4   device_brand           category\n",
      " 5   device_browser         category\n",
      " 6   geo_country            uint8   \n",
      " 7   year                   int16   \n",
      " 8   month                  uint8   \n",
      " 9   day                    uint8   \n",
      " 10  utm_source_encoded     int16   \n",
      " 11  utm_campaign_encoded   int16   \n",
      " 12  device_model_encoded   uint8   \n",
      " 13  geo_city_grouped       category\n",
      " 14  first_hit_number       float64 \n",
      " 15  last_hit_number        float64 \n",
      " 16  total_hits             float64 \n",
      " 17  entry_page             category\n",
      " 18  main_category          category\n",
      " 19  main_action            category\n",
      " 20  total_time             float64 \n",
      " 21  main_category_grouped  category\n",
      " 22  main_action_grouped    category\n",
      " 23  main_referer           float64 \n",
      " 24  main_label             float64 \n",
      "dtypes: category(10), float64(6), int16(4), object(1), uint8(4)\n",
      "memory usage: 381.1 MB\n",
      "None\n"
     ]
    },
    {
     "data": {
      "text/plain": [
       "'\\nПример данных:\\n'"
      ]
     },
     "metadata": {},
     "output_type": "display_data"
    }
   ],
   "source": [
    "# Пример использования:\n",
    "if __name__ == \"__main__\":\n",
    "    data = merge_and_save(ga_sessions_filled, ga_hits_aggregated)\n",
    "\n",
    "    # Проверка результата\n",
    "    print(\"\\nОбъединенные данные:\")\n",
    "    print(data.info(memory_usage=\"deep\"))\n",
    "    display(f\"\\nПример данных:\\n\")\n",
    "    data.head()"
   ]
  },
  {
   "cell_type": "code",
   "execution_count": 59,
   "metadata": {},
   "outputs": [
    {
     "data": {
      "text/html": [
       "<div>\n",
       "<style scoped>\n",
       "    .dataframe tbody tr th:only-of-type {\n",
       "        vertical-align: middle;\n",
       "    }\n",
       "\n",
       "    .dataframe tbody tr th {\n",
       "        vertical-align: top;\n",
       "    }\n",
       "\n",
       "    .dataframe thead th {\n",
       "        text-align: right;\n",
       "    }\n",
       "</style>\n",
       "<table border=\"1\" class=\"dataframe\">\n",
       "  <thead>\n",
       "    <tr style=\"text-align: right;\">\n",
       "      <th></th>\n",
       "      <th>session_id</th>\n",
       "      <th>visit_number</th>\n",
       "      <th>utm_medium</th>\n",
       "      <th>device_category</th>\n",
       "      <th>device_brand</th>\n",
       "      <th>device_browser</th>\n",
       "      <th>geo_country</th>\n",
       "      <th>year</th>\n",
       "      <th>month</th>\n",
       "      <th>day</th>\n",
       "      <th>...</th>\n",
       "      <th>last_hit_number</th>\n",
       "      <th>total_hits</th>\n",
       "      <th>entry_page</th>\n",
       "      <th>main_category</th>\n",
       "      <th>main_action</th>\n",
       "      <th>total_time</th>\n",
       "      <th>main_category_grouped</th>\n",
       "      <th>main_action_grouped</th>\n",
       "      <th>main_referer</th>\n",
       "      <th>main_label</th>\n",
       "    </tr>\n",
       "  </thead>\n",
       "  <tbody>\n",
       "    <tr>\n",
       "      <th>0</th>\n",
       "      <td>9055434745589932991.1637753792.1637753792</td>\n",
       "      <td>1</td>\n",
       "      <td>banner</td>\n",
       "      <td>mobile</td>\n",
       "      <td>Huawei</td>\n",
       "      <td>Chrome</td>\n",
       "      <td>1</td>\n",
       "      <td>2021</td>\n",
       "      <td>11</td>\n",
       "      <td>24</td>\n",
       "      <td>...</td>\n",
       "      <td>4.0</td>\n",
       "      <td>2.0</td>\n",
       "      <td>podpiska.sberauto.com/</td>\n",
       "      <td>sub_page_view</td>\n",
       "      <td>sub_landing</td>\n",
       "      <td>2.0</td>\n",
       "      <td>sub_page_view</td>\n",
       "      <td>sub_landing</td>\n",
       "      <td>30.0</td>\n",
       "      <td>1.0</td>\n",
       "    </tr>\n",
       "    <tr>\n",
       "      <th>1</th>\n",
       "      <td>905544597018549464.1636867290.1636867290</td>\n",
       "      <td>1</td>\n",
       "      <td>cpm</td>\n",
       "      <td>mobile</td>\n",
       "      <td>Samsung</td>\n",
       "      <td>Samsung Internet</td>\n",
       "      <td>1</td>\n",
       "      <td>2021</td>\n",
       "      <td>11</td>\n",
       "      <td>14</td>\n",
       "      <td>...</td>\n",
       "      <td>3.0</td>\n",
       "      <td>1.0</td>\n",
       "      <td>podpiska.sberauto.com/</td>\n",
       "      <td>sub_page_view</td>\n",
       "      <td>sub_landing</td>\n",
       "      <td>1.0</td>\n",
       "      <td>sub_page_view</td>\n",
       "      <td>sub_landing</td>\n",
       "      <td>30.0</td>\n",
       "      <td>1.0</td>\n",
       "    </tr>\n",
       "    <tr>\n",
       "      <th>2</th>\n",
       "      <td>9055446045651783499.1640648526.1640648526</td>\n",
       "      <td>1</td>\n",
       "      <td>banner</td>\n",
       "      <td>mobile</td>\n",
       "      <td>Huawei</td>\n",
       "      <td>Chrome</td>\n",
       "      <td>1</td>\n",
       "      <td>2021</td>\n",
       "      <td>12</td>\n",
       "      <td>28</td>\n",
       "      <td>...</td>\n",
       "      <td>20.0</td>\n",
       "      <td>16.0</td>\n",
       "      <td>sberauto.com/cars?utm_source_initial=sbol&amp;utm_...</td>\n",
       "      <td>search_form</td>\n",
       "      <td>search_form_region</td>\n",
       "      <td>16.0</td>\n",
       "      <td>search_form</td>\n",
       "      <td>search_form_region</td>\n",
       "      <td>22.0</td>\n",
       "      <td>46.0</td>\n",
       "    </tr>\n",
       "    <tr>\n",
       "      <th>3</th>\n",
       "      <td>9055447046360770272.1622255328.1622255328</td>\n",
       "      <td>1</td>\n",
       "      <td>cpc</td>\n",
       "      <td>mobile</td>\n",
       "      <td>Xiaomi</td>\n",
       "      <td>Chrome</td>\n",
       "      <td>1</td>\n",
       "      <td>2021</td>\n",
       "      <td>5</td>\n",
       "      <td>29</td>\n",
       "      <td>...</td>\n",
       "      <td>7.0</td>\n",
       "      <td>3.0</td>\n",
       "      <td>podpiska.sberauto.com/</td>\n",
       "      <td>sub_page_view</td>\n",
       "      <td>sub_landing</td>\n",
       "      <td>0.0</td>\n",
       "      <td>sub_page_view</td>\n",
       "      <td>sub_landing</td>\n",
       "      <td>2.0</td>\n",
       "      <td>1.0</td>\n",
       "    </tr>\n",
       "    <tr>\n",
       "      <th>4</th>\n",
       "      <td>9055447046360770272.1622255345.1622255345</td>\n",
       "      <td>2</td>\n",
       "      <td>cpc</td>\n",
       "      <td>mobile</td>\n",
       "      <td>Xiaomi</td>\n",
       "      <td>Chrome</td>\n",
       "      <td>1</td>\n",
       "      <td>2021</td>\n",
       "      <td>5</td>\n",
       "      <td>29</td>\n",
       "      <td>...</td>\n",
       "      <td>3.0</td>\n",
       "      <td>2.0</td>\n",
       "      <td>sberauto.com/cars?city=1&amp;rental_page=rental_on...</td>\n",
       "      <td>quiz</td>\n",
       "      <td>quiz_show</td>\n",
       "      <td>0.0</td>\n",
       "      <td>quiz</td>\n",
       "      <td>quiz_show</td>\n",
       "      <td>2.0</td>\n",
       "      <td>1.0</td>\n",
       "    </tr>\n",
       "  </tbody>\n",
       "</table>\n",
       "<p>5 rows × 25 columns</p>\n",
       "</div>"
      ],
      "text/plain": [
       "                                  session_id  visit_number utm_medium  \\\n",
       "0  9055434745589932991.1637753792.1637753792             1     banner   \n",
       "1   905544597018549464.1636867290.1636867290             1        cpm   \n",
       "2  9055446045651783499.1640648526.1640648526             1     banner   \n",
       "3  9055447046360770272.1622255328.1622255328             1        cpc   \n",
       "4  9055447046360770272.1622255345.1622255345             2        cpc   \n",
       "\n",
       "  device_category device_brand    device_browser  geo_country  year  month  \\\n",
       "0          mobile       Huawei            Chrome            1  2021     11   \n",
       "1          mobile      Samsung  Samsung Internet            1  2021     11   \n",
       "2          mobile       Huawei            Chrome            1  2021     12   \n",
       "3          mobile       Xiaomi            Chrome            1  2021      5   \n",
       "4          mobile       Xiaomi            Chrome            1  2021      5   \n",
       "\n",
       "   day  ...  last_hit_number  total_hits  \\\n",
       "0   24  ...              4.0         2.0   \n",
       "1   14  ...              3.0         1.0   \n",
       "2   28  ...             20.0        16.0   \n",
       "3   29  ...              7.0         3.0   \n",
       "4   29  ...              3.0         2.0   \n",
       "\n",
       "                                          entry_page  main_category  \\\n",
       "0                             podpiska.sberauto.com/  sub_page_view   \n",
       "1                             podpiska.sberauto.com/  sub_page_view   \n",
       "2  sberauto.com/cars?utm_source_initial=sbol&utm_...    search_form   \n",
       "3                             podpiska.sberauto.com/  sub_page_view   \n",
       "4  sberauto.com/cars?city=1&rental_page=rental_on...           quiz   \n",
       "\n",
       "          main_action  total_time  main_category_grouped main_action_grouped  \\\n",
       "0         sub_landing         2.0          sub_page_view         sub_landing   \n",
       "1         sub_landing         1.0          sub_page_view         sub_landing   \n",
       "2  search_form_region        16.0            search_form  search_form_region   \n",
       "3         sub_landing         0.0          sub_page_view         sub_landing   \n",
       "4           quiz_show         0.0                   quiz           quiz_show   \n",
       "\n",
       "  main_referer main_label  \n",
       "0         30.0        1.0  \n",
       "1         30.0        1.0  \n",
       "2         22.0       46.0  \n",
       "3          2.0        1.0  \n",
       "4          2.0        1.0  \n",
       "\n",
       "[5 rows x 25 columns]"
      ]
     },
     "execution_count": 59,
     "metadata": {},
     "output_type": "execute_result"
    }
   ],
   "source": [
    "data.head()"
   ]
  },
  {
   "cell_type": "code",
   "execution_count": null,
   "metadata": {},
   "outputs": [],
   "source": [
    "# inform(data)"
   ]
  },
  {
   "attachments": {},
   "cell_type": "markdown",
   "metadata": {},
   "source": [
    "visit_time"
   ]
  },
  {
   "cell_type": "code",
   "execution_count": 61,
   "metadata": {},
   "outputs": [
    {
     "data": {
      "image/png": "[encoded data removed]",
      "text/plain": [
       "<Figure size 1100x900 with 2 Axes>"
      ]
     },
     "metadata": {},
     "output_type": "display_data"
    }
   ],
   "source": [
    "len(data)\n",
    "\n",
    "non_date_columns_Train = data.select_dtypes(include=[np.number]).columns\n",
    "correlation_matrix = data[non_date_columns_Train].corr(method=\"pearson\")\n",
    "mask = np.triu(np.ones_like(correlation_matrix, dtype=bool))\n",
    "f, ax = plt.subplots(figsize=(11, 9))\n",
    "cmap = sns.diverging_palette(230, 20, as_cmap=True)\n",
    "sns.heatmap(\n",
    "    correlation_matrix,\n",
    "    mask=mask,\n",
    "    cmap=cmap,\n",
    "    vmax=0.3,\n",
    "    center=0,\n",
    "    square=True,\n",
    "    linewidths=0.5,\n",
    "    cbar_kws={\"shrink\": 0.5},\n",
    ")\n",
    "plt.title(\"Тренировочная матрица корреляции\")\n",
    "plt.show()"
   ]
  },
  {
   "cell_type": "code",
   "execution_count": 62,
   "metadata": {},
   "outputs": [
    {
     "name": "stdout",
     "output_type": "stream",
     "text": [
      "Информация о датасете:\n",
      "<class 'pandas.core.frame.DataFrame'>\n",
      "RangeIndex: 1860042 entries, 0 to 1860041\n",
      "Data columns (total 25 columns):\n",
      " #   Column                 Dtype   \n",
      "---  ------                 -----   \n",
      " 0   session_id             object  \n",
      " 1   visit_number           int16   \n",
      " 2   utm_medium             category\n",
      " 3   device_category        category\n",
      " 4   device_brand           category\n",
      " 5   device_browser         category\n",
      " 6   geo_country            uint8   \n",
      " 7   year                   int16   \n",
      " 8   month                  uint8   \n",
      " 9   day                    uint8   \n",
      " 10  utm_source_encoded     int16   \n",
      " 11  utm_campaign_encoded   int16   \n",
      " 12  device_model_encoded   uint8   \n",
      " 13  geo_city_grouped       category\n",
      " 14  first_hit_number       float64 \n",
      " 15  last_hit_number        float64 \n",
      " 16  total_hits             float64 \n",
      " 17  entry_page             category\n",
      " 18  main_category          category\n",
      " 19  main_action            category\n",
      " 20  total_time             float64 \n",
      " 21  main_category_grouped  category\n",
      " 22  main_action_grouped    category\n",
      " 23  main_referer           float64 \n",
      " 24  main_label             float64 \n",
      "dtypes: category(10), float64(6), int16(4), object(1), uint8(4)\n",
      "memory usage: 156.9+ MB\n",
      "\n",
      "==================================================\n",
      "\n",
      "Первые несколько строк датасета:\n"
     ]
    },
    {
     "data": {
      "text/html": [
       "<div>\n",
       "<style scoped>\n",
       "    .dataframe tbody tr th:only-of-type {\n",
       "        vertical-align: middle;\n",
       "    }\n",
       "\n",
       "    .dataframe tbody tr th {\n",
       "        vertical-align: top;\n",
       "    }\n",
       "\n",
       "    .dataframe thead th {\n",
       "        text-align: right;\n",
       "    }\n",
       "</style>\n",
       "<table border=\"1\" class=\"dataframe\">\n",
       "  <thead>\n",
       "    <tr style=\"text-align: right;\">\n",
       "      <th></th>\n",
       "      <th>session_id</th>\n",
       "      <th>visit_number</th>\n",
       "      <th>utm_medium</th>\n",
       "      <th>device_category</th>\n",
       "      <th>device_brand</th>\n",
       "      <th>device_browser</th>\n",
       "      <th>geo_country</th>\n",
       "      <th>year</th>\n",
       "      <th>month</th>\n",
       "      <th>day</th>\n",
       "      <th>...</th>\n",
       "      <th>last_hit_number</th>\n",
       "      <th>total_hits</th>\n",
       "      <th>entry_page</th>\n",
       "      <th>main_category</th>\n",
       "      <th>main_action</th>\n",
       "      <th>total_time</th>\n",
       "      <th>main_category_grouped</th>\n",
       "      <th>main_action_grouped</th>\n",
       "      <th>main_referer</th>\n",
       "      <th>main_label</th>\n",
       "    </tr>\n",
       "  </thead>\n",
       "  <tbody>\n",
       "    <tr>\n",
       "      <th>0</th>\n",
       "      <td>9055434745589932991.1637753792.1637753792</td>\n",
       "      <td>1</td>\n",
       "      <td>banner</td>\n",
       "      <td>mobile</td>\n",
       "      <td>Huawei</td>\n",
       "      <td>Chrome</td>\n",
       "      <td>1</td>\n",
       "      <td>2021</td>\n",
       "      <td>11</td>\n",
       "      <td>24</td>\n",
       "      <td>...</td>\n",
       "      <td>4.0</td>\n",
       "      <td>2.0</td>\n",
       "      <td>podpiska.sberauto.com/</td>\n",
       "      <td>sub_page_view</td>\n",
       "      <td>sub_landing</td>\n",
       "      <td>2.0</td>\n",
       "      <td>sub_page_view</td>\n",
       "      <td>sub_landing</td>\n",
       "      <td>30.0</td>\n",
       "      <td>1.0</td>\n",
       "    </tr>\n",
       "    <tr>\n",
       "      <th>1</th>\n",
       "      <td>905544597018549464.1636867290.1636867290</td>\n",
       "      <td>1</td>\n",
       "      <td>cpm</td>\n",
       "      <td>mobile</td>\n",
       "      <td>Samsung</td>\n",
       "      <td>Samsung Internet</td>\n",
       "      <td>1</td>\n",
       "      <td>2021</td>\n",
       "      <td>11</td>\n",
       "      <td>14</td>\n",
       "      <td>...</td>\n",
       "      <td>3.0</td>\n",
       "      <td>1.0</td>\n",
       "      <td>podpiska.sberauto.com/</td>\n",
       "      <td>sub_page_view</td>\n",
       "      <td>sub_landing</td>\n",
       "      <td>1.0</td>\n",
       "      <td>sub_page_view</td>\n",
       "      <td>sub_landing</td>\n",
       "      <td>30.0</td>\n",
       "      <td>1.0</td>\n",
       "    </tr>\n",
       "    <tr>\n",
       "      <th>2</th>\n",
       "      <td>9055446045651783499.1640648526.1640648526</td>\n",
       "      <td>1</td>\n",
       "      <td>banner</td>\n",
       "      <td>mobile</td>\n",
       "      <td>Huawei</td>\n",
       "      <td>Chrome</td>\n",
       "      <td>1</td>\n",
       "      <td>2021</td>\n",
       "      <td>12</td>\n",
       "      <td>28</td>\n",
       "      <td>...</td>\n",
       "      <td>20.0</td>\n",
       "      <td>16.0</td>\n",
       "      <td>sberauto.com/cars?utm_source_initial=sbol&amp;utm_...</td>\n",
       "      <td>search_form</td>\n",
       "      <td>search_form_region</td>\n",
       "      <td>16.0</td>\n",
       "      <td>search_form</td>\n",
       "      <td>search_form_region</td>\n",
       "      <td>22.0</td>\n",
       "      <td>46.0</td>\n",
       "    </tr>\n",
       "    <tr>\n",
       "      <th>3</th>\n",
       "      <td>9055447046360770272.1622255328.1622255328</td>\n",
       "      <td>1</td>\n",
       "      <td>cpc</td>\n",
       "      <td>mobile</td>\n",
       "      <td>Xiaomi</td>\n",
       "      <td>Chrome</td>\n",
       "      <td>1</td>\n",
       "      <td>2021</td>\n",
       "      <td>5</td>\n",
       "      <td>29</td>\n",
       "      <td>...</td>\n",
       "      <td>7.0</td>\n",
       "      <td>3.0</td>\n",
       "      <td>podpiska.sberauto.com/</td>\n",
       "      <td>sub_page_view</td>\n",
       "      <td>sub_landing</td>\n",
       "      <td>0.0</td>\n",
       "      <td>sub_page_view</td>\n",
       "      <td>sub_landing</td>\n",
       "      <td>2.0</td>\n",
       "      <td>1.0</td>\n",
       "    </tr>\n",
       "    <tr>\n",
       "      <th>4</th>\n",
       "      <td>9055447046360770272.1622255345.1622255345</td>\n",
       "      <td>2</td>\n",
       "      <td>cpc</td>\n",
       "      <td>mobile</td>\n",
       "      <td>Xiaomi</td>\n",
       "      <td>Chrome</td>\n",
       "      <td>1</td>\n",
       "      <td>2021</td>\n",
       "      <td>5</td>\n",
       "      <td>29</td>\n",
       "      <td>...</td>\n",
       "      <td>3.0</td>\n",
       "      <td>2.0</td>\n",
       "      <td>sberauto.com/cars?city=1&amp;rental_page=rental_on...</td>\n",
       "      <td>quiz</td>\n",
       "      <td>quiz_show</td>\n",
       "      <td>0.0</td>\n",
       "      <td>quiz</td>\n",
       "      <td>quiz_show</td>\n",
       "      <td>2.0</td>\n",
       "      <td>1.0</td>\n",
       "    </tr>\n",
       "  </tbody>\n",
       "</table>\n",
       "<p>5 rows × 25 columns</p>\n",
       "</div>"
      ],
      "text/plain": [
       "                                  session_id  visit_number utm_medium  \\\n",
       "0  9055434745589932991.1637753792.1637753792             1     banner   \n",
       "1   905544597018549464.1636867290.1636867290             1        cpm   \n",
       "2  9055446045651783499.1640648526.1640648526             1     banner   \n",
       "3  9055447046360770272.1622255328.1622255328             1        cpc   \n",
       "4  9055447046360770272.1622255345.1622255345             2        cpc   \n",
       "\n",
       "  device_category device_brand    device_browser  geo_country  year  month  \\\n",
       "0          mobile       Huawei            Chrome            1  2021     11   \n",
       "1          mobile      Samsung  Samsung Internet            1  2021     11   \n",
       "2          mobile       Huawei            Chrome            1  2021     12   \n",
       "3          mobile       Xiaomi            Chrome            1  2021      5   \n",
       "4          mobile       Xiaomi            Chrome            1  2021      5   \n",
       "\n",
       "   day  ...  last_hit_number  total_hits  \\\n",
       "0   24  ...              4.0         2.0   \n",
       "1   14  ...              3.0         1.0   \n",
       "2   28  ...             20.0        16.0   \n",
       "3   29  ...              7.0         3.0   \n",
       "4   29  ...              3.0         2.0   \n",
       "\n",
       "                                          entry_page  main_category  \\\n",
       "0                             podpiska.sberauto.com/  sub_page_view   \n",
       "1                             podpiska.sberauto.com/  sub_page_view   \n",
       "2  sberauto.com/cars?utm_source_initial=sbol&utm_...    search_form   \n",
       "3                             podpiska.sberauto.com/  sub_page_view   \n",
       "4  sberauto.com/cars?city=1&rental_page=rental_on...           quiz   \n",
       "\n",
       "          main_action  total_time  main_category_grouped main_action_grouped  \\\n",
       "0         sub_landing         2.0          sub_page_view         sub_landing   \n",
       "1         sub_landing         1.0          sub_page_view         sub_landing   \n",
       "2  search_form_region        16.0            search_form  search_form_region   \n",
       "3         sub_landing         0.0          sub_page_view         sub_landing   \n",
       "4           quiz_show         0.0                   quiz           quiz_show   \n",
       "\n",
       "  main_referer main_label  \n",
       "0         30.0        1.0  \n",
       "1         30.0        1.0  \n",
       "2         22.0       46.0  \n",
       "3          2.0        1.0  \n",
       "4          2.0        1.0  \n",
       "\n",
       "[5 rows x 25 columns]"
      ]
     },
     "metadata": {},
     "output_type": "display_data"
    },
    {
     "name": "stdout",
     "output_type": "stream",
     "text": [
      "\n",
      "==================================================\n",
      "\n",
      "Описательная статистика:\n"
     ]
    },
    {
     "data": {
      "text/html": [
       "<div>\n",
       "<style scoped>\n",
       "    .dataframe tbody tr th:only-of-type {\n",
       "        vertical-align: middle;\n",
       "    }\n",
       "\n",
       "    .dataframe tbody tr th {\n",
       "        vertical-align: top;\n",
       "    }\n",
       "\n",
       "    .dataframe thead th {\n",
       "        text-align: right;\n",
       "    }\n",
       "</style>\n",
       "<table border=\"1\" class=\"dataframe\">\n",
       "  <thead>\n",
       "    <tr style=\"text-align: right;\">\n",
       "      <th></th>\n",
       "      <th>visit_number</th>\n",
       "      <th>geo_country</th>\n",
       "      <th>year</th>\n",
       "      <th>month</th>\n",
       "      <th>day</th>\n",
       "      <th>utm_source_encoded</th>\n",
       "      <th>utm_campaign_encoded</th>\n",
       "      <th>device_model_encoded</th>\n",
       "      <th>first_hit_number</th>\n",
       "      <th>last_hit_number</th>\n",
       "      <th>total_hits</th>\n",
       "      <th>total_time</th>\n",
       "      <th>main_referer</th>\n",
       "      <th>main_label</th>\n",
       "    </tr>\n",
       "  </thead>\n",
       "  <tbody>\n",
       "    <tr>\n",
       "      <th>count</th>\n",
       "      <td>1.860042e+06</td>\n",
       "      <td>1.860042e+06</td>\n",
       "      <td>1860042.0</td>\n",
       "      <td>1.860042e+06</td>\n",
       "      <td>1.860042e+06</td>\n",
       "      <td>1.860042e+06</td>\n",
       "      <td>1.860042e+06</td>\n",
       "      <td>1.860042e+06</td>\n",
       "      <td>1.732266e+06</td>\n",
       "      <td>1.732266e+06</td>\n",
       "      <td>1.732266e+06</td>\n",
       "      <td>1.732266e+06</td>\n",
       "      <td>1.732266e+06</td>\n",
       "      <td>1.732266e+06</td>\n",
       "    </tr>\n",
       "    <tr>\n",
       "      <th>mean</th>\n",
       "      <td>2.712804e+00</td>\n",
       "      <td>9.680238e-01</td>\n",
       "      <td>2021.0</td>\n",
       "      <td>9.326662e+00</td>\n",
       "      <td>1.695666e+01</td>\n",
       "      <td>6.831434e+00</td>\n",
       "      <td>1.287514e+01</td>\n",
       "      <td>1.225108e+00</td>\n",
       "      <td>3.284639e+00</td>\n",
       "      <td>1.445757e+01</td>\n",
       "      <td>9.054740e+00</td>\n",
       "      <td>3.766752e+00</td>\n",
       "      <td>2.824396e+02</td>\n",
       "      <td>1.050796e+02</td>\n",
       "    </tr>\n",
       "    <tr>\n",
       "      <th>std</th>\n",
       "      <td>1.182907e+01</td>\n",
       "      <td>1.759366e-01</td>\n",
       "      <td>0.0</td>\n",
       "      <td>2.199771e+00</td>\n",
       "      <td>8.788403e+00</td>\n",
       "      <td>1.007466e+01</td>\n",
       "      <td>2.880207e+01</td>\n",
       "      <td>2.101418e+00</td>\n",
       "      <td>5.376028e+00</td>\n",
       "      <td>1.959534e+01</td>\n",
       "      <td>1.387727e+01</td>\n",
       "      <td>9.947141e+00</td>\n",
       "      <td>2.480100e+03</td>\n",
       "      <td>1.331849e+03</td>\n",
       "    </tr>\n",
       "    <tr>\n",
       "      <th>min</th>\n",
       "      <td>1.000000e+00</td>\n",
       "      <td>0.000000e+00</td>\n",
       "      <td>2021.0</td>\n",
       "      <td>5.000000e+00</td>\n",
       "      <td>1.000000e+00</td>\n",
       "      <td>1.000000e+00</td>\n",
       "      <td>1.000000e+00</td>\n",
       "      <td>1.000000e+00</td>\n",
       "      <td>1.000000e+00</td>\n",
       "      <td>1.000000e+00</td>\n",
       "      <td>1.000000e+00</td>\n",
       "      <td>0.000000e+00</td>\n",
       "      <td>1.000000e+00</td>\n",
       "      <td>1.000000e+00</td>\n",
       "    </tr>\n",
       "    <tr>\n",
       "      <th>25%</th>\n",
       "      <td>1.000000e+00</td>\n",
       "      <td>1.000000e+00</td>\n",
       "      <td>2021.0</td>\n",
       "      <td>8.000000e+00</td>\n",
       "      <td>1.000000e+01</td>\n",
       "      <td>1.000000e+00</td>\n",
       "      <td>2.000000e+00</td>\n",
       "      <td>1.000000e+00</td>\n",
       "      <td>2.000000e+00</td>\n",
       "      <td>3.000000e+00</td>\n",
       "      <td>1.000000e+00</td>\n",
       "      <td>0.000000e+00</td>\n",
       "      <td>2.000000e+00</td>\n",
       "      <td>1.000000e+00</td>\n",
       "    </tr>\n",
       "    <tr>\n",
       "      <th>50%</th>\n",
       "      <td>1.000000e+00</td>\n",
       "      <td>1.000000e+00</td>\n",
       "      <td>2021.0</td>\n",
       "      <td>1.000000e+01</td>\n",
       "      <td>1.700000e+01</td>\n",
       "      <td>3.000000e+00</td>\n",
       "      <td>3.000000e+00</td>\n",
       "      <td>1.000000e+00</td>\n",
       "      <td>3.000000e+00</td>\n",
       "      <td>8.000000e+00</td>\n",
       "      <td>4.000000e+00</td>\n",
       "      <td>0.000000e+00</td>\n",
       "      <td>2.000000e+00</td>\n",
       "      <td>1.000000e+00</td>\n",
       "    </tr>\n",
       "    <tr>\n",
       "      <th>75%</th>\n",
       "      <td>2.000000e+00</td>\n",
       "      <td>1.000000e+00</td>\n",
       "      <td>2021.0</td>\n",
       "      <td>1.100000e+01</td>\n",
       "      <td>2.400000e+01</td>\n",
       "      <td>8.000000e+00</td>\n",
       "      <td>7.000000e+00</td>\n",
       "      <td>1.000000e+00</td>\n",
       "      <td>3.000000e+00</td>\n",
       "      <td>1.800000e+01</td>\n",
       "      <td>1.100000e+01</td>\n",
       "      <td>2.000000e+00</td>\n",
       "      <td>3.000000e+01</td>\n",
       "      <td>1.000000e+00</td>\n",
       "    </tr>\n",
       "    <tr>\n",
       "      <th>max</th>\n",
       "      <td>5.640000e+02</td>\n",
       "      <td>1.000000e+00</td>\n",
       "      <td>2021.0</td>\n",
       "      <td>1.200000e+01</td>\n",
       "      <td>3.100000e+01</td>\n",
       "      <td>2.930000e+02</td>\n",
       "      <td>4.120000e+02</td>\n",
       "      <td>1.040000e+02</td>\n",
       "      <td>4.930000e+02</td>\n",
       "      <td>5.000000e+02</td>\n",
       "      <td>7.680000e+02</td>\n",
       "      <td>4.960000e+02</td>\n",
       "      <td>3.787400e+04</td>\n",
       "      <td>3.841000e+04</td>\n",
       "    </tr>\n",
       "  </tbody>\n",
       "</table>\n",
       "</div>"
      ],
      "text/plain": [
       "       visit_number   geo_country       year         month           day  \\\n",
       "count  1.860042e+06  1.860042e+06  1860042.0  1.860042e+06  1.860042e+06   \n",
       "mean   2.712804e+00  9.680238e-01     2021.0  9.326662e+00  1.695666e+01   \n",
       "std    1.182907e+01  1.759366e-01        0.0  2.199771e+00  8.788403e+00   \n",
       "min    1.000000e+00  0.000000e+00     2021.0  5.000000e+00  1.000000e+00   \n",
       "25%    1.000000e+00  1.000000e+00     2021.0  8.000000e+00  1.000000e+01   \n",
       "50%    1.000000e+00  1.000000e+00     2021.0  1.000000e+01  1.700000e+01   \n",
       "75%    2.000000e+00  1.000000e+00     2021.0  1.100000e+01  2.400000e+01   \n",
       "max    5.640000e+02  1.000000e+00     2021.0  1.200000e+01  3.100000e+01   \n",
       "\n",
       "       utm_source_encoded  utm_campaign_encoded  device_model_encoded  \\\n",
       "count        1.860042e+06          1.860042e+06          1.860042e+06   \n",
       "mean         6.831434e+00          1.287514e+01          1.225108e+00   \n",
       "std          1.007466e+01          2.880207e+01          2.101418e+00   \n",
       "min          1.000000e+00          1.000000e+00          1.000000e+00   \n",
       "25%          1.000000e+00          2.000000e+00          1.000000e+00   \n",
       "50%          3.000000e+00          3.000000e+00          1.000000e+00   \n",
       "75%          8.000000e+00          7.000000e+00          1.000000e+00   \n",
       "max          2.930000e+02          4.120000e+02          1.040000e+02   \n",
       "\n",
       "       first_hit_number  last_hit_number    total_hits    total_time  \\\n",
       "count      1.732266e+06     1.732266e+06  1.732266e+06  1.732266e+06   \n",
       "mean       3.284639e+00     1.445757e+01  9.054740e+00  3.766752e+00   \n",
       "std        5.376028e+00     1.959534e+01  1.387727e+01  9.947141e+00   \n",
       "min        1.000000e+00     1.000000e+00  1.000000e+00  0.000000e+00   \n",
       "25%        2.000000e+00     3.000000e+00  1.000000e+00  0.000000e+00   \n",
       "50%        3.000000e+00     8.000000e+00  4.000000e+00  0.000000e+00   \n",
       "75%        3.000000e+00     1.800000e+01  1.100000e+01  2.000000e+00   \n",
       "max        4.930000e+02     5.000000e+02  7.680000e+02  4.960000e+02   \n",
       "\n",
       "       main_referer    main_label  \n",
       "count  1.732266e+06  1.732266e+06  \n",
       "mean   2.824396e+02  1.050796e+02  \n",
       "std    2.480100e+03  1.331849e+03  \n",
       "min    1.000000e+00  1.000000e+00  \n",
       "25%    2.000000e+00  1.000000e+00  \n",
       "50%    2.000000e+00  1.000000e+00  \n",
       "75%    3.000000e+01  1.000000e+00  \n",
       "max    3.787400e+04  3.841000e+04  "
      ]
     },
     "metadata": {},
     "output_type": "display_data"
    },
    {
     "name": "stdout",
     "output_type": "stream",
     "text": [
      "\n",
      "==================================================\n",
      "\n",
      "Количество пропусков\n",
      "session_id: 0\n",
      "visit_number: 0\n",
      "utm_medium: 0\n",
      "device_category: 0\n",
      "device_brand: 0\n",
      "device_browser: 0\n",
      "geo_country: 0\n",
      "year: 0\n",
      "month: 0\n",
      "day: 0\n",
      "utm_source_encoded: 0\n",
      "utm_campaign_encoded: 0\n",
      "device_model_encoded: 0\n",
      "geo_city_grouped: 0\n",
      "first_hit_number: 127776\n",
      "last_hit_number: 127776\n",
      "total_hits: 127776\n",
      "entry_page: 127776\n",
      "main_category: 127776\n",
      "main_action: 127776\n",
      "total_time: 127776\n",
      "main_category_grouped: 127776\n",
      "main_action_grouped: 127776\n",
      "main_referer: 127776\n",
      "main_label: 127776\n",
      "\n",
      "==================================================\n",
      "\n"
     ]
    },
    {
     "data": {
      "text/plain": [
       "'Количествово дубликатов:0'"
      ]
     },
     "metadata": {},
     "output_type": "display_data"
    },
    {
     "name": "stdout",
     "output_type": "stream",
     "text": [
      "\n",
      "==================================================\n",
      "\n",
      "Количество уникальных значений\n",
      "session_id: 1860042\n",
      "visit_number: 537\n",
      "utm_medium: 55\n",
      "device_category: 3\n",
      "device_brand: 205\n",
      "device_browser: 57\n",
      "geo_country: 2\n",
      "year: 1\n",
      "month: 8\n",
      "day: 31\n",
      "utm_source_encoded: 293\n",
      "utm_campaign_encoded: 412\n",
      "device_model_encoded: 104\n",
      "geo_city_grouped: 11\n",
      "first_hit_number: 298\n",
      "last_hit_number: 437\n",
      "total_hits: 347\n",
      "entry_page: 209101\n",
      "main_category: 37\n",
      "main_action: 164\n",
      "total_time: 282\n",
      "main_category_grouped: 11\n",
      "main_action_grouped: 18\n",
      "main_referer: 21864\n",
      "main_label: 2414\n"
     ]
    }
   ],
   "source": [
    "inform(data)"
   ]
  },
  {
   "cell_type": "code",
   "execution_count": 82,
   "metadata": {},
   "outputs": [],
   "source": [
    "data[\"first_hit_number\"] = data[\"first_hit_number\"].fillna(0)\n",
    "data[\"first_hit_number\"] = data[\"first_hit_number\"].astype(\"int32\")\n",
    "data[\"last_hit_number\"] = data[\"last_hit_number\"].fillna(0)\n",
    "data[\"last_hit_number\"] = data[\"last_hit_number\"].astype(\"int32\")\n",
    "data[\"total_hits\"] = data[\"total_hits\"].fillna(0)\n",
    "data[\"total_hits\"] = data[\"total_hits\"].astype(\"int32\")\n",
    "data[\"total_time\"] = data[\"total_time\"].fillna(0)\n",
    "data[\"total_time\"] = data[\"total_time\"].astype(\"int32\")\n",
    "data[\"main_referer\"] = data[\"main_referer\"].fillna(0)\n",
    "data[\"main_referer\"] = data[\"main_referer\"].astype(\"int32\")\n",
    "data[\"main_label\"] = data[\"main_label\"].fillna(0)\n",
    "data[\"main_label\"] = data[\"main_label\"].astype(\"int32\")\n",
    "\n",
    "data[\"entry_page\"] = data[\"entry_page\"].astype(str)\n",
    "data[\"entry_page\"] = data[\"entry_page\"].fillna(0)\n",
    "data[\"entry_page\"] = data[\"entry_page\"].astype(\"category\")\n",
    "data[\"main_category\"] = data[\"main_category\"].astype(str)\n",
    "data[\"main_category\"] = data[\"main_category\"].fillna(0)\n",
    "data[\"main_category\"] = data[\"main_category\"].astype(\"category\")\n",
    "data[\"main_action\"] = data[\"main_action\"].astype(str)\n",
    "data[\"main_action\"] = data[\"main_action\"].fillna(0)\n",
    "data[\"main_action\"] = data[\"main_action\"].astype(\"category\")\n",
    "data[\"main_category_grouped\"] = data[\"main_category_grouped\"].astype(str)\n",
    "data[\"main_category_grouped\"] = data[\"main_category_grouped\"].fillna(0)\n",
    "data[\"main_category_grouped\"] = data[\"main_category_grouped\"].astype(\"category\")\n",
    "data[\"main_action_grouped\"] = data[\"main_action_grouped\"].astype(str)\n",
    "data[\"main_action_grouped\"] = data[\"main_action_grouped\"].fillna(0)\n",
    "data[\"main_action_grouped\"] = data[\"main_action_grouped\"].astype(\"category\")"
   ]
  },
  {
   "cell_type": "code",
   "execution_count": 64,
   "metadata": {},
   "outputs": [],
   "source": [
    "from warnings import simplefilter\n",
    "\n",
    "simplefilter(action=\"ignore\", category=FutureWarning)\n",
    "simplefilter(action=\"ignore\", category=UserWarning)"
   ]
  },
  {
   "cell_type": "markdown",
   "metadata": {},
   "source": []
  },
  {
   "cell_type": "code",
   "execution_count": 83,
   "metadata": {},
   "outputs": [],
   "source": [
    "# 1. Функция для уменьшения кардинальности категориальных признаков\n",
    "def reduce_cardinality(df, categorical_features, max_categories=50):\n",
    "    \"\"\"Уменьшает количество категорий для высококардинальных признаков\"\"\"\n",
    "    df = df.copy()\n",
    "    for col in categorical_features:\n",
    "        if col in df.columns and df[col].nunique() > max_categories:\n",
    "            top_categories = df[col].value_counts().nlargest(max_categories - 1).index\n",
    "            df[col] = np.where(df[col].isin(top_categories), df[col], \"OTHER\")\n",
    "    return df\n",
    "\n",
    "\n",
    "# 2. Определение типов признаков\n",
    "numeric_features = [\n",
    "    \"visit_number\",\n",
    "    \"year\",\n",
    "    \"month\",\n",
    "    \"day\",\n",
    "    \"utm_source_encoded\",\n",
    "    \"utm_campaign_encoded\",\n",
    "    # 'utm_adcontent_encoded',\n",
    "    # 'utm_keyword_encoded',\n",
    "    \"device_model_encoded\",\n",
    "    \"first_hit_number\",\n",
    "    \"last_hit_number\",\n",
    "    \"total_hits\",\n",
    "    \"total_time\",\n",
    "    \"main_referer\",\n",
    "    \"main_label\",\n",
    "]\n",
    "\n",
    "categorical_features = [\n",
    "    \"utm_medium\",\n",
    "    \"device_category\",\n",
    "    # 'device_os',\n",
    "    \"device_brand\",\n",
    "    # 'device_screen_resolution',\n",
    "    \"device_browser\",\n",
    "    \"geo_country\",\n",
    "    \"geo_city_grouped\",\n",
    "    \"entry_page\",\n",
    "    \"main_category\",\n",
    "    \"main_category_grouped\",\n",
    "    \"main_action_grouped\",\n",
    "]\n",
    "\n",
    "# 3. Пайплайн для числовых признаков\n",
    "numeric_pipeline = Pipeline(\n",
    "    [\n",
    "        (\"imputer\", SimpleImputer(strategy=\"median\")),\n",
    "        (\"scaler\", StandardScaler()),\n",
    "        (\n",
    "            \"discretizer\",\n",
    "            KBinsDiscretizer(n_bins=10, encode=\"ordinal\", strategy=\"quantile\"),\n",
    "        ),\n",
    "    ]\n",
    ")\n",
    "\n",
    "# 4. Пайплайн для категориальных признаков\n",
    "categorical_pipeline = Pipeline(\n",
    "    [\n",
    "        (\"imputer\", SimpleImputer(strategy=\"constant\", fill_value=\"unknown\")),\n",
    "        (\n",
    "            \"encoder\",\n",
    "            OrdinalEncoder(handle_unknown=\"use_encoded_value\", unknown_value=-1),\n",
    "        ),\n",
    "    ]\n",
    ")\n",
    "\n",
    "# 5. Общий препроцессор\n",
    "preprocessor = ColumnTransformer(\n",
    "    [\n",
    "        (\"numeric\", numeric_pipeline, numeric_features),\n",
    "        (\"categorical\", categorical_pipeline, categorical_features),\n",
    "    ],\n",
    "    remainder=\"drop\",\n",
    ")\n",
    "\n",
    "# 6. Финальный пайплайн с классификатором\n",
    "model_pipeline = Pipeline(\n",
    "    [\n",
    "        (\"preprocessor\", preprocessor),\n",
    "        (\"classifier\", HistGradientBoostingClassifier(random_state=42)),\n",
    "    ]\n",
    ")"
   ]
  },
  {
   "cell_type": "code",
   "execution_count": 84,
   "metadata": {},
   "outputs": [
    {
     "name": "stdout",
     "output_type": "stream",
     "text": [
      "Train accuracy: 0.415, Test accuracy: 0.411\n",
      "Использовано 132 классов из 165\n",
      "Первые 10 предсказаний: ['sub_landing' 'sub_landing' 'search_form_search_btn' 'nan' 'nan'\n",
      " 'search_form_cost_to' 'view_new_card' 'search_form_search_btn'\n",
      " 'sub_landing' 'sub_landing']\n"
     ]
    }
   ],
   "source": [
    "# 1. Функция для фильтрации редких классов\n",
    "def filter_rare_classes(y, min_samples=2):\n",
    "    \"\"\"Удаляет классы с количеством образцов меньше min_samples\"\"\"\n",
    "    value_counts = y.value_counts()\n",
    "    rare_classes = value_counts[value_counts < min_samples].index\n",
    "    return y[~y.isin(rare_classes)]\n",
    "\n",
    "\n",
    "# 2. Модифицированная функция обучения\n",
    "def train_model(data, target_column, min_class_samples=5):\n",
    "    \"\"\"Обучает модель с фильтрацией редких классов\"\"\"\n",
    "    # Уменьшаем кардинальность категориальных признаков\n",
    "    data = reduce_cardinality(data, categorical_features)\n",
    "\n",
    "    # Преобразуем категориальные колонки в правильный тип\n",
    "    for col in categorical_features:\n",
    "        if col in data.columns:\n",
    "            data[col] = data[col].astype(\"category\")\n",
    "\n",
    "    # Разделяем на признаки и целевую переменную\n",
    "    X = data.drop(columns=[target_column, \"session_id\"], errors=\"ignore\")\n",
    "    y = data[target_column]\n",
    "\n",
    "    # Фильтруем редкие классы\n",
    "    mask = y.isin(filter_rare_classes(y, min_samples=min_class_samples))\n",
    "    X_filtered = X[mask]\n",
    "    y_filtered = y[mask]\n",
    "\n",
    "    # Разделяем на train/test\n",
    "    X_train, X_test, y_train, y_test = train_test_split(\n",
    "        X_filtered, y_filtered, test_size=0.2, random_state=42, stratify=y_filtered\n",
    "    )\n",
    "\n",
    "    # Определяем индексы категориальных признаков\n",
    "    preprocessor.fit(X_train)\n",
    "    categorical_indices = list(\n",
    "        range(len(numeric_features), len(numeric_features) + len(categorical_features))\n",
    "    )\n",
    "\n",
    "    # Настраиваем и обучаем модель\n",
    "    model_pipeline.set_params(\n",
    "        classifier__categorical_features=categorical_indices,\n",
    "        classifier__class_weight=\"balanced\",  # Для несбалансированных данных\n",
    "    )\n",
    "\n",
    "    model_pipeline.fit(X_train, y_train)\n",
    "\n",
    "    # Оценка качества\n",
    "    train_score = model_pipeline.score(X_train, y_train)\n",
    "    test_score = model_pipeline.score(X_test, y_test)\n",
    "    print(f\"Train accuracy: {train_score:.3f}, Test accuracy: {test_score:.3f}\")\n",
    "    print(f\"Использовано {len(np.unique(y_filtered))} классов из {len(np.unique(y))}\")\n",
    "\n",
    "    return model_pipeline\n",
    "\n",
    "\n",
    "# Пример использования\n",
    "if __name__ == \"__main__\":\n",
    "\n",
    "    # Обучение модели с фильтрацией редких классов (минимум 5 образцов на класс)\n",
    "    trained_pipeline = train_model(data, \"main_action\", min_class_samples=5)\n",
    "\n",
    "    # Предсказания (только для известных классов)\n",
    "    predictions = trained_pipeline.predict(data)\n",
    "    print(\"Первые 10 предсказаний:\", predictions[:10])"
   ]
  },
  {
   "cell_type": "code",
   "execution_count": 85,
   "metadata": {},
   "outputs": [
    {
     "name": "stdout",
     "output_type": "stream",
     "text": [
      "Распределение классов:\n",
      "main_action\n",
      "sub_landing              735696\n",
      "view_card                398586\n",
      "view_new_card            189083\n",
      "nan                      127776\n",
      "sub_view_cars_click       79692\n",
      "                          ...  \n",
      "click_sell                    1\n",
      "show_captha_error             1\n",
      "forward_to_to_publish         1\n",
      "forward_to_preview            1\n",
      "read_more                     1\n",
      "Name: count, Length: 165, dtype: int64\n"
     ]
    }
   ],
   "source": [
    "print(\"Распределение классов:\")\n",
    "print(data[\"main_action\"].value_counts())"
   ]
  },
  {
   "cell_type": "code",
   "execution_count": null,
   "metadata": {},
   "outputs": [],
   "source": [
    "# %pip install --upgrade dask scikit-learn catboost"
   ]
  },
  {
   "cell_type": "code",
   "execution_count": 91,
   "metadata": {},
   "outputs": [
    {
     "name": "stdout",
     "output_type": "stream",
     "text": [
      "Train ROC-AUC: 0.6246, Test ROC-AUC: 0.6186\n",
      "Использовано 132 классов из 165\n",
      "Модель успешно сохранена в файл: lgbm_model.pkl\n"
     ]
    }
   ],
   "source": [
    "# 1. Функция для уменьшения кардинальности категориальных признаков (без изменений)\n",
    "def reduce_cardinality(df, categorical_features, max_categories=50):\n",
    "    \"\"\"Уменьшает количество категорий для высококардинальных признаков\"\"\"\n",
    "    df = df.copy()\n",
    "    for col in categorical_features:\n",
    "        if col in df.columns and df[col].nunique() > max_categories:\n",
    "            top_categories = df[col].value_counts().nlargest(max_categories - 1).index\n",
    "            df[col] = np.where(df[col].isin(top_categories), df[col], \"OTHER\")\n",
    "    return df\n",
    "\n",
    "\n",
    "# 2. Функция для фильтрации редких классов (без изменений)\n",
    "def filter_rare_classes(y, min_samples=2):\n",
    "    \"\"\"Удаляет классы с количеством образцов меньше min_samples\"\"\"\n",
    "    value_counts = y.value_counts()\n",
    "    rare_classes = value_counts[value_counts < min_samples].index\n",
    "    return y[~y.isin(rare_classes)]\n",
    "\n",
    "\n",
    "# 3. Определение типов признаков (без изменений)\n",
    "numeric_features = [\n",
    "    \"visit_number\",\n",
    "    \"year\",\n",
    "    \"month\",\n",
    "    \"day\",\n",
    "    \"utm_source_encoded\",\n",
    "    \"utm_campaign_encoded\",  #'utm_adcontent_encoded', 'utm_keyword_encoded',\n",
    "    \"device_model_encoded\",\n",
    "    \"first_hit_number\",\n",
    "    \"last_hit_number\",\n",
    "    \"total_hits\",\n",
    "    \"total_time\",\n",
    "    \"main_referer\",\n",
    "    \"geo_country\",\n",
    "    \"main_label\",\n",
    "]\n",
    "\n",
    "categorical_features = [\n",
    "    \"utm_medium\",\n",
    "    \"device_category\",  #'device_os',\n",
    "    \"device_brand\",\n",
    "    #'device_screen_resolution',\n",
    "    \"device_browser\",\n",
    "    \"geo_city_grouped\",\n",
    "    \"entry_page\",\n",
    "    \"main_category\",\n",
    "    \"main_category_grouped\",\n",
    "    \"main_action_grouped\",\n",
    "]\n",
    "\n",
    "\n",
    "# 4. Модифицированная функция обучения с LGBM и сохранением модели\n",
    "def train_and_save_lgbm_model(\n",
    "    data, target_column, output_file=\"model.pkl\", min_class_samples=5\n",
    "):\n",
    "    \"\"\"Обучает LGBM модель с оптимизацией памяти и сохраняет в файл\"\"\"\n",
    "    # Уменьшаем кардинальность категориальных признаков\n",
    "    data = reduce_cardinality(data, categorical_features)\n",
    "\n",
    "    # Преобразуем категориальные колонки в правильный тип\n",
    "    for col in categorical_features:\n",
    "        if col in data.columns:\n",
    "            data[col] = data[col].astype(\"category\")\n",
    "\n",
    "    # Разделяем на признаки и целевую переменную\n",
    "    X = data.drop(columns=[target_column, \"session_id\"], errors=\"ignore\")\n",
    "    y = data[target_column]\n",
    "\n",
    "    # Фильтруем редкие классы\n",
    "    mask = y.isin(filter_rare_classes(y, min_samples=min_class_samples))\n",
    "    X_filtered = X[mask].copy()\n",
    "    y_filtered = y[mask].copy()\n",
    "\n",
    "    # Освобождаем память\n",
    "    del X, y, mask\n",
    "    gc.collect()\n",
    "\n",
    "    # Разделяем на train/test\n",
    "    X_train, X_test, y_train, y_test = train_test_split(\n",
    "        X_filtered, y_filtered, test_size=0.2, random_state=42, stratify=y_filtered\n",
    "    )\n",
    "\n",
    "    # Создаем пайплайны с оптимизацией памяти\n",
    "    numeric_transformer = Pipeline(\n",
    "        [(\"imputer\", SimpleImputer(strategy=\"median\")), (\"scaler\", StandardScaler())]\n",
    "    )\n",
    "\n",
    "    categorical_transformer = Pipeline(\n",
    "        [\n",
    "            (\"imputer\", SimpleImputer(strategy=\"constant\", fill_value=\"unknown\")),\n",
    "            (\n",
    "                \"encoder\",\n",
    "                OrdinalEncoder(handle_unknown=\"use_encoded_value\", unknown_value=-1),\n",
    "            ),\n",
    "        ]\n",
    "    )\n",
    "\n",
    "    preprocessor = ColumnTransformer(\n",
    "        [\n",
    "            (\"numeric\", numeric_transformer, numeric_features),\n",
    "            (\"categorical\", categorical_transformer, categorical_features),\n",
    "        ],\n",
    "        remainder=\"drop\",\n",
    "    )\n",
    "\n",
    "    # Инициализация LGBM с параметрами для экономии памяти\n",
    "    lgbm_params = {\n",
    "        \"random_state\": 42,\n",
    "        \"n_estimators\": 150,\n",
    "        \"learning_rate\": 0.2,\n",
    "        \"max_depth\": 9,\n",
    "        \"num_leaves\": 31,\n",
    "        \"subsample\": 0.8,\n",
    "        \"colsample_bytree\": 0.8,\n",
    "        \"reg_alpha\": 0.1,\n",
    "        \"reg_lambda\": 0.1,\n",
    "        \"n_jobs\": -1,\n",
    "        \"verbose\": -1,\n",
    "    }\n",
    "\n",
    "    # Определяем пространство параметров для поиска\n",
    "    param_grid = {\n",
    "        # Основные параметры\n",
    "        \"objective\": [\"binary\", \"multiclass\"],  # Автоматически определится по данным\n",
    "        \"boosting_type\": [\"gbdt\", \"dart\"],  # 'goss' и 'rf' тоже можно попробовать\n",
    "        # Параметры сложности модели\n",
    "        \"n_estimators\": [100],  # Количество деревьев\n",
    "        \"learning_rate\": [0.05, 0.1, 0.2],  # Скорость обучения\n",
    "        \"max_depth\": [5, 7, 9],  # -1 означает без ограничения\n",
    "        \"num_leaves\": [31, 63, 127],  # Должно быть <= 2^max_depth\n",
    "        # Параметры регуляризации\n",
    "        \"reg_alpha\": [0, 0.1, 0.5],  # L1 регуляризация\n",
    "        \"reg_lambda\": [0, 0.1, 0.5],  # L2 регуляризация\n",
    "        \"min_child_samples\": [10, 20],  # Минимальное количество данных в листе\n",
    "        # Параметры подвыборки\n",
    "        \"subsample\": [0.6, 0.8, 1.0],  # Доля случайных строк\n",
    "        \"colsample_bytree\": [0.6, 0.8, 1.0],  # Доля признаков\n",
    "        \"subsample_freq\": [0, 5, 7],  # Частота подвыборки строк\n",
    "        # Категориальные признаки\n",
    "        \"categorical_feature\": [None],  # Автоматически определится\n",
    "        \"max_cat_to_onehot\": [4, 10],  # Порог для one-hot кодирования\n",
    "        # Другие параметры\n",
    "        #'class_weight': [None, 'balanced'],  # Для несбалансированных данных\n",
    "        \"importance_type\": [\"split\", \"gain\"],  # Тип важности признаков\n",
    "    }\n",
    "\n",
    "    # Создаем базовую модель\n",
    "    lgbm = LGBMClassifier(random_state=42, n_jobs=-1, verbose=-1)\n",
    "\n",
    "    # Создаем GridSearchCV объект\n",
    "    # grid_search = GridSearchCV(\n",
    "    #    estimator=lgbm,\n",
    "    #    param_grid=param_grid,\n",
    "    #    scoring='roc_auc',  # Или другая метрика\n",
    "    #    cv=2,  # Количество фолдов\n",
    "    #    n_jobs=-1,  # Использовать все ядра\n",
    "    #    verbose=1\n",
    "    # )\n",
    "\n",
    "    # Встраиваем в пайплайн\n",
    "    # model_pipeline = Pipeline([\n",
    "    #    ('preprocessor', preprocessor),\n",
    "    #    ('grid_search', grid_search)\n",
    "    # ])\n",
    "\n",
    "    # Обучение с поиском параметров\n",
    "    # model_pipeline.fit(X_train, y_train)\n",
    "\n",
    "    # Лучшие параметры\n",
    "    # print(\"Лучшие параметры:\", grid_search.best_params_)\n",
    "    # print(\"Лучший ROC-AUC:\", grid_search.best_score_)\n",
    "\n",
    "    # Сохранение лучшей модели\n",
    "    # best_model = grid_search.best_estimator_\n",
    "\n",
    "    # Для многоклассовой классификации\n",
    "    if len(y_train.unique()) > 2:\n",
    "        lgbm_params[\"objective\"] = \"multiclass\"\n",
    "        lgbm_params[\"metric\"] = \"multi_logloss\"\n",
    "    else:\n",
    "        lgbm_params[\"objective\"] = \"binary\"\n",
    "        lgbm_params[\"metric\"] = \"auc\"\n",
    "\n",
    "    model_pipeline = Pipeline(\n",
    "        [(\"preprocessor\", preprocessor), (\"classifier\", LGBMClassifier(**lgbm_params))]\n",
    "    )\n",
    "\n",
    "    # Обучаем модель\n",
    "    model_pipeline.fit(X_train, y_train)\n",
    "\n",
    "    # Оценка качества\n",
    "    if len(y_train.unique()) > 2:\n",
    "        y_train_pred = model_pipeline.predict_proba(X_train)\n",
    "        y_test_pred = model_pipeline.predict_proba(X_test)\n",
    "        train_score = roc_auc_score(y_train, y_train_pred, multi_class=\"ovr\")\n",
    "        test_score = roc_auc_score(y_test, y_test_pred, multi_class=\"ovr\")\n",
    "    else:\n",
    "        y_train_pred = model_pipeline.predict_proba(X_train)[:, 1]\n",
    "        y_test_pred = model_pipeline.predict_proba(X_test)[:, 1]\n",
    "        train_score = roc_auc_score(y_train, y_train_pred)\n",
    "        test_score = roc_auc_score(y_test, y_test_pred)\n",
    "\n",
    "    print(f\"Train ROC-AUC: {train_score:.4f}, Test ROC-AUC: {test_score:.4f}\")\n",
    "    print(\n",
    "        f\"Использовано {len(y_filtered.unique())} классов из {len(data[target_column].unique())}\"\n",
    "    )\n",
    "\n",
    "    # Сохранение модели в файл\n",
    "    with open(output_file, \"wb\") as f:\n",
    "        pickle.dump(model_pipeline, f)\n",
    "\n",
    "    print(f\"Модель успешно сохранена в файл: {output_file}\")\n",
    "\n",
    "    return model_pipeline\n",
    "\n",
    "\n",
    "# Пример использования\n",
    "if __name__ == \"__main__\":\n",
    "\n",
    "    # Обучение модели LGBM и сохранение\n",
    "    model = train_and_save_lgbm_model(\n",
    "        data,\n",
    "        target_column=\"main_action\",\n",
    "        output_file=\"lgbm_model.pkl\",\n",
    "        min_class_samples=5,\n",
    "    )\n",
    "\n",
    "    # Пример загрузки модели из файла\n",
    "    # with open('lgbm_model.pkl', 'rb') as f:\n",
    "    #     loaded_model = pickle.load(f)\n",
    "\n",
    "    # Предсказания (только для известных классов)\n",
    "    predictions = model.predict(data)\n",
    "    print(\"Первые 10 предсказаний:\", predictions)"
   ]
  },
  {
   "cell_type": "code",
   "execution_count": null,
   "metadata": {},
   "outputs": [],
   "source": []
  },
  {
   "cell_type": "code",
   "execution_count": null,
   "metadata": {},
   "outputs": [],
   "source": []
  }
 ],
 "metadata": {
  "kernelspec": {
   "display_name": "Python 3",
   "language": "python",
   "name": "python3"
  },
  "language_info": {
   "codemirror_mode": {
    "name": "ipython",
    "version": 3
   },
   "file_extension": ".py",
   "mimetype": "text/x-python",
   "name": "python",
   "nbconvert_exporter": "python",
   "pygments_lexer": "ipython3",
   "version": "3.11.5"
  },
  "orig_nbformat": 4
 },
 "nbformat": 4,
 "nbformat_minor": 2
}
